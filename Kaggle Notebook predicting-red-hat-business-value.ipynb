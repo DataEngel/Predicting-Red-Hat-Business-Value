{
 "cells": [
  {
   "cell_type": "markdown",
   "metadata": {
    "papermill": {
     "duration": 0.022283,
     "end_time": "2021-03-17T17:53:40.242291",
     "exception": false,
     "start_time": "2021-03-17T17:53:40.220008",
     "status": "completed"
    },
    "tags": []
   },
   "source": [
    "# Content\n",
    "\n",
    "<div class=\"alert alert-block alert-warning\" style=\"margin-top: 20px\">\n",
    "    <ol>\n",
    "        <li><a href=\"#ingenieria\">Data Engineering</a></li>          \n",
    "        <li><a href=\"#arquitectura\">Proposed architecture</a></li>\n",
    "        <li><a href=\"#evaluaion\">Model evaluation</a></li>\n",
    "    </ol>\n",
    "</div>\n",
    "<br>\n",
    "<hr> "
   ]
  },
  {
   "cell_type": "code",
   "execution_count": 1,
   "metadata": {
    "_cell_guid": "b1076dfc-b9ad-4769-8c92-a6c4dae69d19",
    "_uuid": "8f2839f25d086af736a60e9eeb907d3b93b6e0e5",
    "execution": {
     "iopub.execute_input": "2021-03-17T17:53:40.290957Z",
     "iopub.status.busy": "2021-03-17T17:53:40.290297Z",
     "iopub.status.idle": "2021-03-17T17:53:40.294361Z",
     "shell.execute_reply": "2021-03-17T17:53:40.293515Z"
    },
    "papermill": {
     "duration": 0.030901,
     "end_time": "2021-03-17T17:53:40.294575",
     "exception": false,
     "start_time": "2021-03-17T17:53:40.263674",
     "status": "completed"
    },
    "tags": []
   },
   "outputs": [],
   "source": [
    "# Import the libraries\n",
    "\n",
    "import pandas as pd\n",
    "import numpy as np\n",
    "import io "
   ]
  },
  {
   "cell_type": "code",
   "execution_count": 2,
   "metadata": {
    "execution": {
     "iopub.execute_input": "2021-03-17T17:53:40.342441Z",
     "iopub.status.busy": "2021-03-17T17:53:40.341169Z",
     "iopub.status.idle": "2021-03-17T17:53:41.985584Z",
     "shell.execute_reply": "2021-03-17T17:53:41.986144Z"
    },
    "papermill": {
     "duration": 1.670592,
     "end_time": "2021-03-17T17:53:41.986326",
     "exception": false,
     "start_time": "2021-03-17T17:53:40.315734",
     "status": "completed"
    },
    "tags": []
   },
   "outputs": [
    {
     "data": {
      "text/html": [
       "<div>\n",
       "<style scoped>\n",
       "    .dataframe tbody tr th:only-of-type {\n",
       "        vertical-align: middle;\n",
       "    }\n",
       "\n",
       "    .dataframe tbody tr th {\n",
       "        vertical-align: top;\n",
       "    }\n",
       "\n",
       "    .dataframe thead th {\n",
       "        text-align: right;\n",
       "    }\n",
       "</style>\n",
       "<table border=\"1\" class=\"dataframe\">\n",
       "  <thead>\n",
       "    <tr style=\"text-align: right;\">\n",
       "      <th></th>\n",
       "      <th>people_id</th>\n",
       "      <th>char_1</th>\n",
       "      <th>group_1</th>\n",
       "      <th>char_2</th>\n",
       "      <th>date</th>\n",
       "      <th>char_3</th>\n",
       "      <th>char_4</th>\n",
       "      <th>char_5</th>\n",
       "      <th>char_6</th>\n",
       "      <th>char_7</th>\n",
       "      <th>...</th>\n",
       "      <th>char_29</th>\n",
       "      <th>char_30</th>\n",
       "      <th>char_31</th>\n",
       "      <th>char_32</th>\n",
       "      <th>char_33</th>\n",
       "      <th>char_34</th>\n",
       "      <th>char_35</th>\n",
       "      <th>char_36</th>\n",
       "      <th>char_37</th>\n",
       "      <th>char_38</th>\n",
       "    </tr>\n",
       "  </thead>\n",
       "  <tbody>\n",
       "    <tr>\n",
       "      <th>0</th>\n",
       "      <td>ppl_100</td>\n",
       "      <td>type 2</td>\n",
       "      <td>group 17304</td>\n",
       "      <td>type 2</td>\n",
       "      <td>2021-06-29</td>\n",
       "      <td>type 5</td>\n",
       "      <td>type 5</td>\n",
       "      <td>type 5</td>\n",
       "      <td>type 3</td>\n",
       "      <td>type 11</td>\n",
       "      <td>...</td>\n",
       "      <td>False</td>\n",
       "      <td>True</td>\n",
       "      <td>True</td>\n",
       "      <td>False</td>\n",
       "      <td>False</td>\n",
       "      <td>True</td>\n",
       "      <td>True</td>\n",
       "      <td>True</td>\n",
       "      <td>False</td>\n",
       "      <td>36</td>\n",
       "    </tr>\n",
       "    <tr>\n",
       "      <th>1</th>\n",
       "      <td>ppl_100002</td>\n",
       "      <td>type 2</td>\n",
       "      <td>group 8688</td>\n",
       "      <td>type 3</td>\n",
       "      <td>2021-01-06</td>\n",
       "      <td>type 28</td>\n",
       "      <td>type 9</td>\n",
       "      <td>type 5</td>\n",
       "      <td>type 3</td>\n",
       "      <td>type 11</td>\n",
       "      <td>...</td>\n",
       "      <td>False</td>\n",
       "      <td>True</td>\n",
       "      <td>True</td>\n",
       "      <td>True</td>\n",
       "      <td>True</td>\n",
       "      <td>True</td>\n",
       "      <td>True</td>\n",
       "      <td>True</td>\n",
       "      <td>False</td>\n",
       "      <td>76</td>\n",
       "    </tr>\n",
       "    <tr>\n",
       "      <th>2</th>\n",
       "      <td>ppl_100003</td>\n",
       "      <td>type 2</td>\n",
       "      <td>group 33592</td>\n",
       "      <td>type 3</td>\n",
       "      <td>2022-06-10</td>\n",
       "      <td>type 4</td>\n",
       "      <td>type 8</td>\n",
       "      <td>type 5</td>\n",
       "      <td>type 2</td>\n",
       "      <td>type 5</td>\n",
       "      <td>...</td>\n",
       "      <td>False</td>\n",
       "      <td>False</td>\n",
       "      <td>True</td>\n",
       "      <td>True</td>\n",
       "      <td>True</td>\n",
       "      <td>True</td>\n",
       "      <td>False</td>\n",
       "      <td>True</td>\n",
       "      <td>True</td>\n",
       "      <td>99</td>\n",
       "    </tr>\n",
       "    <tr>\n",
       "      <th>3</th>\n",
       "      <td>ppl_100004</td>\n",
       "      <td>type 2</td>\n",
       "      <td>group 22593</td>\n",
       "      <td>type 3</td>\n",
       "      <td>2022-07-20</td>\n",
       "      <td>type 40</td>\n",
       "      <td>type 25</td>\n",
       "      <td>type 9</td>\n",
       "      <td>type 4</td>\n",
       "      <td>type 16</td>\n",
       "      <td>...</td>\n",
       "      <td>True</td>\n",
       "      <td>True</td>\n",
       "      <td>True</td>\n",
       "      <td>True</td>\n",
       "      <td>True</td>\n",
       "      <td>True</td>\n",
       "      <td>True</td>\n",
       "      <td>True</td>\n",
       "      <td>True</td>\n",
       "      <td>76</td>\n",
       "    </tr>\n",
       "    <tr>\n",
       "      <th>4</th>\n",
       "      <td>ppl_100006</td>\n",
       "      <td>type 2</td>\n",
       "      <td>group 6534</td>\n",
       "      <td>type 3</td>\n",
       "      <td>2022-07-27</td>\n",
       "      <td>type 40</td>\n",
       "      <td>type 25</td>\n",
       "      <td>type 9</td>\n",
       "      <td>type 3</td>\n",
       "      <td>type 8</td>\n",
       "      <td>...</td>\n",
       "      <td>False</td>\n",
       "      <td>False</td>\n",
       "      <td>True</td>\n",
       "      <td>False</td>\n",
       "      <td>False</td>\n",
       "      <td>False</td>\n",
       "      <td>True</td>\n",
       "      <td>True</td>\n",
       "      <td>False</td>\n",
       "      <td>84</td>\n",
       "    </tr>\n",
       "  </tbody>\n",
       "</table>\n",
       "<p>5 rows × 41 columns</p>\n",
       "</div>"
      ],
      "text/plain": [
       "    people_id  char_1      group_1  char_2        date   char_3   char_4  \\\n",
       "0     ppl_100  type 2  group 17304  type 2  2021-06-29   type 5   type 5   \n",
       "1  ppl_100002  type 2   group 8688  type 3  2021-01-06  type 28   type 9   \n",
       "2  ppl_100003  type 2  group 33592  type 3  2022-06-10   type 4   type 8   \n",
       "3  ppl_100004  type 2  group 22593  type 3  2022-07-20  type 40  type 25   \n",
       "4  ppl_100006  type 2   group 6534  type 3  2022-07-27  type 40  type 25   \n",
       "\n",
       "   char_5  char_6   char_7  ... char_29 char_30  char_31  char_32  char_33  \\\n",
       "0  type 5  type 3  type 11  ...   False    True     True    False    False   \n",
       "1  type 5  type 3  type 11  ...   False    True     True     True     True   \n",
       "2  type 5  type 2   type 5  ...   False   False     True     True     True   \n",
       "3  type 9  type 4  type 16  ...    True    True     True     True     True   \n",
       "4  type 9  type 3   type 8  ...   False   False     True    False    False   \n",
       "\n",
       "   char_34  char_35  char_36  char_37  char_38  \n",
       "0     True     True     True    False       36  \n",
       "1     True     True     True    False       76  \n",
       "2     True    False     True     True       99  \n",
       "3     True     True     True     True       76  \n",
       "4    False     True     True    False       84  \n",
       "\n",
       "[5 rows x 41 columns]"
      ]
     },
     "execution_count": 2,
     "metadata": {},
     "output_type": "execute_result"
    }
   ],
   "source": [
    "# Load the dataset \n",
    "\n",
    "people = pd.read_csv('../input/predicting-red-hat-business-value/people.csv.zip', sep = ',')\n",
    "people.head()\n",
    "\n",
    "# We see much categorical data\n",
    "# The informacion is anonymized"
   ]
  },
  {
   "cell_type": "code",
   "execution_count": 3,
   "metadata": {
    "execution": {
     "iopub.execute_input": "2021-03-17T17:53:42.035527Z",
     "iopub.status.busy": "2021-03-17T17:53:42.034533Z",
     "iopub.status.idle": "2021-03-17T17:53:48.646669Z",
     "shell.execute_reply": "2021-03-17T17:53:48.645736Z"
    },
    "papermill": {
     "duration": 6.637677,
     "end_time": "2021-03-17T17:53:48.646952",
     "exception": false,
     "start_time": "2021-03-17T17:53:42.009275",
     "status": "completed"
    },
    "tags": []
   },
   "outputs": [
    {
     "data": {
      "text/html": [
       "<div>\n",
       "<style scoped>\n",
       "    .dataframe tbody tr th:only-of-type {\n",
       "        vertical-align: middle;\n",
       "    }\n",
       "\n",
       "    .dataframe tbody tr th {\n",
       "        vertical-align: top;\n",
       "    }\n",
       "\n",
       "    .dataframe thead th {\n",
       "        text-align: right;\n",
       "    }\n",
       "</style>\n",
       "<table border=\"1\" class=\"dataframe\">\n",
       "  <thead>\n",
       "    <tr style=\"text-align: right;\">\n",
       "      <th></th>\n",
       "      <th>people_id</th>\n",
       "      <th>activity_id</th>\n",
       "      <th>date</th>\n",
       "      <th>activity_category</th>\n",
       "      <th>char_1</th>\n",
       "      <th>char_2</th>\n",
       "      <th>char_3</th>\n",
       "      <th>char_4</th>\n",
       "      <th>char_5</th>\n",
       "      <th>char_6</th>\n",
       "      <th>char_7</th>\n",
       "      <th>char_8</th>\n",
       "      <th>char_9</th>\n",
       "      <th>char_10</th>\n",
       "      <th>outcome</th>\n",
       "    </tr>\n",
       "  </thead>\n",
       "  <tbody>\n",
       "    <tr>\n",
       "      <th>0</th>\n",
       "      <td>ppl_100</td>\n",
       "      <td>act2_1734928</td>\n",
       "      <td>2023-08-26</td>\n",
       "      <td>type 4</td>\n",
       "      <td>NaN</td>\n",
       "      <td>NaN</td>\n",
       "      <td>NaN</td>\n",
       "      <td>NaN</td>\n",
       "      <td>NaN</td>\n",
       "      <td>NaN</td>\n",
       "      <td>NaN</td>\n",
       "      <td>NaN</td>\n",
       "      <td>NaN</td>\n",
       "      <td>type 76</td>\n",
       "      <td>0</td>\n",
       "    </tr>\n",
       "    <tr>\n",
       "      <th>1</th>\n",
       "      <td>ppl_100</td>\n",
       "      <td>act2_2434093</td>\n",
       "      <td>2022-09-27</td>\n",
       "      <td>type 2</td>\n",
       "      <td>NaN</td>\n",
       "      <td>NaN</td>\n",
       "      <td>NaN</td>\n",
       "      <td>NaN</td>\n",
       "      <td>NaN</td>\n",
       "      <td>NaN</td>\n",
       "      <td>NaN</td>\n",
       "      <td>NaN</td>\n",
       "      <td>NaN</td>\n",
       "      <td>type 1</td>\n",
       "      <td>0</td>\n",
       "    </tr>\n",
       "    <tr>\n",
       "      <th>2</th>\n",
       "      <td>ppl_100</td>\n",
       "      <td>act2_3404049</td>\n",
       "      <td>2022-09-27</td>\n",
       "      <td>type 2</td>\n",
       "      <td>NaN</td>\n",
       "      <td>NaN</td>\n",
       "      <td>NaN</td>\n",
       "      <td>NaN</td>\n",
       "      <td>NaN</td>\n",
       "      <td>NaN</td>\n",
       "      <td>NaN</td>\n",
       "      <td>NaN</td>\n",
       "      <td>NaN</td>\n",
       "      <td>type 1</td>\n",
       "      <td>0</td>\n",
       "    </tr>\n",
       "    <tr>\n",
       "      <th>3</th>\n",
       "      <td>ppl_100</td>\n",
       "      <td>act2_3651215</td>\n",
       "      <td>2023-08-04</td>\n",
       "      <td>type 2</td>\n",
       "      <td>NaN</td>\n",
       "      <td>NaN</td>\n",
       "      <td>NaN</td>\n",
       "      <td>NaN</td>\n",
       "      <td>NaN</td>\n",
       "      <td>NaN</td>\n",
       "      <td>NaN</td>\n",
       "      <td>NaN</td>\n",
       "      <td>NaN</td>\n",
       "      <td>type 1</td>\n",
       "      <td>0</td>\n",
       "    </tr>\n",
       "    <tr>\n",
       "      <th>4</th>\n",
       "      <td>ppl_100</td>\n",
       "      <td>act2_4109017</td>\n",
       "      <td>2023-08-26</td>\n",
       "      <td>type 2</td>\n",
       "      <td>NaN</td>\n",
       "      <td>NaN</td>\n",
       "      <td>NaN</td>\n",
       "      <td>NaN</td>\n",
       "      <td>NaN</td>\n",
       "      <td>NaN</td>\n",
       "      <td>NaN</td>\n",
       "      <td>NaN</td>\n",
       "      <td>NaN</td>\n",
       "      <td>type 1</td>\n",
       "      <td>0</td>\n",
       "    </tr>\n",
       "  </tbody>\n",
       "</table>\n",
       "</div>"
      ],
      "text/plain": [
       "  people_id   activity_id        date activity_category char_1 char_2 char_3  \\\n",
       "0   ppl_100  act2_1734928  2023-08-26            type 4    NaN    NaN    NaN   \n",
       "1   ppl_100  act2_2434093  2022-09-27            type 2    NaN    NaN    NaN   \n",
       "2   ppl_100  act2_3404049  2022-09-27            type 2    NaN    NaN    NaN   \n",
       "3   ppl_100  act2_3651215  2023-08-04            type 2    NaN    NaN    NaN   \n",
       "4   ppl_100  act2_4109017  2023-08-26            type 2    NaN    NaN    NaN   \n",
       "\n",
       "  char_4 char_5 char_6 char_7 char_8 char_9  char_10  outcome  \n",
       "0    NaN    NaN    NaN    NaN    NaN    NaN  type 76        0  \n",
       "1    NaN    NaN    NaN    NaN    NaN    NaN   type 1        0  \n",
       "2    NaN    NaN    NaN    NaN    NaN    NaN   type 1        0  \n",
       "3    NaN    NaN    NaN    NaN    NaN    NaN   type 1        0  \n",
       "4    NaN    NaN    NaN    NaN    NaN    NaN   type 1        0  "
      ]
     },
     "execution_count": 3,
     "metadata": {},
     "output_type": "execute_result"
    }
   ],
   "source": [
    "activity = pd.read_csv('../input/predicting-red-hat-business-value/act_train.csv.zip', sep = ',')\n",
    "activity.head()"
   ]
  },
  {
   "cell_type": "markdown",
   "metadata": {
    "papermill": {
     "duration": 0.026706,
     "end_time": "2021-03-17T17:53:48.698946",
     "exception": false,
     "start_time": "2021-03-17T17:53:48.672240",
     "status": "completed"
    },
    "tags": []
   },
   "source": [
    "# <h1 id=\"ingenieria\">Data Engineering</h1>"
   ]
  },
  {
   "cell_type": "code",
   "execution_count": 4,
   "metadata": {
    "execution": {
     "iopub.execute_input": "2021-03-17T17:53:48.757786Z",
     "iopub.status.busy": "2021-03-17T17:53:48.756983Z",
     "iopub.status.idle": "2021-03-17T17:53:49.022832Z",
     "shell.execute_reply": "2021-03-17T17:53:49.022284Z"
    },
    "papermill": {
     "duration": 0.29743,
     "end_time": "2021-03-17T17:53:49.022993",
     "exception": false,
     "start_time": "2021-03-17T17:53:48.725563",
     "status": "completed"
    },
    "tags": []
   },
   "outputs": [
    {
     "name": "stdout",
     "output_type": "stream",
     "text": [
      "(189118, 41)\n"
     ]
    },
    {
     "data": {
      "text/plain": [
       "people_id    0.0\n",
       "char_1       0.0\n",
       "group_1      0.0\n",
       "char_2       0.0\n",
       "date         0.0\n",
       "char_3       0.0\n",
       "char_4       0.0\n",
       "char_5       0.0\n",
       "char_6       0.0\n",
       "char_7       0.0\n",
       "char_8       0.0\n",
       "char_9       0.0\n",
       "char_10      0.0\n",
       "char_11      0.0\n",
       "char_12      0.0\n",
       "char_13      0.0\n",
       "char_14      0.0\n",
       "char_15      0.0\n",
       "char_16      0.0\n",
       "char_17      0.0\n",
       "char_18      0.0\n",
       "char_19      0.0\n",
       "char_20      0.0\n",
       "char_21      0.0\n",
       "char_22      0.0\n",
       "char_23      0.0\n",
       "char_24      0.0\n",
       "char_25      0.0\n",
       "char_26      0.0\n",
       "char_27      0.0\n",
       "char_28      0.0\n",
       "char_29      0.0\n",
       "char_30      0.0\n",
       "char_31      0.0\n",
       "char_32      0.0\n",
       "char_33      0.0\n",
       "char_34      0.0\n",
       "char_35      0.0\n",
       "char_36      0.0\n",
       "char_37      0.0\n",
       "char_38      0.0\n",
       "dtype: float64"
      ]
     },
     "execution_count": 4,
     "metadata": {},
     "output_type": "execute_result"
    }
   ],
   "source": [
    "# Show the shape\n",
    "\n",
    "print(people.shape)\n",
    "\n",
    "# Show the null percent\n",
    "\n",
    "100*people.isnull().sum()/people.shape[0]"
   ]
  },
  {
   "cell_type": "code",
   "execution_count": 5,
   "metadata": {
    "execution": {
     "iopub.execute_input": "2021-03-17T17:53:51.107004Z",
     "iopub.status.busy": "2021-03-17T17:53:51.105471Z",
     "iopub.status.idle": "2021-03-17T17:53:51.162830Z",
     "shell.execute_reply": "2021-03-17T17:53:51.162322Z"
    },
    "papermill": {
     "duration": 2.116451,
     "end_time": "2021-03-17T17:53:51.162990",
     "exception": false,
     "start_time": "2021-03-17T17:53:49.046539",
     "status": "completed"
    },
    "tags": []
   },
   "outputs": [
    {
     "name": "stdout",
     "output_type": "stream",
     "text": [
      "(2197291, 15)\n"
     ]
    },
    {
     "data": {
      "text/plain": [
       "people_id             0.000000\n",
       "activity_id           0.000000\n",
       "date                  0.000000\n",
       "activity_category     0.000000\n",
       "char_1               92.826849\n",
       "char_2               92.826849\n",
       "char_3               92.826849\n",
       "char_4               92.826849\n",
       "char_5               92.826849\n",
       "char_6               92.826849\n",
       "char_7               92.826849\n",
       "char_8               92.826849\n",
       "char_9               92.826849\n",
       "char_10               7.173151\n",
       "outcome               0.000000\n",
       "dtype: float64"
      ]
     },
     "execution_count": 5,
     "metadata": {},
     "output_type": "execute_result"
    }
   ],
   "source": [
    "# We repet with the other dataset \n",
    "\n",
    "print(activity.shape)\n",
    "100*activity.isnull().sum()/activity.shape[0]\n",
    "\n",
    "# We gonna delete the columns 90% null and fill "
   ]
  },
  {
   "cell_type": "code",
   "execution_count": 6,
   "metadata": {
    "execution": {
     "iopub.execute_input": "2021-03-17T17:53:51.266208Z",
     "iopub.status.busy": "2021-03-17T17:53:51.265405Z",
     "iopub.status.idle": "2021-03-17T17:53:51.332409Z",
     "shell.execute_reply": "2021-03-17T17:53:51.331772Z"
    },
    "papermill": {
     "duration": 0.146215,
     "end_time": "2021-03-17T17:53:51.332560",
     "exception": false,
     "start_time": "2021-03-17T17:53:51.186345",
     "status": "completed"
    },
    "tags": []
   },
   "outputs": [
    {
     "name": "stdout",
     "output_type": "stream",
     "text": [
      "(2197291, 6)\n"
     ]
    }
   ],
   "source": [
    "activity.drop(columns=['char_1','char_2','char_3','char_4','char_5','char_6','char_7','char_8','char_9'],inplace=True)\n",
    "\n",
    "print(activity.shape)"
   ]
  },
  {
   "cell_type": "code",
   "execution_count": 7,
   "metadata": {
    "execution": {
     "iopub.execute_input": "2021-03-17T17:53:51.393229Z",
     "iopub.status.busy": "2021-03-17T17:53:51.392563Z",
     "iopub.status.idle": "2021-03-17T17:53:51.397004Z",
     "shell.execute_reply": "2021-03-17T17:53:51.396512Z"
    },
    "papermill": {
     "duration": 0.040563,
     "end_time": "2021-03-17T17:53:51.397187",
     "exception": false,
     "start_time": "2021-03-17T17:53:51.356624",
     "status": "completed"
    },
    "tags": []
   },
   "outputs": [
    {
     "data": {
      "text/html": [
       "<div>\n",
       "<style scoped>\n",
       "    .dataframe tbody tr th:only-of-type {\n",
       "        vertical-align: middle;\n",
       "    }\n",
       "\n",
       "    .dataframe tbody tr th {\n",
       "        vertical-align: top;\n",
       "    }\n",
       "\n",
       "    .dataframe thead th {\n",
       "        text-align: right;\n",
       "    }\n",
       "</style>\n",
       "<table border=\"1\" class=\"dataframe\">\n",
       "  <thead>\n",
       "    <tr style=\"text-align: right;\">\n",
       "      <th></th>\n",
       "      <th>people_id</th>\n",
       "      <th>activity_id</th>\n",
       "      <th>date</th>\n",
       "      <th>activity_category</th>\n",
       "      <th>char_10</th>\n",
       "      <th>outcome</th>\n",
       "    </tr>\n",
       "  </thead>\n",
       "  <tbody>\n",
       "    <tr>\n",
       "      <th>0</th>\n",
       "      <td>ppl_100</td>\n",
       "      <td>act2_1734928</td>\n",
       "      <td>2023-08-26</td>\n",
       "      <td>type 4</td>\n",
       "      <td>type 76</td>\n",
       "      <td>0</td>\n",
       "    </tr>\n",
       "    <tr>\n",
       "      <th>1</th>\n",
       "      <td>ppl_100</td>\n",
       "      <td>act2_2434093</td>\n",
       "      <td>2022-09-27</td>\n",
       "      <td>type 2</td>\n",
       "      <td>type 1</td>\n",
       "      <td>0</td>\n",
       "    </tr>\n",
       "    <tr>\n",
       "      <th>2</th>\n",
       "      <td>ppl_100</td>\n",
       "      <td>act2_3404049</td>\n",
       "      <td>2022-09-27</td>\n",
       "      <td>type 2</td>\n",
       "      <td>type 1</td>\n",
       "      <td>0</td>\n",
       "    </tr>\n",
       "    <tr>\n",
       "      <th>3</th>\n",
       "      <td>ppl_100</td>\n",
       "      <td>act2_3651215</td>\n",
       "      <td>2023-08-04</td>\n",
       "      <td>type 2</td>\n",
       "      <td>type 1</td>\n",
       "      <td>0</td>\n",
       "    </tr>\n",
       "    <tr>\n",
       "      <th>4</th>\n",
       "      <td>ppl_100</td>\n",
       "      <td>act2_4109017</td>\n",
       "      <td>2023-08-26</td>\n",
       "      <td>type 2</td>\n",
       "      <td>type 1</td>\n",
       "      <td>0</td>\n",
       "    </tr>\n",
       "  </tbody>\n",
       "</table>\n",
       "</div>"
      ],
      "text/plain": [
       "  people_id   activity_id        date activity_category  char_10  outcome\n",
       "0   ppl_100  act2_1734928  2023-08-26            type 4  type 76        0\n",
       "1   ppl_100  act2_2434093  2022-09-27            type 2   type 1        0\n",
       "2   ppl_100  act2_3404049  2022-09-27            type 2   type 1        0\n",
       "3   ppl_100  act2_3651215  2023-08-04            type 2   type 1        0\n",
       "4   ppl_100  act2_4109017  2023-08-26            type 2   type 1        0"
      ]
     },
     "execution_count": 7,
     "metadata": {},
     "output_type": "execute_result"
    }
   ],
   "source": [
    "activity.head() "
   ]
  },
  {
   "cell_type": "code",
   "execution_count": 8,
   "metadata": {
    "execution": {
     "iopub.execute_input": "2021-03-17T17:53:51.974480Z",
     "iopub.status.busy": "2021-03-17T17:53:51.761854Z",
     "iopub.status.idle": "2021-03-17T17:53:52.053133Z",
     "shell.execute_reply": "2021-03-17T17:53:52.052120Z"
    },
    "papermill": {
     "duration": 0.631847,
     "end_time": "2021-03-17T17:53:52.053298",
     "exception": false,
     "start_time": "2021-03-17T17:53:51.421451",
     "status": "completed"
    },
    "tags": []
   },
   "outputs": [],
   "source": [
    "# Fill char_10 with the mode\n",
    "\n",
    "activity['char_10'] = activity['char_10'].fillna(activity[\"char_10\"].mode()[0])"
   ]
  },
  {
   "cell_type": "code",
   "execution_count": 9,
   "metadata": {
    "execution": {
     "iopub.execute_input": "2021-03-17T17:53:53.198662Z",
     "iopub.status.busy": "2021-03-17T17:53:53.197910Z",
     "iopub.status.idle": "2021-03-17T17:53:53.223389Z",
     "shell.execute_reply": "2021-03-17T17:53:53.222790Z"
    },
    "papermill": {
     "duration": 1.145704,
     "end_time": "2021-03-17T17:53:53.223534",
     "exception": false,
     "start_time": "2021-03-17T17:53:52.077830",
     "status": "completed"
    },
    "tags": []
   },
   "outputs": [
    {
     "data": {
      "text/plain": [
       "people_id            0.0\n",
       "activity_id          0.0\n",
       "date                 0.0\n",
       "activity_category    0.0\n",
       "char_10              0.0\n",
       "outcome              0.0\n",
       "dtype: float64"
      ]
     },
     "execution_count": 9,
     "metadata": {},
     "output_type": "execute_result"
    }
   ],
   "source": [
    "# We data is clean of null dates\n",
    "\n",
    "100*activity.isnull().sum()/activity.shape[0]"
   ]
  },
  {
   "cell_type": "code",
   "execution_count": 10,
   "metadata": {
    "execution": {
     "iopub.execute_input": "2021-03-17T17:53:53.419496Z",
     "iopub.status.busy": "2021-03-17T17:53:53.418696Z",
     "iopub.status.idle": "2021-03-17T17:53:53.437512Z",
     "shell.execute_reply": "2021-03-17T17:53:53.436519Z"
    },
    "papermill": {
     "duration": 0.189137,
     "end_time": "2021-03-17T17:53:53.437673",
     "exception": false,
     "start_time": "2021-03-17T17:53:53.248536",
     "status": "completed"
    },
    "tags": []
   },
   "outputs": [
    {
     "data": {
      "text/html": [
       "<div>\n",
       "<style scoped>\n",
       "    .dataframe tbody tr th:only-of-type {\n",
       "        vertical-align: middle;\n",
       "    }\n",
       "\n",
       "    .dataframe tbody tr th {\n",
       "        vertical-align: top;\n",
       "    }\n",
       "\n",
       "    .dataframe thead th {\n",
       "        text-align: right;\n",
       "    }\n",
       "</style>\n",
       "<table border=\"1\" class=\"dataframe\">\n",
       "  <thead>\n",
       "    <tr style=\"text-align: right;\">\n",
       "      <th></th>\n",
       "      <th>people_id</th>\n",
       "      <th>activity_id</th>\n",
       "      <th>data_activity</th>\n",
       "      <th>activity_category</th>\n",
       "      <th>activity_type</th>\n",
       "      <th>outcome</th>\n",
       "    </tr>\n",
       "  </thead>\n",
       "  <tbody>\n",
       "    <tr>\n",
       "      <th>0</th>\n",
       "      <td>ppl_100</td>\n",
       "      <td>act2_1734928</td>\n",
       "      <td>2023-08-26</td>\n",
       "      <td>type 4</td>\n",
       "      <td>type 76</td>\n",
       "      <td>0</td>\n",
       "    </tr>\n",
       "    <tr>\n",
       "      <th>1</th>\n",
       "      <td>ppl_100</td>\n",
       "      <td>act2_2434093</td>\n",
       "      <td>2022-09-27</td>\n",
       "      <td>type 2</td>\n",
       "      <td>type 1</td>\n",
       "      <td>0</td>\n",
       "    </tr>\n",
       "    <tr>\n",
       "      <th>2</th>\n",
       "      <td>ppl_100</td>\n",
       "      <td>act2_3404049</td>\n",
       "      <td>2022-09-27</td>\n",
       "      <td>type 2</td>\n",
       "      <td>type 1</td>\n",
       "      <td>0</td>\n",
       "    </tr>\n",
       "    <tr>\n",
       "      <th>3</th>\n",
       "      <td>ppl_100</td>\n",
       "      <td>act2_3651215</td>\n",
       "      <td>2023-08-04</td>\n",
       "      <td>type 2</td>\n",
       "      <td>type 1</td>\n",
       "      <td>0</td>\n",
       "    </tr>\n",
       "    <tr>\n",
       "      <th>4</th>\n",
       "      <td>ppl_100</td>\n",
       "      <td>act2_4109017</td>\n",
       "      <td>2023-08-26</td>\n",
       "      <td>type 2</td>\n",
       "      <td>type 1</td>\n",
       "      <td>0</td>\n",
       "    </tr>\n",
       "  </tbody>\n",
       "</table>\n",
       "</div>"
      ],
      "text/plain": [
       "  people_id   activity_id data_activity activity_category activity_type  \\\n",
       "0   ppl_100  act2_1734928    2023-08-26            type 4       type 76   \n",
       "1   ppl_100  act2_2434093    2022-09-27            type 2        type 1   \n",
       "2   ppl_100  act2_3404049    2022-09-27            type 2        type 1   \n",
       "3   ppl_100  act2_3651215    2023-08-04            type 2        type 1   \n",
       "4   ppl_100  act2_4109017    2023-08-26            type 2        type 1   \n",
       "\n",
       "   outcome  \n",
       "0        0  \n",
       "1        0  \n",
       "2        0  \n",
       "3        0  \n",
       "4        0  "
      ]
     },
     "execution_count": 10,
     "metadata": {},
     "output_type": "execute_result"
    }
   ],
   "source": [
    "# Rename the columns \n",
    "\n",
    "activity = activity.rename(columns={\"date\":\"data_activity\",\"char_10\":\"activity_type\"})\n",
    "activity.head()"
   ]
  },
  {
   "cell_type": "code",
   "execution_count": 11,
   "metadata": {
    "execution": {
     "iopub.execute_input": "2021-03-17T17:53:53.496784Z",
     "iopub.status.busy": "2021-03-17T17:53:53.495990Z",
     "iopub.status.idle": "2021-03-17T17:53:54.528907Z",
     "shell.execute_reply": "2021-03-17T17:53:54.528218Z"
    },
    "papermill": {
     "duration": 1.064583,
     "end_time": "2021-03-17T17:53:54.529090",
     "exception": false,
     "start_time": "2021-03-17T17:53:53.464507",
     "status": "completed"
    },
    "tags": []
   },
   "outputs": [
    {
     "data": {
      "text/plain": [
       "(2197291, 46)"
      ]
     },
     "execution_count": 11,
     "metadata": {},
     "output_type": "execute_result"
    }
   ],
   "source": [
    "# We gonna use merge to join the dataframes\n",
    "\n",
    "all_data = activity.merge(people,on=[\"people_id\"], how=\"inner\")\n",
    "all_data.shape"
   ]
  },
  {
   "cell_type": "code",
   "execution_count": 12,
   "metadata": {
    "execution": {
     "iopub.execute_input": "2021-03-17T17:53:54.596760Z",
     "iopub.status.busy": "2021-03-17T17:53:54.594433Z",
     "iopub.status.idle": "2021-03-17T17:53:54.600984Z",
     "shell.execute_reply": "2021-03-17T17:53:54.601615Z"
    },
    "papermill": {
     "duration": 0.045628,
     "end_time": "2021-03-17T17:53:54.601818",
     "exception": false,
     "start_time": "2021-03-17T17:53:54.556190",
     "status": "completed"
    },
    "tags": []
   },
   "outputs": [
    {
     "data": {
      "text/plain": [
       "0          0\n",
       "1          0\n",
       "2          0\n",
       "3          0\n",
       "4          0\n",
       "          ..\n",
       "2197286    1\n",
       "2197287    1\n",
       "2197288    1\n",
       "2197289    1\n",
       "2197290    1\n",
       "Name: outcome, Length: 2197291, dtype: int64"
      ]
     },
     "execution_count": 12,
     "metadata": {},
     "output_type": "execute_result"
    }
   ],
   "source": [
    "# Show the target  \n",
    "\n",
    "all_data[\"outcome\"]"
   ]
  },
  {
   "cell_type": "code",
   "execution_count": 13,
   "metadata": {
    "execution": {
     "iopub.execute_input": "2021-03-17T17:53:54.661547Z",
     "iopub.status.busy": "2021-03-17T17:53:54.660845Z",
     "iopub.status.idle": "2021-03-17T17:53:54.687119Z",
     "shell.execute_reply": "2021-03-17T17:53:54.686516Z"
    },
    "papermill": {
     "duration": 0.058643,
     "end_time": "2021-03-17T17:53:54.687269",
     "exception": false,
     "start_time": "2021-03-17T17:53:54.628626",
     "status": "completed"
    },
    "tags": []
   },
   "outputs": [
    {
     "data": {
      "text/plain": [
       "0    55.60456\n",
       "1    44.39544\n",
       "Name: outcome, dtype: float64"
      ]
     },
     "execution_count": 13,
     "metadata": {},
     "output_type": "execute_result"
    }
   ],
   "source": [
    "#  Show the distribucion in the target \n",
    "\n",
    "100*all_data[\"outcome\"].value_counts()/all_data.shape[0]"
   ]
  },
  {
   "cell_type": "code",
   "execution_count": 14,
   "metadata": {
    "execution": {
     "iopub.execute_input": "2021-03-17T17:53:54.750182Z",
     "iopub.status.busy": "2021-03-17T17:53:54.749158Z",
     "iopub.status.idle": "2021-03-17T17:53:54.753431Z",
     "shell.execute_reply": "2021-03-17T17:53:54.752768Z"
    },
    "papermill": {
     "duration": 0.039024,
     "end_time": "2021-03-17T17:53:54.753590",
     "exception": false,
     "start_time": "2021-03-17T17:53:54.714566",
     "status": "completed"
    },
    "tags": []
   },
   "outputs": [
    {
     "name": "stdout",
     "output_type": "stream",
     "text": [
      "Types of variables:  0\n",
      "bool      28\n",
      "int64      2\n",
      "object    16\n",
      "dtype: int64\n"
     ]
    }
   ],
   "source": [
    "# Show the type of variable \n",
    "\n",
    "types = pd.DataFrame(all_data.dtypes)\n",
    "print(\"Types of variables: \", types.groupby(0).size())\n",
    "\n",
    "# We have to convert float to int "
   ]
  },
  {
   "cell_type": "code",
   "execution_count": 15,
   "metadata": {
    "execution": {
     "iopub.execute_input": "2021-03-17T17:53:54.814135Z",
     "iopub.status.busy": "2021-03-17T17:53:54.813436Z",
     "iopub.status.idle": "2021-03-17T17:54:13.649247Z",
     "shell.execute_reply": "2021-03-17T17:54:13.648168Z"
    },
    "papermill": {
     "duration": 18.86818,
     "end_time": "2021-03-17T17:54:13.649419",
     "exception": false,
     "start_time": "2021-03-17T17:53:54.781239",
     "status": "completed"
    },
    "tags": []
   },
   "outputs": [],
   "source": [
    "all_data = all_data.replace({False: 0, True: 1})"
   ]
  },
  {
   "cell_type": "code",
   "execution_count": 16,
   "metadata": {
    "execution": {
     "iopub.execute_input": "2021-03-17T17:54:13.713502Z",
     "iopub.status.busy": "2021-03-17T17:54:13.712589Z",
     "iopub.status.idle": "2021-03-17T17:54:13.716534Z",
     "shell.execute_reply": "2021-03-17T17:54:13.716013Z"
    },
    "papermill": {
     "duration": 0.038978,
     "end_time": "2021-03-17T17:54:13.716693",
     "exception": false,
     "start_time": "2021-03-17T17:54:13.677715",
     "status": "completed"
    },
    "tags": []
   },
   "outputs": [
    {
     "name": "stdout",
     "output_type": "stream",
     "text": [
      "Types of variables replace:  0\n",
      "int64     30\n",
      "object    16\n",
      "dtype: int64\n"
     ]
    }
   ],
   "source": [
    "# Is ready\n",
    "\n",
    "types = pd.DataFrame(all_data.dtypes)\n",
    "print(\"Types of variables replace: \", types.groupby(0).size()) "
   ]
  },
  {
   "cell_type": "code",
   "execution_count": 17,
   "metadata": {
    "execution": {
     "iopub.execute_input": "2021-03-17T17:54:13.997406Z",
     "iopub.status.busy": "2021-03-17T17:54:13.996666Z",
     "iopub.status.idle": "2021-03-17T17:54:15.702462Z",
     "shell.execute_reply": "2021-03-17T17:54:15.701494Z"
    },
    "papermill": {
     "duration": 1.95828,
     "end_time": "2021-03-17T17:54:15.702710",
     "exception": false,
     "start_time": "2021-03-17T17:54:13.744430",
     "status": "completed"
    },
    "tags": []
   },
   "outputs": [
    {
     "name": "stdout",
     "output_type": "stream",
     "text": [
      "Second replace:  0\n",
      "int64     31\n",
      "object    15\n",
      "dtype: int64\n"
     ]
    }
   ],
   "source": [
    "# We gonna apply one second replace, As the identifier people_id it consists of a prefix \"ppl_\" followed by a unique number per user. \n",
    "# In this case, it is enough to cut the prefix to transform this variable into a numeric one.\n",
    "\n",
    "all_data.people_id = all_data.people_id.str.slice(start=4).astype(float).astype(int)\n",
    "\n",
    "types = pd.DataFrame(all_data.dtypes)\n",
    "print(\"Second replace: \",types.groupby(0).size())"
   ]
  },
  {
   "cell_type": "code",
   "execution_count": 18,
   "metadata": {
    "execution": {
     "iopub.execute_input": "2021-03-17T17:54:15.773920Z",
     "iopub.status.busy": "2021-03-17T17:54:15.772495Z",
     "iopub.status.idle": "2021-03-17T17:54:16.230835Z",
     "shell.execute_reply": "2021-03-17T17:54:16.231426Z"
    },
    "papermill": {
     "duration": 0.493255,
     "end_time": "2021-03-17T17:54:16.231619",
     "exception": false,
     "start_time": "2021-03-17T17:54:15.738364",
     "status": "completed"
    },
    "tags": []
   },
   "outputs": [
    {
     "data": {
      "text/html": [
       "<div>\n",
       "<style scoped>\n",
       "    .dataframe tbody tr th:only-of-type {\n",
       "        vertical-align: middle;\n",
       "    }\n",
       "\n",
       "    .dataframe tbody tr th {\n",
       "        vertical-align: top;\n",
       "    }\n",
       "\n",
       "    .dataframe thead th {\n",
       "        text-align: right;\n",
       "    }\n",
       "</style>\n",
       "<table border=\"1\" class=\"dataframe\">\n",
       "  <thead>\n",
       "    <tr style=\"text-align: right;\">\n",
       "      <th></th>\n",
       "      <th>activity_id</th>\n",
       "      <th>activity_category</th>\n",
       "      <th>group_1</th>\n",
       "      <th>activity_type</th>\n",
       "    </tr>\n",
       "  </thead>\n",
       "  <tbody>\n",
       "    <tr>\n",
       "      <th>0</th>\n",
       "      <td>act2_1734928</td>\n",
       "      <td>type 4</td>\n",
       "      <td>group 17304</td>\n",
       "      <td>type 76</td>\n",
       "    </tr>\n",
       "    <tr>\n",
       "      <th>1</th>\n",
       "      <td>act2_2434093</td>\n",
       "      <td>type 2</td>\n",
       "      <td>group 17304</td>\n",
       "      <td>type 1</td>\n",
       "    </tr>\n",
       "    <tr>\n",
       "      <th>2</th>\n",
       "      <td>act2_3404049</td>\n",
       "      <td>type 2</td>\n",
       "      <td>group 17304</td>\n",
       "      <td>type 1</td>\n",
       "    </tr>\n",
       "  </tbody>\n",
       "</table>\n",
       "</div>"
      ],
      "text/plain": [
       "    activity_id activity_category      group_1 activity_type\n",
       "0  act2_1734928            type 4  group 17304       type 76\n",
       "1  act2_2434093            type 2  group 17304        type 1\n",
       "2  act2_3404049            type 2  group 17304        type 1"
      ]
     },
     "execution_count": 18,
     "metadata": {},
     "output_type": "execute_result"
    }
   ],
   "source": [
    "all_data[[\"activity_id\", \"activity_category\", \"group_1\", \"activity_type\"]].head(3)"
   ]
  },
  {
   "cell_type": "code",
   "execution_count": 19,
   "metadata": {
    "execution": {
     "iopub.execute_input": "2021-03-17T17:54:16.605084Z",
     "iopub.status.busy": "2021-03-17T17:54:16.603371Z",
     "iopub.status.idle": "2021-03-17T17:54:23.417917Z",
     "shell.execute_reply": "2021-03-17T17:54:23.417142Z"
    },
    "papermill": {
     "duration": 7.1572,
     "end_time": "2021-03-17T17:54:23.418131",
     "exception": false,
     "start_time": "2021-03-17T17:54:16.260931",
     "status": "completed"
    },
    "tags": []
   },
   "outputs": [
    {
     "name": "stdout",
     "output_type": "stream",
     "text": [
      "Thith 0\n",
      "int64     35\n",
      "object    11\n",
      "dtype: int64\n"
     ]
    }
   ],
   "source": [
    "# And We have to do the same for those variables \n",
    "\n",
    "all_data.activity_id = all_data.activity_id.str.slice(start=5).astype(float).astype(int)\n",
    "all_data.activity_category = all_data.activity_category.str.slice(start=5).astype(float).astype(int)\n",
    "all_data.group_1 = all_data.group_1.str.slice(start=6).astype(float).astype(int)\n",
    "all_data.activity_type = all_data.activity_type.str.slice(start=5).astype(float).astype(int)\n",
    "\n",
    "types = pd.DataFrame(all_data.dtypes)\n",
    "print(\"Thith\",types.groupby(0).size()) "
   ]
  },
  {
   "cell_type": "code",
   "execution_count": 20,
   "metadata": {
    "execution": {
     "iopub.execute_input": "2021-03-17T17:54:23.504310Z",
     "iopub.status.busy": "2021-03-17T17:54:23.503189Z",
     "iopub.status.idle": "2021-03-17T17:54:23.507526Z",
     "shell.execute_reply": "2021-03-17T17:54:23.508592Z"
    },
    "papermill": {
     "duration": 0.059921,
     "end_time": "2021-03-17T17:54:23.508782",
     "exception": false,
     "start_time": "2021-03-17T17:54:23.448861",
     "status": "completed"
    },
    "tags": []
   },
   "outputs": [
    {
     "data": {
      "text/html": [
       "<div>\n",
       "<style scoped>\n",
       "    .dataframe tbody tr th:only-of-type {\n",
       "        vertical-align: middle;\n",
       "    }\n",
       "\n",
       "    .dataframe tbody tr th {\n",
       "        vertical-align: top;\n",
       "    }\n",
       "\n",
       "    .dataframe thead th {\n",
       "        text-align: right;\n",
       "    }\n",
       "</style>\n",
       "<table border=\"1\" class=\"dataframe\">\n",
       "  <thead>\n",
       "    <tr style=\"text-align: right;\">\n",
       "      <th></th>\n",
       "      <th>people_id</th>\n",
       "      <th>activity_id</th>\n",
       "      <th>data_activity</th>\n",
       "      <th>activity_category</th>\n",
       "      <th>activity_type</th>\n",
       "      <th>outcome</th>\n",
       "      <th>char_1</th>\n",
       "      <th>group_1</th>\n",
       "      <th>char_2</th>\n",
       "      <th>date</th>\n",
       "      <th>...</th>\n",
       "      <th>char_29</th>\n",
       "      <th>char_30</th>\n",
       "      <th>char_31</th>\n",
       "      <th>char_32</th>\n",
       "      <th>char_33</th>\n",
       "      <th>char_34</th>\n",
       "      <th>char_35</th>\n",
       "      <th>char_36</th>\n",
       "      <th>char_37</th>\n",
       "      <th>char_38</th>\n",
       "    </tr>\n",
       "  </thead>\n",
       "  <tbody>\n",
       "    <tr>\n",
       "      <th>0</th>\n",
       "      <td>100</td>\n",
       "      <td>1734928</td>\n",
       "      <td>2023-08-26</td>\n",
       "      <td>4</td>\n",
       "      <td>76</td>\n",
       "      <td>0</td>\n",
       "      <td>type 2</td>\n",
       "      <td>17304</td>\n",
       "      <td>type 2</td>\n",
       "      <td>2021-06-29</td>\n",
       "      <td>...</td>\n",
       "      <td>0</td>\n",
       "      <td>1</td>\n",
       "      <td>1</td>\n",
       "      <td>0</td>\n",
       "      <td>0</td>\n",
       "      <td>1</td>\n",
       "      <td>1</td>\n",
       "      <td>1</td>\n",
       "      <td>0</td>\n",
       "      <td>36</td>\n",
       "    </tr>\n",
       "    <tr>\n",
       "      <th>1</th>\n",
       "      <td>100</td>\n",
       "      <td>2434093</td>\n",
       "      <td>2022-09-27</td>\n",
       "      <td>2</td>\n",
       "      <td>1</td>\n",
       "      <td>0</td>\n",
       "      <td>type 2</td>\n",
       "      <td>17304</td>\n",
       "      <td>type 2</td>\n",
       "      <td>2021-06-29</td>\n",
       "      <td>...</td>\n",
       "      <td>0</td>\n",
       "      <td>1</td>\n",
       "      <td>1</td>\n",
       "      <td>0</td>\n",
       "      <td>0</td>\n",
       "      <td>1</td>\n",
       "      <td>1</td>\n",
       "      <td>1</td>\n",
       "      <td>0</td>\n",
       "      <td>36</td>\n",
       "    </tr>\n",
       "    <tr>\n",
       "      <th>2</th>\n",
       "      <td>100</td>\n",
       "      <td>3404049</td>\n",
       "      <td>2022-09-27</td>\n",
       "      <td>2</td>\n",
       "      <td>1</td>\n",
       "      <td>0</td>\n",
       "      <td>type 2</td>\n",
       "      <td>17304</td>\n",
       "      <td>type 2</td>\n",
       "      <td>2021-06-29</td>\n",
       "      <td>...</td>\n",
       "      <td>0</td>\n",
       "      <td>1</td>\n",
       "      <td>1</td>\n",
       "      <td>0</td>\n",
       "      <td>0</td>\n",
       "      <td>1</td>\n",
       "      <td>1</td>\n",
       "      <td>1</td>\n",
       "      <td>0</td>\n",
       "      <td>36</td>\n",
       "    </tr>\n",
       "    <tr>\n",
       "      <th>3</th>\n",
       "      <td>100</td>\n",
       "      <td>3651215</td>\n",
       "      <td>2023-08-04</td>\n",
       "      <td>2</td>\n",
       "      <td>1</td>\n",
       "      <td>0</td>\n",
       "      <td>type 2</td>\n",
       "      <td>17304</td>\n",
       "      <td>type 2</td>\n",
       "      <td>2021-06-29</td>\n",
       "      <td>...</td>\n",
       "      <td>0</td>\n",
       "      <td>1</td>\n",
       "      <td>1</td>\n",
       "      <td>0</td>\n",
       "      <td>0</td>\n",
       "      <td>1</td>\n",
       "      <td>1</td>\n",
       "      <td>1</td>\n",
       "      <td>0</td>\n",
       "      <td>36</td>\n",
       "    </tr>\n",
       "    <tr>\n",
       "      <th>4</th>\n",
       "      <td>100</td>\n",
       "      <td>4109017</td>\n",
       "      <td>2023-08-26</td>\n",
       "      <td>2</td>\n",
       "      <td>1</td>\n",
       "      <td>0</td>\n",
       "      <td>type 2</td>\n",
       "      <td>17304</td>\n",
       "      <td>type 2</td>\n",
       "      <td>2021-06-29</td>\n",
       "      <td>...</td>\n",
       "      <td>0</td>\n",
       "      <td>1</td>\n",
       "      <td>1</td>\n",
       "      <td>0</td>\n",
       "      <td>0</td>\n",
       "      <td>1</td>\n",
       "      <td>1</td>\n",
       "      <td>1</td>\n",
       "      <td>0</td>\n",
       "      <td>36</td>\n",
       "    </tr>\n",
       "  </tbody>\n",
       "</table>\n",
       "<p>5 rows × 46 columns</p>\n",
       "</div>"
      ],
      "text/plain": [
       "   people_id  activity_id data_activity  activity_category  activity_type  \\\n",
       "0        100      1734928    2023-08-26                  4             76   \n",
       "1        100      2434093    2022-09-27                  2              1   \n",
       "2        100      3404049    2022-09-27                  2              1   \n",
       "3        100      3651215    2023-08-04                  2              1   \n",
       "4        100      4109017    2023-08-26                  2              1   \n",
       "\n",
       "   outcome  char_1  group_1  char_2        date  ... char_29 char_30 char_31  \\\n",
       "0        0  type 2    17304  type 2  2021-06-29  ...       0       1       1   \n",
       "1        0  type 2    17304  type 2  2021-06-29  ...       0       1       1   \n",
       "2        0  type 2    17304  type 2  2021-06-29  ...       0       1       1   \n",
       "3        0  type 2    17304  type 2  2021-06-29  ...       0       1       1   \n",
       "4        0  type 2    17304  type 2  2021-06-29  ...       0       1       1   \n",
       "\n",
       "  char_32 char_33 char_34 char_35  char_36  char_37  char_38  \n",
       "0       0       0       1       1        1        0       36  \n",
       "1       0       0       1       1        1        0       36  \n",
       "2       0       0       1       1        1        0       36  \n",
       "3       0       0       1       1        1        0       36  \n",
       "4       0       0       1       1        1        0       36  \n",
       "\n",
       "[5 rows x 46 columns]"
      ]
     },
     "execution_count": 20,
     "metadata": {},
     "output_type": "execute_result"
    }
   ],
   "source": [
    "all_data.head()"
   ]
  },
  {
   "cell_type": "code",
   "execution_count": 21,
   "metadata": {
    "execution": {
     "iopub.execute_input": "2021-03-17T17:54:23.711003Z",
     "iopub.status.busy": "2021-03-17T17:54:23.710306Z",
     "iopub.status.idle": "2021-03-17T17:54:25.337522Z",
     "shell.execute_reply": "2021-03-17T17:54:25.336708Z"
    },
    "papermill": {
     "duration": 1.798104,
     "end_time": "2021-03-17T17:54:25.337725",
     "exception": false,
     "start_time": "2021-03-17T17:54:23.539621",
     "status": "completed"
    },
    "tags": []
   },
   "outputs": [
    {
     "name": "stdout",
     "output_type": "stream",
     "text": [
      "The variable data_activitycontine:  411 distinct values\n",
      "The variable char_1contine:  2 distinct values\n",
      "The variable char_2contine:  3 distinct values\n",
      "The variable datecontine:  1196 distinct values\n",
      "The variable char_3contine:  43 distinct values\n",
      "The variable char_4contine:  25 distinct values\n",
      "The variable char_5contine:  9 distinct values\n",
      "The variable char_6contine:  7 distinct values\n",
      "The variable char_7contine:  25 distinct values\n",
      "The variable char_8contine:  8 distinct values\n",
      "The variable char_9contine:  9 distinct values\n"
     ]
    }
   ],
   "source": [
    "# We are going to evaluate the number of different variables\n",
    "\n",
    "categorics = types.index[types[0] == 'O'].values \n",
    "for line in categorics:\n",
    "    print(\"The variable \"+ line +\"contine: \", str(len(all_data[line].unique()))+\" distinct values\")"
   ]
  },
  {
   "cell_type": "code",
   "execution_count": 22,
   "metadata": {
    "execution": {
     "iopub.execute_input": "2021-03-17T17:54:25.431103Z",
     "iopub.status.busy": "2021-03-17T17:54:25.419812Z",
     "iopub.status.idle": "2021-03-17T17:54:25.435901Z",
     "shell.execute_reply": "2021-03-17T17:54:25.435388Z"
    },
    "papermill": {
     "duration": 0.06288,
     "end_time": "2021-03-17T17:54:25.436052",
     "exception": false,
     "start_time": "2021-03-17T17:54:25.373172",
     "status": "completed"
    },
    "tags": []
   },
   "outputs": [
    {
     "data": {
      "text/html": [
       "<div>\n",
       "<style scoped>\n",
       "    .dataframe tbody tr th:only-of-type {\n",
       "        vertical-align: middle;\n",
       "    }\n",
       "\n",
       "    .dataframe tbody tr th {\n",
       "        vertical-align: top;\n",
       "    }\n",
       "\n",
       "    .dataframe thead th {\n",
       "        text-align: right;\n",
       "    }\n",
       "</style>\n",
       "<table border=\"1\" class=\"dataframe\">\n",
       "  <thead>\n",
       "    <tr style=\"text-align: right;\">\n",
       "      <th></th>\n",
       "      <th>people_id</th>\n",
       "      <th>activity_id</th>\n",
       "      <th>data_activity</th>\n",
       "      <th>activity_category</th>\n",
       "      <th>activity_type</th>\n",
       "      <th>outcome</th>\n",
       "      <th>char_1</th>\n",
       "      <th>group_1</th>\n",
       "      <th>char_2</th>\n",
       "      <th>date</th>\n",
       "      <th>...</th>\n",
       "      <th>char_29</th>\n",
       "      <th>char_30</th>\n",
       "      <th>char_31</th>\n",
       "      <th>char_32</th>\n",
       "      <th>char_33</th>\n",
       "      <th>char_34</th>\n",
       "      <th>char_35</th>\n",
       "      <th>char_36</th>\n",
       "      <th>char_37</th>\n",
       "      <th>char_38</th>\n",
       "    </tr>\n",
       "  </thead>\n",
       "  <tbody>\n",
       "    <tr>\n",
       "      <th>0</th>\n",
       "      <td>100</td>\n",
       "      <td>1734928</td>\n",
       "      <td>2023-08-26</td>\n",
       "      <td>4</td>\n",
       "      <td>76</td>\n",
       "      <td>0</td>\n",
       "      <td>type 2</td>\n",
       "      <td>17304</td>\n",
       "      <td>type 2</td>\n",
       "      <td>2021-06-29</td>\n",
       "      <td>...</td>\n",
       "      <td>0</td>\n",
       "      <td>1</td>\n",
       "      <td>1</td>\n",
       "      <td>0</td>\n",
       "      <td>0</td>\n",
       "      <td>1</td>\n",
       "      <td>1</td>\n",
       "      <td>1</td>\n",
       "      <td>0</td>\n",
       "      <td>36</td>\n",
       "    </tr>\n",
       "    <tr>\n",
       "      <th>1</th>\n",
       "      <td>100</td>\n",
       "      <td>2434093</td>\n",
       "      <td>2022-09-27</td>\n",
       "      <td>2</td>\n",
       "      <td>1</td>\n",
       "      <td>0</td>\n",
       "      <td>type 2</td>\n",
       "      <td>17304</td>\n",
       "      <td>type 2</td>\n",
       "      <td>2021-06-29</td>\n",
       "      <td>...</td>\n",
       "      <td>0</td>\n",
       "      <td>1</td>\n",
       "      <td>1</td>\n",
       "      <td>0</td>\n",
       "      <td>0</td>\n",
       "      <td>1</td>\n",
       "      <td>1</td>\n",
       "      <td>1</td>\n",
       "      <td>0</td>\n",
       "      <td>36</td>\n",
       "    </tr>\n",
       "    <tr>\n",
       "      <th>2</th>\n",
       "      <td>100</td>\n",
       "      <td>3404049</td>\n",
       "      <td>2022-09-27</td>\n",
       "      <td>2</td>\n",
       "      <td>1</td>\n",
       "      <td>0</td>\n",
       "      <td>type 2</td>\n",
       "      <td>17304</td>\n",
       "      <td>type 2</td>\n",
       "      <td>2021-06-29</td>\n",
       "      <td>...</td>\n",
       "      <td>0</td>\n",
       "      <td>1</td>\n",
       "      <td>1</td>\n",
       "      <td>0</td>\n",
       "      <td>0</td>\n",
       "      <td>1</td>\n",
       "      <td>1</td>\n",
       "      <td>1</td>\n",
       "      <td>0</td>\n",
       "      <td>36</td>\n",
       "    </tr>\n",
       "    <tr>\n",
       "      <th>3</th>\n",
       "      <td>100</td>\n",
       "      <td>3651215</td>\n",
       "      <td>2023-08-04</td>\n",
       "      <td>2</td>\n",
       "      <td>1</td>\n",
       "      <td>0</td>\n",
       "      <td>type 2</td>\n",
       "      <td>17304</td>\n",
       "      <td>type 2</td>\n",
       "      <td>2021-06-29</td>\n",
       "      <td>...</td>\n",
       "      <td>0</td>\n",
       "      <td>1</td>\n",
       "      <td>1</td>\n",
       "      <td>0</td>\n",
       "      <td>0</td>\n",
       "      <td>1</td>\n",
       "      <td>1</td>\n",
       "      <td>1</td>\n",
       "      <td>0</td>\n",
       "      <td>36</td>\n",
       "    </tr>\n",
       "    <tr>\n",
       "      <th>4</th>\n",
       "      <td>100</td>\n",
       "      <td>4109017</td>\n",
       "      <td>2023-08-26</td>\n",
       "      <td>2</td>\n",
       "      <td>1</td>\n",
       "      <td>0</td>\n",
       "      <td>type 2</td>\n",
       "      <td>17304</td>\n",
       "      <td>type 2</td>\n",
       "      <td>2021-06-29</td>\n",
       "      <td>...</td>\n",
       "      <td>0</td>\n",
       "      <td>1</td>\n",
       "      <td>1</td>\n",
       "      <td>0</td>\n",
       "      <td>0</td>\n",
       "      <td>1</td>\n",
       "      <td>1</td>\n",
       "      <td>1</td>\n",
       "      <td>0</td>\n",
       "      <td>36</td>\n",
       "    </tr>\n",
       "  </tbody>\n",
       "</table>\n",
       "<p>5 rows × 46 columns</p>\n",
       "</div>"
      ],
      "text/plain": [
       "   people_id  activity_id data_activity  activity_category  activity_type  \\\n",
       "0        100      1734928    2023-08-26                  4             76   \n",
       "1        100      2434093    2022-09-27                  2              1   \n",
       "2        100      3404049    2022-09-27                  2              1   \n",
       "3        100      3651215    2023-08-04                  2              1   \n",
       "4        100      4109017    2023-08-26                  2              1   \n",
       "\n",
       "   outcome  char_1  group_1  char_2        date  ... char_29 char_30 char_31  \\\n",
       "0        0  type 2    17304  type 2  2021-06-29  ...       0       1       1   \n",
       "1        0  type 2    17304  type 2  2021-06-29  ...       0       1       1   \n",
       "2        0  type 2    17304  type 2  2021-06-29  ...       0       1       1   \n",
       "3        0  type 2    17304  type 2  2021-06-29  ...       0       1       1   \n",
       "4        0  type 2    17304  type 2  2021-06-29  ...       0       1       1   \n",
       "\n",
       "  char_32 char_33 char_34 char_35  char_36  char_37  char_38  \n",
       "0       0       0       1       1        1        0       36  \n",
       "1       0       0       1       1        1        0       36  \n",
       "2       0       0       1       1        1        0       36  \n",
       "3       0       0       1       1        1        0       36  \n",
       "4       0       0       1       1        1        0       36  \n",
       "\n",
       "[5 rows x 46 columns]"
      ]
     },
     "execution_count": 22,
     "metadata": {},
     "output_type": "execute_result"
    }
   ],
   "source": [
    "all_data.head()"
   ]
  },
  {
   "cell_type": "code",
   "execution_count": 23,
   "metadata": {
    "execution": {
     "iopub.execute_input": "2021-03-17T17:54:25.510957Z",
     "iopub.status.busy": "2021-03-17T17:54:25.510278Z",
     "iopub.status.idle": "2021-03-17T17:54:25.513785Z",
     "shell.execute_reply": "2021-03-17T17:54:25.514262Z"
    },
    "papermill": {
     "duration": 0.045447,
     "end_time": "2021-03-17T17:54:25.514440",
     "exception": false,
     "start_time": "2021-03-17T17:54:25.468993",
     "status": "completed"
    },
    "tags": []
   },
   "outputs": [
    {
     "data": {
      "text/plain": [
       "0          2021-06-29\n",
       "1          2021-06-29\n",
       "2          2021-06-29\n",
       "3          2021-06-29\n",
       "4          2021-06-29\n",
       "              ...    \n",
       "2197286    2023-01-06\n",
       "2197287    2023-01-06\n",
       "2197288    2023-01-06\n",
       "2197289    2023-01-06\n",
       "2197290    2023-01-06\n",
       "Name: date, Length: 2197291, dtype: object"
      ]
     },
     "execution_count": 23,
     "metadata": {},
     "output_type": "execute_result"
    }
   ],
   "source": [
    "all_data.date"
   ]
  },
  {
   "cell_type": "code",
   "execution_count": 24,
   "metadata": {
    "execution": {
     "iopub.execute_input": "2021-03-17T17:54:25.899009Z",
     "iopub.status.busy": "2021-03-17T17:54:25.898253Z",
     "iopub.status.idle": "2021-03-17T17:54:27.889247Z",
     "shell.execute_reply": "2021-03-17T17:54:27.888626Z"
    },
    "papermill": {
     "duration": 2.34137,
     "end_time": "2021-03-17T17:54:27.889396",
     "exception": false,
     "start_time": "2021-03-17T17:54:25.548026",
     "status": "completed"
    },
    "tags": []
   },
   "outputs": [
    {
     "name": "stderr",
     "output_type": "stream",
     "text": [
      "/opt/conda/lib/python3.7/site-packages/ipykernel_launcher.py:9: FutureWarning: Series.dt.weekofyear and Series.dt.week have been deprecated.  Please use Series.dt.isocalendar().week instead.\n",
      "  if __name__ == '__main__':\n"
     ]
    }
   ],
   "source": [
    "# We gonna create stationary variables\n",
    "\n",
    "# convert the object variable to datetime \n",
    "all_data[\"date\"] = pd.to_datetime(all_data[\"date\"])\n",
    "\n",
    "# Create new variables \n",
    "all_data[\"day\"] = all_data[\"date\"].dt.day\n",
    "all_data[\"day_of_week\"] = all_data[\"date\"].dt.weekday\n",
    "all_data[\"week\"] = all_data[\"date\"].dt.week\n",
    "all_data[\"month\"] = all_data[\"date\"].dt.month\n",
    "all_data[\"trimester\"] = all_data[\"date\"].dt.quarter\n",
    "all_data[\"year\"] = all_data[\"date\"].dt.year"
   ]
  },
  {
   "cell_type": "code",
   "execution_count": 25,
   "metadata": {
    "execution": {
     "iopub.execute_input": "2021-03-17T17:54:27.984233Z",
     "iopub.status.busy": "2021-03-17T17:54:27.983437Z",
     "iopub.status.idle": "2021-03-17T17:54:27.988975Z",
     "shell.execute_reply": "2021-03-17T17:54:27.988460Z"
    },
    "papermill": {
     "duration": 0.065875,
     "end_time": "2021-03-17T17:54:27.989143",
     "exception": false,
     "start_time": "2021-03-17T17:54:27.923268",
     "status": "completed"
    },
    "tags": []
   },
   "outputs": [
    {
     "data": {
      "text/html": [
       "<div>\n",
       "<style scoped>\n",
       "    .dataframe tbody tr th:only-of-type {\n",
       "        vertical-align: middle;\n",
       "    }\n",
       "\n",
       "    .dataframe tbody tr th {\n",
       "        vertical-align: top;\n",
       "    }\n",
       "\n",
       "    .dataframe thead th {\n",
       "        text-align: right;\n",
       "    }\n",
       "</style>\n",
       "<table border=\"1\" class=\"dataframe\">\n",
       "  <thead>\n",
       "    <tr style=\"text-align: right;\">\n",
       "      <th></th>\n",
       "      <th>people_id</th>\n",
       "      <th>activity_id</th>\n",
       "      <th>data_activity</th>\n",
       "      <th>activity_category</th>\n",
       "      <th>activity_type</th>\n",
       "      <th>outcome</th>\n",
       "      <th>char_1</th>\n",
       "      <th>group_1</th>\n",
       "      <th>char_2</th>\n",
       "      <th>date</th>\n",
       "      <th>...</th>\n",
       "      <th>char_35</th>\n",
       "      <th>char_36</th>\n",
       "      <th>char_37</th>\n",
       "      <th>char_38</th>\n",
       "      <th>day</th>\n",
       "      <th>day_of_week</th>\n",
       "      <th>week</th>\n",
       "      <th>month</th>\n",
       "      <th>trimester</th>\n",
       "      <th>year</th>\n",
       "    </tr>\n",
       "  </thead>\n",
       "  <tbody>\n",
       "    <tr>\n",
       "      <th>0</th>\n",
       "      <td>100</td>\n",
       "      <td>1734928</td>\n",
       "      <td>2023-08-26</td>\n",
       "      <td>4</td>\n",
       "      <td>76</td>\n",
       "      <td>0</td>\n",
       "      <td>type 2</td>\n",
       "      <td>17304</td>\n",
       "      <td>type 2</td>\n",
       "      <td>2021-06-29</td>\n",
       "      <td>...</td>\n",
       "      <td>1</td>\n",
       "      <td>1</td>\n",
       "      <td>0</td>\n",
       "      <td>36</td>\n",
       "      <td>29</td>\n",
       "      <td>1</td>\n",
       "      <td>26</td>\n",
       "      <td>6</td>\n",
       "      <td>2</td>\n",
       "      <td>2021</td>\n",
       "    </tr>\n",
       "    <tr>\n",
       "      <th>1</th>\n",
       "      <td>100</td>\n",
       "      <td>2434093</td>\n",
       "      <td>2022-09-27</td>\n",
       "      <td>2</td>\n",
       "      <td>1</td>\n",
       "      <td>0</td>\n",
       "      <td>type 2</td>\n",
       "      <td>17304</td>\n",
       "      <td>type 2</td>\n",
       "      <td>2021-06-29</td>\n",
       "      <td>...</td>\n",
       "      <td>1</td>\n",
       "      <td>1</td>\n",
       "      <td>0</td>\n",
       "      <td>36</td>\n",
       "      <td>29</td>\n",
       "      <td>1</td>\n",
       "      <td>26</td>\n",
       "      <td>6</td>\n",
       "      <td>2</td>\n",
       "      <td>2021</td>\n",
       "    </tr>\n",
       "    <tr>\n",
       "      <th>2</th>\n",
       "      <td>100</td>\n",
       "      <td>3404049</td>\n",
       "      <td>2022-09-27</td>\n",
       "      <td>2</td>\n",
       "      <td>1</td>\n",
       "      <td>0</td>\n",
       "      <td>type 2</td>\n",
       "      <td>17304</td>\n",
       "      <td>type 2</td>\n",
       "      <td>2021-06-29</td>\n",
       "      <td>...</td>\n",
       "      <td>1</td>\n",
       "      <td>1</td>\n",
       "      <td>0</td>\n",
       "      <td>36</td>\n",
       "      <td>29</td>\n",
       "      <td>1</td>\n",
       "      <td>26</td>\n",
       "      <td>6</td>\n",
       "      <td>2</td>\n",
       "      <td>2021</td>\n",
       "    </tr>\n",
       "    <tr>\n",
       "      <th>3</th>\n",
       "      <td>100</td>\n",
       "      <td>3651215</td>\n",
       "      <td>2023-08-04</td>\n",
       "      <td>2</td>\n",
       "      <td>1</td>\n",
       "      <td>0</td>\n",
       "      <td>type 2</td>\n",
       "      <td>17304</td>\n",
       "      <td>type 2</td>\n",
       "      <td>2021-06-29</td>\n",
       "      <td>...</td>\n",
       "      <td>1</td>\n",
       "      <td>1</td>\n",
       "      <td>0</td>\n",
       "      <td>36</td>\n",
       "      <td>29</td>\n",
       "      <td>1</td>\n",
       "      <td>26</td>\n",
       "      <td>6</td>\n",
       "      <td>2</td>\n",
       "      <td>2021</td>\n",
       "    </tr>\n",
       "    <tr>\n",
       "      <th>4</th>\n",
       "      <td>100</td>\n",
       "      <td>4109017</td>\n",
       "      <td>2023-08-26</td>\n",
       "      <td>2</td>\n",
       "      <td>1</td>\n",
       "      <td>0</td>\n",
       "      <td>type 2</td>\n",
       "      <td>17304</td>\n",
       "      <td>type 2</td>\n",
       "      <td>2021-06-29</td>\n",
       "      <td>...</td>\n",
       "      <td>1</td>\n",
       "      <td>1</td>\n",
       "      <td>0</td>\n",
       "      <td>36</td>\n",
       "      <td>29</td>\n",
       "      <td>1</td>\n",
       "      <td>26</td>\n",
       "      <td>6</td>\n",
       "      <td>2</td>\n",
       "      <td>2021</td>\n",
       "    </tr>\n",
       "  </tbody>\n",
       "</table>\n",
       "<p>5 rows × 52 columns</p>\n",
       "</div>"
      ],
      "text/plain": [
       "   people_id  activity_id data_activity  activity_category  activity_type  \\\n",
       "0        100      1734928    2023-08-26                  4             76   \n",
       "1        100      2434093    2022-09-27                  2              1   \n",
       "2        100      3404049    2022-09-27                  2              1   \n",
       "3        100      3651215    2023-08-04                  2              1   \n",
       "4        100      4109017    2023-08-26                  2              1   \n",
       "\n",
       "   outcome  char_1  group_1  char_2       date  ... char_35 char_36 char_37  \\\n",
       "0        0  type 2    17304  type 2 2021-06-29  ...       1       1       0   \n",
       "1        0  type 2    17304  type 2 2021-06-29  ...       1       1       0   \n",
       "2        0  type 2    17304  type 2 2021-06-29  ...       1       1       0   \n",
       "3        0  type 2    17304  type 2 2021-06-29  ...       1       1       0   \n",
       "4        0  type 2    17304  type 2 2021-06-29  ...       1       1       0   \n",
       "\n",
       "  char_38 day day_of_week week  month  trimester  year  \n",
       "0      36  29           1   26      6          2  2021  \n",
       "1      36  29           1   26      6          2  2021  \n",
       "2      36  29           1   26      6          2  2021  \n",
       "3      36  29           1   26      6          2  2021  \n",
       "4      36  29           1   26      6          2  2021  \n",
       "\n",
       "[5 rows x 52 columns]"
      ]
     },
     "execution_count": 25,
     "metadata": {},
     "output_type": "execute_result"
    }
   ],
   "source": [
    "all_data.head()"
   ]
  },
  {
   "cell_type": "code",
   "execution_count": 26,
   "metadata": {
    "execution": {
     "iopub.execute_input": "2021-03-17T17:54:28.198451Z",
     "iopub.status.busy": "2021-03-17T17:54:28.197714Z",
     "iopub.status.idle": "2021-03-17T17:54:30.248222Z",
     "shell.execute_reply": "2021-03-17T17:54:30.247633Z"
    },
    "papermill": {
     "duration": 2.224588,
     "end_time": "2021-03-17T17:54:30.248387",
     "exception": false,
     "start_time": "2021-03-17T17:54:28.023799",
     "status": "completed"
    },
    "tags": []
   },
   "outputs": [
    {
     "name": "stderr",
     "output_type": "stream",
     "text": [
      "/opt/conda/lib/python3.7/site-packages/ipykernel_launcher.py:6: FutureWarning: Series.dt.weekofyear and Series.dt.week have been deprecated.  Please use Series.dt.isocalendar().week instead.\n",
      "  \n"
     ]
    }
   ],
   "source": [
    "# Repet the same but with data_activity\n",
    "\n",
    "all_data[\"data_activity\"] = pd.to_datetime(all_data[\"data_activity\"])\n",
    "all_data[\"activity_day\"] = all_data[\"data_activity\"].dt.day\n",
    "all_data[\"activity_day_of_week\"] = all_data[\"data_activity\"].dt.weekday\n",
    "all_data[\"activity_week\"] = all_data[\"data_activity\"].dt.week\n",
    "all_data[\"activity_month\"] = all_data[\"data_activity\"].dt.month\n",
    "all_data[\"activity_trimester\"] = all_data[\"data_activity\"].dt.quarter\n",
    "all_data[\"activity_year\"] = all_data[\"data_activity\"].dt.year"
   ]
  },
  {
   "cell_type": "code",
   "execution_count": 27,
   "metadata": {
    "execution": {
     "iopub.execute_input": "2021-03-17T17:54:30.325014Z",
     "iopub.status.busy": "2021-03-17T17:54:30.324279Z",
     "iopub.status.idle": "2021-03-17T17:54:30.331927Z",
     "shell.execute_reply": "2021-03-17T17:54:30.331263Z"
    },
    "papermill": {
     "duration": 0.048851,
     "end_time": "2021-03-17T17:54:30.332108",
     "exception": false,
     "start_time": "2021-03-17T17:54:30.283257",
     "status": "completed"
    },
    "tags": []
   },
   "outputs": [
    {
     "name": "stdout",
     "output_type": "stream",
     "text": [
      "Types of variables later of 4to remplace 0\n",
      "int64     47\n",
      "object     9\n",
      "dtype: int64\n"
     ]
    }
   ],
   "source": [
    "#Delete the original date columns\n",
    "\n",
    "del(all_data[\"date\"])\n",
    "del(all_data[\"data_activity\"])\n",
    "\n",
    "types = pd.DataFrame(all_data.dtypes)\n",
    "print(\"Types of variables later of 4to remplace\",types.groupby(0).size())"
   ]
  },
  {
   "cell_type": "code",
   "execution_count": 28,
   "metadata": {
    "execution": {
     "iopub.execute_input": "2021-03-17T17:54:30.428908Z",
     "iopub.status.busy": "2021-03-17T17:54:30.427898Z",
     "iopub.status.idle": "2021-03-17T17:54:30.433042Z",
     "shell.execute_reply": "2021-03-17T17:54:30.432383Z"
    },
    "papermill": {
     "duration": 0.065569,
     "end_time": "2021-03-17T17:54:30.433212",
     "exception": false,
     "start_time": "2021-03-17T17:54:30.367643",
     "status": "completed"
    },
    "tags": []
   },
   "outputs": [
    {
     "data": {
      "text/html": [
       "<div>\n",
       "<style scoped>\n",
       "    .dataframe tbody tr th:only-of-type {\n",
       "        vertical-align: middle;\n",
       "    }\n",
       "\n",
       "    .dataframe tbody tr th {\n",
       "        vertical-align: top;\n",
       "    }\n",
       "\n",
       "    .dataframe thead th {\n",
       "        text-align: right;\n",
       "    }\n",
       "</style>\n",
       "<table border=\"1\" class=\"dataframe\">\n",
       "  <thead>\n",
       "    <tr style=\"text-align: right;\">\n",
       "      <th></th>\n",
       "      <th>people_id</th>\n",
       "      <th>activity_id</th>\n",
       "      <th>activity_category</th>\n",
       "      <th>activity_type</th>\n",
       "      <th>outcome</th>\n",
       "      <th>char_1</th>\n",
       "      <th>group_1</th>\n",
       "      <th>char_2</th>\n",
       "      <th>char_3</th>\n",
       "      <th>char_4</th>\n",
       "      <th>...</th>\n",
       "      <th>week</th>\n",
       "      <th>month</th>\n",
       "      <th>trimester</th>\n",
       "      <th>year</th>\n",
       "      <th>activity_day</th>\n",
       "      <th>activity_day_of_week</th>\n",
       "      <th>activity_week</th>\n",
       "      <th>activity_month</th>\n",
       "      <th>activity_trimester</th>\n",
       "      <th>activity_year</th>\n",
       "    </tr>\n",
       "  </thead>\n",
       "  <tbody>\n",
       "    <tr>\n",
       "      <th>0</th>\n",
       "      <td>100</td>\n",
       "      <td>1734928</td>\n",
       "      <td>4</td>\n",
       "      <td>76</td>\n",
       "      <td>0</td>\n",
       "      <td>type 2</td>\n",
       "      <td>17304</td>\n",
       "      <td>type 2</td>\n",
       "      <td>type 5</td>\n",
       "      <td>type 5</td>\n",
       "      <td>...</td>\n",
       "      <td>26</td>\n",
       "      <td>6</td>\n",
       "      <td>2</td>\n",
       "      <td>2021</td>\n",
       "      <td>26</td>\n",
       "      <td>5</td>\n",
       "      <td>34</td>\n",
       "      <td>8</td>\n",
       "      <td>3</td>\n",
       "      <td>2023</td>\n",
       "    </tr>\n",
       "    <tr>\n",
       "      <th>1</th>\n",
       "      <td>100</td>\n",
       "      <td>2434093</td>\n",
       "      <td>2</td>\n",
       "      <td>1</td>\n",
       "      <td>0</td>\n",
       "      <td>type 2</td>\n",
       "      <td>17304</td>\n",
       "      <td>type 2</td>\n",
       "      <td>type 5</td>\n",
       "      <td>type 5</td>\n",
       "      <td>...</td>\n",
       "      <td>26</td>\n",
       "      <td>6</td>\n",
       "      <td>2</td>\n",
       "      <td>2021</td>\n",
       "      <td>27</td>\n",
       "      <td>1</td>\n",
       "      <td>39</td>\n",
       "      <td>9</td>\n",
       "      <td>3</td>\n",
       "      <td>2022</td>\n",
       "    </tr>\n",
       "    <tr>\n",
       "      <th>2</th>\n",
       "      <td>100</td>\n",
       "      <td>3404049</td>\n",
       "      <td>2</td>\n",
       "      <td>1</td>\n",
       "      <td>0</td>\n",
       "      <td>type 2</td>\n",
       "      <td>17304</td>\n",
       "      <td>type 2</td>\n",
       "      <td>type 5</td>\n",
       "      <td>type 5</td>\n",
       "      <td>...</td>\n",
       "      <td>26</td>\n",
       "      <td>6</td>\n",
       "      <td>2</td>\n",
       "      <td>2021</td>\n",
       "      <td>27</td>\n",
       "      <td>1</td>\n",
       "      <td>39</td>\n",
       "      <td>9</td>\n",
       "      <td>3</td>\n",
       "      <td>2022</td>\n",
       "    </tr>\n",
       "    <tr>\n",
       "      <th>3</th>\n",
       "      <td>100</td>\n",
       "      <td>3651215</td>\n",
       "      <td>2</td>\n",
       "      <td>1</td>\n",
       "      <td>0</td>\n",
       "      <td>type 2</td>\n",
       "      <td>17304</td>\n",
       "      <td>type 2</td>\n",
       "      <td>type 5</td>\n",
       "      <td>type 5</td>\n",
       "      <td>...</td>\n",
       "      <td>26</td>\n",
       "      <td>6</td>\n",
       "      <td>2</td>\n",
       "      <td>2021</td>\n",
       "      <td>4</td>\n",
       "      <td>4</td>\n",
       "      <td>31</td>\n",
       "      <td>8</td>\n",
       "      <td>3</td>\n",
       "      <td>2023</td>\n",
       "    </tr>\n",
       "    <tr>\n",
       "      <th>4</th>\n",
       "      <td>100</td>\n",
       "      <td>4109017</td>\n",
       "      <td>2</td>\n",
       "      <td>1</td>\n",
       "      <td>0</td>\n",
       "      <td>type 2</td>\n",
       "      <td>17304</td>\n",
       "      <td>type 2</td>\n",
       "      <td>type 5</td>\n",
       "      <td>type 5</td>\n",
       "      <td>...</td>\n",
       "      <td>26</td>\n",
       "      <td>6</td>\n",
       "      <td>2</td>\n",
       "      <td>2021</td>\n",
       "      <td>26</td>\n",
       "      <td>5</td>\n",
       "      <td>34</td>\n",
       "      <td>8</td>\n",
       "      <td>3</td>\n",
       "      <td>2023</td>\n",
       "    </tr>\n",
       "  </tbody>\n",
       "</table>\n",
       "<p>5 rows × 56 columns</p>\n",
       "</div>"
      ],
      "text/plain": [
       "   people_id  activity_id  activity_category  activity_type  outcome  char_1  \\\n",
       "0        100      1734928                  4             76        0  type 2   \n",
       "1        100      2434093                  2              1        0  type 2   \n",
       "2        100      3404049                  2              1        0  type 2   \n",
       "3        100      3651215                  2              1        0  type 2   \n",
       "4        100      4109017                  2              1        0  type 2   \n",
       "\n",
       "   group_1  char_2  char_3  char_4  ... week month trimester  year  \\\n",
       "0    17304  type 2  type 5  type 5  ...   26     6         2  2021   \n",
       "1    17304  type 2  type 5  type 5  ...   26     6         2  2021   \n",
       "2    17304  type 2  type 5  type 5  ...   26     6         2  2021   \n",
       "3    17304  type 2  type 5  type 5  ...   26     6         2  2021   \n",
       "4    17304  type 2  type 5  type 5  ...   26     6         2  2021   \n",
       "\n",
       "  activity_day  activity_day_of_week  activity_week  activity_month  \\\n",
       "0           26                     5             34               8   \n",
       "1           27                     1             39               9   \n",
       "2           27                     1             39               9   \n",
       "3            4                     4             31               8   \n",
       "4           26                     5             34               8   \n",
       "\n",
       "   activity_trimester  activity_year  \n",
       "0                   3           2023  \n",
       "1                   3           2022  \n",
       "2                   3           2022  \n",
       "3                   3           2023  \n",
       "4                   3           2023  \n",
       "\n",
       "[5 rows x 56 columns]"
      ]
     },
     "execution_count": 28,
     "metadata": {},
     "output_type": "execute_result"
    }
   ],
   "source": [
    "all_data.head()"
   ]
  },
  {
   "cell_type": "code",
   "execution_count": 29,
   "metadata": {
    "execution": {
     "iopub.execute_input": "2021-03-17T17:54:30.650489Z",
     "iopub.status.busy": "2021-03-17T17:54:30.649779Z",
     "iopub.status.idle": "2021-03-17T17:54:31.926187Z",
     "shell.execute_reply": "2021-03-17T17:54:31.926667Z"
    },
    "papermill": {
     "duration": 1.455842,
     "end_time": "2021-03-17T17:54:31.926850",
     "exception": false,
     "start_time": "2021-03-17T17:54:30.471008",
     "status": "completed"
    },
    "tags": []
   },
   "outputs": [
    {
     "name": "stdout",
     "output_type": "stream",
     "text": [
      "The variable char_1contine:  2 distinct values\n",
      "The variable char_2contine:  3 distinct values\n",
      "The variable char_3contine:  43 distinct values\n",
      "The variable char_4contine:  25 distinct values\n",
      "The variable char_5contine:  9 distinct values\n",
      "The variable char_6contine:  7 distinct values\n",
      "The variable char_7contine:  25 distinct values\n",
      "The variable char_8contine:  8 distinct values\n",
      "The variable char_9contine:  9 distinct values\n"
     ]
    }
   ],
   "source": [
    "# We are going to evaluate the number of different variables again \n",
    "\n",
    "categorics = types.index[types[0] == 'O'].values \n",
    "for line in categorics:\n",
    "    print(\"The variable \"+ line +\"contine: \", str(len(all_data[line].unique()))+\" distinct values\")"
   ]
  },
  {
   "cell_type": "code",
   "execution_count": 30,
   "metadata": {
    "execution": {
     "iopub.execute_input": "2021-03-17T17:54:32.010407Z",
     "iopub.status.busy": "2021-03-17T17:54:32.009646Z",
     "iopub.status.idle": "2021-03-17T17:54:33.020248Z",
     "shell.execute_reply": "2021-03-17T17:54:33.019516Z"
    },
    "papermill": {
     "duration": 1.055891,
     "end_time": "2021-03-17T17:54:33.020423",
     "exception": false,
     "start_time": "2021-03-17T17:54:31.964532",
     "status": "completed"
    },
    "tags": []
   },
   "outputs": [],
   "source": [
    "# We gonna use one hot encoder for the rest of variables \n",
    "\n",
    "from sklearn.preprocessing import LabelEncoder,OneHotEncoder\n",
    "\n",
    "#Se define función que captura el dataframe y la columna para retornar un dataframe luego de OHE\n",
    "# \n",
    "def crea_OneHotEncoding(df, column):\n",
    "  le = LabelEncoder()\n",
    "  le_ajustado=le.fit_transform(df[column]).reshape(-1,1)\n",
    "  encoder = OneHotEncoder(sparse=False)\n",
    "  column = [column+ \"_\"+ str(i) for i in le.classes_]\n",
    "  data = encoder.fit_transform(le_ajustado)\n",
    "  return(pd.DataFrame(data,columns =column))"
   ]
  },
  {
   "cell_type": "code",
   "execution_count": 31,
   "metadata": {
    "execution": {
     "iopub.execute_input": "2021-03-17T17:54:33.106825Z",
     "iopub.status.busy": "2021-03-17T17:54:33.106139Z",
     "iopub.status.idle": "2021-03-17T17:55:16.222845Z",
     "shell.execute_reply": "2021-03-17T17:55:16.223647Z"
    },
    "papermill": {
     "duration": 43.165302,
     "end_time": "2021-03-17T17:55:16.224216",
     "exception": false,
     "start_time": "2021-03-17T17:54:33.058914",
     "status": "completed"
    },
    "tags": []
   },
   "outputs": [
    {
     "name": "stdout",
     "output_type": "stream",
     "text": [
      "Columna  char_1  transformada!\n",
      "Columna  char_2  transformada!\n",
      "Columna  char_3  transformada!\n",
      "Columna  char_4  transformada!\n",
      "Columna  char_5  transformada!\n",
      "Columna  char_6  transformada!\n",
      "Columna  char_7  transformada!\n",
      "Columna  char_8  transformada!\n",
      "Columna  char_9  transformada!\n",
      "Tamaño final del dataset transformado: (2197291, 177)\n"
     ]
    }
   ],
   "source": [
    "numeric_columns = list(set(types.index[types[0] ==\"int64\"].values) - set([\"outcome\"]))\n",
    "all_data_finish = all_data[numeric_columns]\n",
    "objetivo = all_data[\"outcome\"]\n",
    "\n",
    "categories = types.index[types[0] == 'O'].values\n",
    "for column in categories:\n",
    "  df = crea_OneHotEncoding(all_data,column)\n",
    "  all_data_finish = pd.concat([all_data_finish,df],axis=1)\n",
    "  print(\"Columna \",column, \" transformada!\")\n",
    "\n",
    "print(\"Tamaño final del dataset transformado:\",all_data_finish.shape)"
   ]
  },
  {
   "cell_type": "code",
   "execution_count": 32,
   "metadata": {
    "execution": {
     "iopub.execute_input": "2021-03-17T17:55:16.325639Z",
     "iopub.status.busy": "2021-03-17T17:55:16.324625Z",
     "iopub.status.idle": "2021-03-17T17:55:16.352188Z",
     "shell.execute_reply": "2021-03-17T17:55:16.352694Z"
    },
    "papermill": {
     "duration": 0.07721,
     "end_time": "2021-03-17T17:55:16.352863",
     "exception": false,
     "start_time": "2021-03-17T17:55:16.275653",
     "status": "completed"
    },
    "tags": []
   },
   "outputs": [
    {
     "data": {
      "text/html": [
       "<div>\n",
       "<style scoped>\n",
       "    .dataframe tbody tr th:only-of-type {\n",
       "        vertical-align: middle;\n",
       "    }\n",
       "\n",
       "    .dataframe tbody tr th {\n",
       "        vertical-align: top;\n",
       "    }\n",
       "\n",
       "    .dataframe thead th {\n",
       "        text-align: right;\n",
       "    }\n",
       "</style>\n",
       "<table border=\"1\" class=\"dataframe\">\n",
       "  <thead>\n",
       "    <tr style=\"text-align: right;\">\n",
       "      <th></th>\n",
       "      <th>char_33</th>\n",
       "      <th>char_12</th>\n",
       "      <th>char_13</th>\n",
       "      <th>week</th>\n",
       "      <th>day</th>\n",
       "      <th>char_22</th>\n",
       "      <th>char_15</th>\n",
       "      <th>char_31</th>\n",
       "      <th>day_of_week</th>\n",
       "      <th>char_35</th>\n",
       "      <th>...</th>\n",
       "      <th>char_8_type 8</th>\n",
       "      <th>char_9_type 1</th>\n",
       "      <th>char_9_type 2</th>\n",
       "      <th>char_9_type 3</th>\n",
       "      <th>char_9_type 4</th>\n",
       "      <th>char_9_type 5</th>\n",
       "      <th>char_9_type 6</th>\n",
       "      <th>char_9_type 7</th>\n",
       "      <th>char_9_type 8</th>\n",
       "      <th>char_9_type 9</th>\n",
       "    </tr>\n",
       "  </thead>\n",
       "  <tbody>\n",
       "    <tr>\n",
       "      <th>0</th>\n",
       "      <td>0</td>\n",
       "      <td>0</td>\n",
       "      <td>1</td>\n",
       "      <td>26</td>\n",
       "      <td>29</td>\n",
       "      <td>0</td>\n",
       "      <td>0</td>\n",
       "      <td>1</td>\n",
       "      <td>1</td>\n",
       "      <td>1</td>\n",
       "      <td>...</td>\n",
       "      <td>0.0</td>\n",
       "      <td>0.0</td>\n",
       "      <td>1.0</td>\n",
       "      <td>0.0</td>\n",
       "      <td>0.0</td>\n",
       "      <td>0.0</td>\n",
       "      <td>0.0</td>\n",
       "      <td>0.0</td>\n",
       "      <td>0.0</td>\n",
       "      <td>0.0</td>\n",
       "    </tr>\n",
       "    <tr>\n",
       "      <th>1</th>\n",
       "      <td>0</td>\n",
       "      <td>0</td>\n",
       "      <td>1</td>\n",
       "      <td>26</td>\n",
       "      <td>29</td>\n",
       "      <td>0</td>\n",
       "      <td>0</td>\n",
       "      <td>1</td>\n",
       "      <td>1</td>\n",
       "      <td>1</td>\n",
       "      <td>...</td>\n",
       "      <td>0.0</td>\n",
       "      <td>0.0</td>\n",
       "      <td>1.0</td>\n",
       "      <td>0.0</td>\n",
       "      <td>0.0</td>\n",
       "      <td>0.0</td>\n",
       "      <td>0.0</td>\n",
       "      <td>0.0</td>\n",
       "      <td>0.0</td>\n",
       "      <td>0.0</td>\n",
       "    </tr>\n",
       "    <tr>\n",
       "      <th>2</th>\n",
       "      <td>0</td>\n",
       "      <td>0</td>\n",
       "      <td>1</td>\n",
       "      <td>26</td>\n",
       "      <td>29</td>\n",
       "      <td>0</td>\n",
       "      <td>0</td>\n",
       "      <td>1</td>\n",
       "      <td>1</td>\n",
       "      <td>1</td>\n",
       "      <td>...</td>\n",
       "      <td>0.0</td>\n",
       "      <td>0.0</td>\n",
       "      <td>1.0</td>\n",
       "      <td>0.0</td>\n",
       "      <td>0.0</td>\n",
       "      <td>0.0</td>\n",
       "      <td>0.0</td>\n",
       "      <td>0.0</td>\n",
       "      <td>0.0</td>\n",
       "      <td>0.0</td>\n",
       "    </tr>\n",
       "    <tr>\n",
       "      <th>3</th>\n",
       "      <td>0</td>\n",
       "      <td>0</td>\n",
       "      <td>1</td>\n",
       "      <td>26</td>\n",
       "      <td>29</td>\n",
       "      <td>0</td>\n",
       "      <td>0</td>\n",
       "      <td>1</td>\n",
       "      <td>1</td>\n",
       "      <td>1</td>\n",
       "      <td>...</td>\n",
       "      <td>0.0</td>\n",
       "      <td>0.0</td>\n",
       "      <td>1.0</td>\n",
       "      <td>0.0</td>\n",
       "      <td>0.0</td>\n",
       "      <td>0.0</td>\n",
       "      <td>0.0</td>\n",
       "      <td>0.0</td>\n",
       "      <td>0.0</td>\n",
       "      <td>0.0</td>\n",
       "    </tr>\n",
       "    <tr>\n",
       "      <th>4</th>\n",
       "      <td>0</td>\n",
       "      <td>0</td>\n",
       "      <td>1</td>\n",
       "      <td>26</td>\n",
       "      <td>29</td>\n",
       "      <td>0</td>\n",
       "      <td>0</td>\n",
       "      <td>1</td>\n",
       "      <td>1</td>\n",
       "      <td>1</td>\n",
       "      <td>...</td>\n",
       "      <td>0.0</td>\n",
       "      <td>0.0</td>\n",
       "      <td>1.0</td>\n",
       "      <td>0.0</td>\n",
       "      <td>0.0</td>\n",
       "      <td>0.0</td>\n",
       "      <td>0.0</td>\n",
       "      <td>0.0</td>\n",
       "      <td>0.0</td>\n",
       "      <td>0.0</td>\n",
       "    </tr>\n",
       "  </tbody>\n",
       "</table>\n",
       "<p>5 rows × 177 columns</p>\n",
       "</div>"
      ],
      "text/plain": [
       "   char_33  char_12  char_13  week  day  char_22  char_15  char_31  \\\n",
       "0        0        0        1    26   29        0        0        1   \n",
       "1        0        0        1    26   29        0        0        1   \n",
       "2        0        0        1    26   29        0        0        1   \n",
       "3        0        0        1    26   29        0        0        1   \n",
       "4        0        0        1    26   29        0        0        1   \n",
       "\n",
       "   day_of_week  char_35  ...  char_8_type 8  char_9_type 1  char_9_type 2  \\\n",
       "0            1        1  ...            0.0            0.0            1.0   \n",
       "1            1        1  ...            0.0            0.0            1.0   \n",
       "2            1        1  ...            0.0            0.0            1.0   \n",
       "3            1        1  ...            0.0            0.0            1.0   \n",
       "4            1        1  ...            0.0            0.0            1.0   \n",
       "\n",
       "   char_9_type 3  char_9_type 4  char_9_type 5  char_9_type 6  char_9_type 7  \\\n",
       "0            0.0            0.0            0.0            0.0            0.0   \n",
       "1            0.0            0.0            0.0            0.0            0.0   \n",
       "2            0.0            0.0            0.0            0.0            0.0   \n",
       "3            0.0            0.0            0.0            0.0            0.0   \n",
       "4            0.0            0.0            0.0            0.0            0.0   \n",
       "\n",
       "   char_9_type 8  char_9_type 9  \n",
       "0            0.0            0.0  \n",
       "1            0.0            0.0  \n",
       "2            0.0            0.0  \n",
       "3            0.0            0.0  \n",
       "4            0.0            0.0  \n",
       "\n",
       "[5 rows x 177 columns]"
      ]
     },
     "execution_count": 32,
     "metadata": {},
     "output_type": "execute_result"
    }
   ],
   "source": [
    "all_data_finish.head()"
   ]
  },
  {
   "cell_type": "code",
   "execution_count": null,
   "metadata": {
    "papermill": {
     "duration": 0.041402,
     "end_time": "2021-03-17T17:55:16.435559",
     "exception": false,
     "start_time": "2021-03-17T17:55:16.394157",
     "status": "completed"
    },
    "tags": []
   },
   "outputs": [],
   "source": []
  }
 ],
 "metadata": {
  "kernelspec": {
   "display_name": "Python 3",
   "language": "python",
   "name": "python3"
  },
  "language_info": {
   "codemirror_mode": {
    "name": "ipython",
    "version": 3
   },
   "file_extension": ".py",
   "mimetype": "text/x-python",
   "name": "python",
   "nbconvert_exporter": "python",
   "pygments_lexer": "ipython3",
   "version": "3.7.9"
  },
  "papermill": {
   "default_parameters": {},
   "duration": 103.704935,
   "end_time": "2021-03-17T17:55:17.589343",
   "environment_variables": {},
   "exception": null,
   "input_path": "__notebook__.ipynb",
   "output_path": "__notebook__.ipynb",
   "parameters": {},
   "start_time": "2021-03-17T17:53:33.884408",
   "version": "2.2.2"
  }
 },
 "nbformat": 4,
 "nbformat_minor": 4
}
