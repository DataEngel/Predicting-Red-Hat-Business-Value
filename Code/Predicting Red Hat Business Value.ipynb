{
 "cells": [
  {
   "cell_type": "markdown",
   "id": "b107785a",
   "metadata": {},
   "source": [
    "## Analytical context\n",
    "\n",
    "This case is based on a challenge proposed by Red Hat on the Kaggle platform.\n",
    "\n",
    "Red Hat is able to obtain a significant amount of behavioral information from its customers. The interest of the company is based on the search for better methods to analyze its customers to predict on which they should make a special emphasis that could become high value customers.\n",
    "\n",
    "This challenge aims to create a ranking algorithm that identifies customers with the greatest potential to become high-value customers for Red Hat based on their activity."
   ]
  },
  {
   "cell_type": "code",
   "execution_count": 97,
   "id": "03fb65dd",
   "metadata": {},
   "outputs": [],
   "source": [
    "# Import the libraries\n",
    "\n",
    "import pandas as pd\n",
    "import numpy as np\n",
    "import io"
   ]
  },
  {
   "cell_type": "markdown",
   "id": "293c3db4",
   "metadata": {},
   "source": [
    "The first fact to highlight is that the information is presented anonymized.\n",
    "\n",
    "A large number of fields of a categorical nature are appreciated."
   ]
  },
  {
   "cell_type": "code",
   "execution_count": 98,
   "id": "dffc252f",
   "metadata": {},
   "outputs": [
    {
     "data": {
      "text/html": [
       "<div>\n",
       "<style scoped>\n",
       "    .dataframe tbody tr th:only-of-type {\n",
       "        vertical-align: middle;\n",
       "    }\n",
       "\n",
       "    .dataframe tbody tr th {\n",
       "        vertical-align: top;\n",
       "    }\n",
       "\n",
       "    .dataframe thead th {\n",
       "        text-align: right;\n",
       "    }\n",
       "</style>\n",
       "<table border=\"1\" class=\"dataframe\">\n",
       "  <thead>\n",
       "    <tr style=\"text-align: right;\">\n",
       "      <th></th>\n",
       "      <th>people_id</th>\n",
       "      <th>char_1</th>\n",
       "      <th>group_1</th>\n",
       "      <th>char_2</th>\n",
       "      <th>date</th>\n",
       "      <th>char_3</th>\n",
       "      <th>char_4</th>\n",
       "      <th>char_5</th>\n",
       "      <th>char_6</th>\n",
       "      <th>char_7</th>\n",
       "      <th>...</th>\n",
       "      <th>char_29</th>\n",
       "      <th>char_30</th>\n",
       "      <th>char_31</th>\n",
       "      <th>char_32</th>\n",
       "      <th>char_33</th>\n",
       "      <th>char_34</th>\n",
       "      <th>char_35</th>\n",
       "      <th>char_36</th>\n",
       "      <th>char_37</th>\n",
       "      <th>char_38</th>\n",
       "    </tr>\n",
       "  </thead>\n",
       "  <tbody>\n",
       "    <tr>\n",
       "      <th>0</th>\n",
       "      <td>ppl_100</td>\n",
       "      <td>type 2</td>\n",
       "      <td>group 17304</td>\n",
       "      <td>type 2</td>\n",
       "      <td>2021-06-29</td>\n",
       "      <td>type 5</td>\n",
       "      <td>type 5</td>\n",
       "      <td>type 5</td>\n",
       "      <td>type 3</td>\n",
       "      <td>type 11</td>\n",
       "      <td>...</td>\n",
       "      <td>False</td>\n",
       "      <td>True</td>\n",
       "      <td>True</td>\n",
       "      <td>False</td>\n",
       "      <td>False</td>\n",
       "      <td>True</td>\n",
       "      <td>True</td>\n",
       "      <td>True</td>\n",
       "      <td>False</td>\n",
       "      <td>36</td>\n",
       "    </tr>\n",
       "    <tr>\n",
       "      <th>1</th>\n",
       "      <td>ppl_100002</td>\n",
       "      <td>type 2</td>\n",
       "      <td>group 8688</td>\n",
       "      <td>type 3</td>\n",
       "      <td>2021-01-06</td>\n",
       "      <td>type 28</td>\n",
       "      <td>type 9</td>\n",
       "      <td>type 5</td>\n",
       "      <td>type 3</td>\n",
       "      <td>type 11</td>\n",
       "      <td>...</td>\n",
       "      <td>False</td>\n",
       "      <td>True</td>\n",
       "      <td>True</td>\n",
       "      <td>True</td>\n",
       "      <td>True</td>\n",
       "      <td>True</td>\n",
       "      <td>True</td>\n",
       "      <td>True</td>\n",
       "      <td>False</td>\n",
       "      <td>76</td>\n",
       "    </tr>\n",
       "    <tr>\n",
       "      <th>2</th>\n",
       "      <td>ppl_100003</td>\n",
       "      <td>type 2</td>\n",
       "      <td>group 33592</td>\n",
       "      <td>type 3</td>\n",
       "      <td>2022-06-10</td>\n",
       "      <td>type 4</td>\n",
       "      <td>type 8</td>\n",
       "      <td>type 5</td>\n",
       "      <td>type 2</td>\n",
       "      <td>type 5</td>\n",
       "      <td>...</td>\n",
       "      <td>False</td>\n",
       "      <td>False</td>\n",
       "      <td>True</td>\n",
       "      <td>True</td>\n",
       "      <td>True</td>\n",
       "      <td>True</td>\n",
       "      <td>False</td>\n",
       "      <td>True</td>\n",
       "      <td>True</td>\n",
       "      <td>99</td>\n",
       "    </tr>\n",
       "    <tr>\n",
       "      <th>3</th>\n",
       "      <td>ppl_100004</td>\n",
       "      <td>type 2</td>\n",
       "      <td>group 22593</td>\n",
       "      <td>type 3</td>\n",
       "      <td>2022-07-20</td>\n",
       "      <td>type 40</td>\n",
       "      <td>type 25</td>\n",
       "      <td>type 9</td>\n",
       "      <td>type 4</td>\n",
       "      <td>type 16</td>\n",
       "      <td>...</td>\n",
       "      <td>True</td>\n",
       "      <td>True</td>\n",
       "      <td>True</td>\n",
       "      <td>True</td>\n",
       "      <td>True</td>\n",
       "      <td>True</td>\n",
       "      <td>True</td>\n",
       "      <td>True</td>\n",
       "      <td>True</td>\n",
       "      <td>76</td>\n",
       "    </tr>\n",
       "    <tr>\n",
       "      <th>4</th>\n",
       "      <td>ppl_100006</td>\n",
       "      <td>type 2</td>\n",
       "      <td>group 6534</td>\n",
       "      <td>type 3</td>\n",
       "      <td>2022-07-27</td>\n",
       "      <td>type 40</td>\n",
       "      <td>type 25</td>\n",
       "      <td>type 9</td>\n",
       "      <td>type 3</td>\n",
       "      <td>type 8</td>\n",
       "      <td>...</td>\n",
       "      <td>False</td>\n",
       "      <td>False</td>\n",
       "      <td>True</td>\n",
       "      <td>False</td>\n",
       "      <td>False</td>\n",
       "      <td>False</td>\n",
       "      <td>True</td>\n",
       "      <td>True</td>\n",
       "      <td>False</td>\n",
       "      <td>84</td>\n",
       "    </tr>\n",
       "  </tbody>\n",
       "</table>\n",
       "<p>5 rows × 41 columns</p>\n",
       "</div>"
      ],
      "text/plain": [
       "    people_id  char_1      group_1  char_2        date   char_3   char_4  \\\n",
       "0     ppl_100  type 2  group 17304  type 2  2021-06-29   type 5   type 5   \n",
       "1  ppl_100002  type 2   group 8688  type 3  2021-01-06  type 28   type 9   \n",
       "2  ppl_100003  type 2  group 33592  type 3  2022-06-10   type 4   type 8   \n",
       "3  ppl_100004  type 2  group 22593  type 3  2022-07-20  type 40  type 25   \n",
       "4  ppl_100006  type 2   group 6534  type 3  2022-07-27  type 40  type 25   \n",
       "\n",
       "   char_5  char_6   char_7  ... char_29 char_30  char_31  char_32  char_33  \\\n",
       "0  type 5  type 3  type 11  ...   False    True     True    False    False   \n",
       "1  type 5  type 3  type 11  ...   False    True     True     True     True   \n",
       "2  type 5  type 2   type 5  ...   False   False     True     True     True   \n",
       "3  type 9  type 4  type 16  ...    True    True     True     True     True   \n",
       "4  type 9  type 3   type 8  ...   False   False     True    False    False   \n",
       "\n",
       "   char_34  char_35  char_36  char_37  char_38  \n",
       "0     True     True     True    False       36  \n",
       "1     True     True     True    False       76  \n",
       "2     True    False     True     True       99  \n",
       "3     True     True     True     True       76  \n",
       "4    False     True     True    False       84  \n",
       "\n",
       "[5 rows x 41 columns]"
      ]
     },
     "execution_count": 98,
     "metadata": {},
     "output_type": "execute_result"
    }
   ],
   "source": [
    "# Load the dataset \n",
    "\n",
    "people = pd.read_csv('Datasets/people.csv', sep = ',') \n",
    "people.head()"
   ]
  },
  {
   "cell_type": "code",
   "execution_count": 99,
   "id": "c24025ff",
   "metadata": {},
   "outputs": [
    {
     "data": {
      "text/html": [
       "<div>\n",
       "<style scoped>\n",
       "    .dataframe tbody tr th:only-of-type {\n",
       "        vertical-align: middle;\n",
       "    }\n",
       "\n",
       "    .dataframe tbody tr th {\n",
       "        vertical-align: top;\n",
       "    }\n",
       "\n",
       "    .dataframe thead th {\n",
       "        text-align: right;\n",
       "    }\n",
       "</style>\n",
       "<table border=\"1\" class=\"dataframe\">\n",
       "  <thead>\n",
       "    <tr style=\"text-align: right;\">\n",
       "      <th></th>\n",
       "      <th>people_id</th>\n",
       "      <th>activity_id</th>\n",
       "      <th>date</th>\n",
       "      <th>activity_category</th>\n",
       "      <th>char_1</th>\n",
       "      <th>char_2</th>\n",
       "      <th>char_3</th>\n",
       "      <th>char_4</th>\n",
       "      <th>char_5</th>\n",
       "      <th>char_6</th>\n",
       "      <th>char_7</th>\n",
       "      <th>char_8</th>\n",
       "      <th>char_9</th>\n",
       "      <th>char_10</th>\n",
       "      <th>outcome</th>\n",
       "    </tr>\n",
       "  </thead>\n",
       "  <tbody>\n",
       "    <tr>\n",
       "      <th>0</th>\n",
       "      <td>ppl_100</td>\n",
       "      <td>act2_1734928</td>\n",
       "      <td>2023-08-26</td>\n",
       "      <td>type 4</td>\n",
       "      <td>NaN</td>\n",
       "      <td>NaN</td>\n",
       "      <td>NaN</td>\n",
       "      <td>NaN</td>\n",
       "      <td>NaN</td>\n",
       "      <td>NaN</td>\n",
       "      <td>NaN</td>\n",
       "      <td>NaN</td>\n",
       "      <td>NaN</td>\n",
       "      <td>type 76</td>\n",
       "      <td>0</td>\n",
       "    </tr>\n",
       "    <tr>\n",
       "      <th>1</th>\n",
       "      <td>ppl_100</td>\n",
       "      <td>act2_2434093</td>\n",
       "      <td>2022-09-27</td>\n",
       "      <td>type 2</td>\n",
       "      <td>NaN</td>\n",
       "      <td>NaN</td>\n",
       "      <td>NaN</td>\n",
       "      <td>NaN</td>\n",
       "      <td>NaN</td>\n",
       "      <td>NaN</td>\n",
       "      <td>NaN</td>\n",
       "      <td>NaN</td>\n",
       "      <td>NaN</td>\n",
       "      <td>type 1</td>\n",
       "      <td>0</td>\n",
       "    </tr>\n",
       "    <tr>\n",
       "      <th>2</th>\n",
       "      <td>ppl_100</td>\n",
       "      <td>act2_3404049</td>\n",
       "      <td>2022-09-27</td>\n",
       "      <td>type 2</td>\n",
       "      <td>NaN</td>\n",
       "      <td>NaN</td>\n",
       "      <td>NaN</td>\n",
       "      <td>NaN</td>\n",
       "      <td>NaN</td>\n",
       "      <td>NaN</td>\n",
       "      <td>NaN</td>\n",
       "      <td>NaN</td>\n",
       "      <td>NaN</td>\n",
       "      <td>type 1</td>\n",
       "      <td>0</td>\n",
       "    </tr>\n",
       "    <tr>\n",
       "      <th>3</th>\n",
       "      <td>ppl_100</td>\n",
       "      <td>act2_3651215</td>\n",
       "      <td>2023-08-04</td>\n",
       "      <td>type 2</td>\n",
       "      <td>NaN</td>\n",
       "      <td>NaN</td>\n",
       "      <td>NaN</td>\n",
       "      <td>NaN</td>\n",
       "      <td>NaN</td>\n",
       "      <td>NaN</td>\n",
       "      <td>NaN</td>\n",
       "      <td>NaN</td>\n",
       "      <td>NaN</td>\n",
       "      <td>type 1</td>\n",
       "      <td>0</td>\n",
       "    </tr>\n",
       "    <tr>\n",
       "      <th>4</th>\n",
       "      <td>ppl_100</td>\n",
       "      <td>act2_4109017</td>\n",
       "      <td>2023-08-26</td>\n",
       "      <td>type 2</td>\n",
       "      <td>NaN</td>\n",
       "      <td>NaN</td>\n",
       "      <td>NaN</td>\n",
       "      <td>NaN</td>\n",
       "      <td>NaN</td>\n",
       "      <td>NaN</td>\n",
       "      <td>NaN</td>\n",
       "      <td>NaN</td>\n",
       "      <td>NaN</td>\n",
       "      <td>type 1</td>\n",
       "      <td>0</td>\n",
       "    </tr>\n",
       "  </tbody>\n",
       "</table>\n",
       "</div>"
      ],
      "text/plain": [
       "  people_id   activity_id        date activity_category char_1 char_2 char_3  \\\n",
       "0   ppl_100  act2_1734928  2023-08-26            type 4    NaN    NaN    NaN   \n",
       "1   ppl_100  act2_2434093  2022-09-27            type 2    NaN    NaN    NaN   \n",
       "2   ppl_100  act2_3404049  2022-09-27            type 2    NaN    NaN    NaN   \n",
       "3   ppl_100  act2_3651215  2023-08-04            type 2    NaN    NaN    NaN   \n",
       "4   ppl_100  act2_4109017  2023-08-26            type 2    NaN    NaN    NaN   \n",
       "\n",
       "  char_4 char_5 char_6 char_7 char_8 char_9  char_10  outcome  \n",
       "0    NaN    NaN    NaN    NaN    NaN    NaN  type 76        0  \n",
       "1    NaN    NaN    NaN    NaN    NaN    NaN   type 1        0  \n",
       "2    NaN    NaN    NaN    NaN    NaN    NaN   type 1        0  \n",
       "3    NaN    NaN    NaN    NaN    NaN    NaN   type 1        0  \n",
       "4    NaN    NaN    NaN    NaN    NaN    NaN   type 1        0  "
      ]
     },
     "execution_count": 99,
     "metadata": {},
     "output_type": "execute_result"
    }
   ],
   "source": [
    "activity = pd.read_csv('Datasets/act_train.csv', sep = ',')\n",
    "activity.head()"
   ]
  },
  {
   "cell_type": "markdown",
   "id": "9a6e9bed",
   "metadata": {},
   "source": [
    "You can see that there is the same key in the people_id column, so you can start thinking about some kind of cross between these data."
   ]
  },
  {
   "cell_type": "markdown",
   "id": "f12e156a",
   "metadata": {},
   "source": [
    "# <h1 id=\"ingenieria\">Data Engineering</h1>\n",
    "\n",
    "We will now evaluate the size of the datasets and the completeness of the information in the different available variables."
   ]
  },
  {
   "cell_type": "code",
   "execution_count": 100,
   "id": "53436bd6",
   "metadata": {},
   "outputs": [
    {
     "name": "stdout",
     "output_type": "stream",
     "text": [
      "(189118, 41)\n"
     ]
    },
    {
     "data": {
      "text/plain": [
       "people_id    0.0\n",
       "char_1       0.0\n",
       "group_1      0.0\n",
       "char_2       0.0\n",
       "date         0.0\n",
       "char_3       0.0\n",
       "char_4       0.0\n",
       "char_5       0.0\n",
       "char_6       0.0\n",
       "char_7       0.0\n",
       "char_8       0.0\n",
       "char_9       0.0\n",
       "char_10      0.0\n",
       "char_11      0.0\n",
       "char_12      0.0\n",
       "char_13      0.0\n",
       "char_14      0.0\n",
       "char_15      0.0\n",
       "char_16      0.0\n",
       "char_17      0.0\n",
       "char_18      0.0\n",
       "char_19      0.0\n",
       "char_20      0.0\n",
       "char_21      0.0\n",
       "char_22      0.0\n",
       "char_23      0.0\n",
       "char_24      0.0\n",
       "char_25      0.0\n",
       "char_26      0.0\n",
       "char_27      0.0\n",
       "char_28      0.0\n",
       "char_29      0.0\n",
       "char_30      0.0\n",
       "char_31      0.0\n",
       "char_32      0.0\n",
       "char_33      0.0\n",
       "char_34      0.0\n",
       "char_35      0.0\n",
       "char_36      0.0\n",
       "char_37      0.0\n",
       "char_38      0.0\n",
       "dtype: float64"
      ]
     },
     "execution_count": 100,
     "metadata": {},
     "output_type": "execute_result"
    }
   ],
   "source": [
    "# Show the shape\n",
    "\n",
    "print(people.shape)\n",
    "\n",
    "# Show the null percent\n",
    "\n",
    "100*people.isnull().sum()/people.shape[0]"
   ]
  },
  {
   "cell_type": "code",
   "execution_count": 101,
   "id": "868dbe37",
   "metadata": {},
   "outputs": [
    {
     "name": "stdout",
     "output_type": "stream",
     "text": [
      "(2197291, 15)\n"
     ]
    },
    {
     "data": {
      "text/plain": [
       "people_id             0.000000\n",
       "activity_id           0.000000\n",
       "date                  0.000000\n",
       "activity_category     0.000000\n",
       "char_1               92.826849\n",
       "char_2               92.826849\n",
       "char_3               92.826849\n",
       "char_4               92.826849\n",
       "char_5               92.826849\n",
       "char_6               92.826849\n",
       "char_7               92.826849\n",
       "char_8               92.826849\n",
       "char_9               92.826849\n",
       "char_10               7.173151\n",
       "outcome               0.000000\n",
       "dtype: float64"
      ]
     },
     "execution_count": 101,
     "metadata": {},
     "output_type": "execute_result"
    }
   ],
   "source": [
    "# We repet with the other dataset \n",
    "\n",
    "print(activity.shape)\n",
    "100*activity.isnull().sum()/activity.shape[0]\n",
    "\n",
    "# We gonna delete the columns 90% null and fill "
   ]
  },
  {
   "cell_type": "markdown",
   "id": "be87a2df",
   "metadata": {},
   "source": [
    "It is evident that the fields char_1 to char_9 have 92% of their values in null. This amount is very high to apply imputation methods, so we will choose to eliminate the columns with this problem.\n",
    "\n",
    "In the case of the categorical variable char_10 there is a proportion of nulls (7.17 \\%) that we can replace by the mode."
   ]
  },
  {
   "cell_type": "code",
   "execution_count": 102,
   "id": "6145e863",
   "metadata": {},
   "outputs": [
    {
     "data": {
      "text/plain": [
       "Index(['people_id', 'activity_id', 'date', 'activity_category', 'char_1',\n",
       "       'char_2', 'char_3', 'char_4', 'char_5', 'char_6', 'char_7', 'char_8',\n",
       "       'char_9', 'char_10', 'outcome'],\n",
       "      dtype='object')"
      ]
     },
     "execution_count": 102,
     "metadata": {},
     "output_type": "execute_result"
    }
   ],
   "source": [
    "# Show the columns \n",
    "\n",
    "activity.columns"
   ]
  },
  {
   "cell_type": "code",
   "execution_count": 103,
   "id": "f1a6fd1a",
   "metadata": {},
   "outputs": [
    {
     "name": "stdout",
     "output_type": "stream",
     "text": [
      "(2197291, 6)\n"
     ]
    }
   ],
   "source": [
    "# Delete columns with null values\n",
    "\n",
    "activity.drop(columns=['char_1','char_2','char_3','char_4','char_5','char_6','char_7','char_8','char_9'],inplace=True)\n",
    "\n",
    "print(activity.shape)"
   ]
  },
  {
   "cell_type": "code",
   "execution_count": 104,
   "id": "1ad95c0c",
   "metadata": {},
   "outputs": [
    {
     "data": {
      "text/html": [
       "<div>\n",
       "<style scoped>\n",
       "    .dataframe tbody tr th:only-of-type {\n",
       "        vertical-align: middle;\n",
       "    }\n",
       "\n",
       "    .dataframe tbody tr th {\n",
       "        vertical-align: top;\n",
       "    }\n",
       "\n",
       "    .dataframe thead th {\n",
       "        text-align: right;\n",
       "    }\n",
       "</style>\n",
       "<table border=\"1\" class=\"dataframe\">\n",
       "  <thead>\n",
       "    <tr style=\"text-align: right;\">\n",
       "      <th></th>\n",
       "      <th>people_id</th>\n",
       "      <th>activity_id</th>\n",
       "      <th>date</th>\n",
       "      <th>activity_category</th>\n",
       "      <th>char_10</th>\n",
       "      <th>outcome</th>\n",
       "    </tr>\n",
       "  </thead>\n",
       "  <tbody>\n",
       "    <tr>\n",
       "      <th>0</th>\n",
       "      <td>ppl_100</td>\n",
       "      <td>act2_1734928</td>\n",
       "      <td>2023-08-26</td>\n",
       "      <td>type 4</td>\n",
       "      <td>type 76</td>\n",
       "      <td>0</td>\n",
       "    </tr>\n",
       "    <tr>\n",
       "      <th>1</th>\n",
       "      <td>ppl_100</td>\n",
       "      <td>act2_2434093</td>\n",
       "      <td>2022-09-27</td>\n",
       "      <td>type 2</td>\n",
       "      <td>type 1</td>\n",
       "      <td>0</td>\n",
       "    </tr>\n",
       "    <tr>\n",
       "      <th>2</th>\n",
       "      <td>ppl_100</td>\n",
       "      <td>act2_3404049</td>\n",
       "      <td>2022-09-27</td>\n",
       "      <td>type 2</td>\n",
       "      <td>type 1</td>\n",
       "      <td>0</td>\n",
       "    </tr>\n",
       "    <tr>\n",
       "      <th>3</th>\n",
       "      <td>ppl_100</td>\n",
       "      <td>act2_3651215</td>\n",
       "      <td>2023-08-04</td>\n",
       "      <td>type 2</td>\n",
       "      <td>type 1</td>\n",
       "      <td>0</td>\n",
       "    </tr>\n",
       "    <tr>\n",
       "      <th>4</th>\n",
       "      <td>ppl_100</td>\n",
       "      <td>act2_4109017</td>\n",
       "      <td>2023-08-26</td>\n",
       "      <td>type 2</td>\n",
       "      <td>type 1</td>\n",
       "      <td>0</td>\n",
       "    </tr>\n",
       "  </tbody>\n",
       "</table>\n",
       "</div>"
      ],
      "text/plain": [
       "  people_id   activity_id        date activity_category  char_10  outcome\n",
       "0   ppl_100  act2_1734928  2023-08-26            type 4  type 76        0\n",
       "1   ppl_100  act2_2434093  2022-09-27            type 2   type 1        0\n",
       "2   ppl_100  act2_3404049  2022-09-27            type 2   type 1        0\n",
       "3   ppl_100  act2_3651215  2023-08-04            type 2   type 1        0\n",
       "4   ppl_100  act2_4109017  2023-08-26            type 2   type 1        0"
      ]
     },
     "execution_count": 104,
     "metadata": {},
     "output_type": "execute_result"
    }
   ],
   "source": [
    "activity.head() "
   ]
  },
  {
   "cell_type": "code",
   "execution_count": 105,
   "id": "c9f693fc",
   "metadata": {},
   "outputs": [],
   "source": [
    "# Fill char_10 with the mode\n",
    "\n",
    "activity['char_10'] = activity['char_10'].fillna(activity[\"char_10\"].mode()[0])"
   ]
  },
  {
   "cell_type": "code",
   "execution_count": 106,
   "id": "09b56432",
   "metadata": {},
   "outputs": [
    {
     "data": {
      "text/plain": [
       "people_id            0.0\n",
       "activity_id          0.0\n",
       "date                 0.0\n",
       "activity_category    0.0\n",
       "char_10              0.0\n",
       "outcome              0.0\n",
       "dtype: float64"
      ]
     },
     "execution_count": 106,
     "metadata": {},
     "output_type": "execute_result"
    }
   ],
   "source": [
    "# We data is clean of null dates\n",
    "\n",
    "100*activity.isnull().sum()/activity.shape[0]"
   ]
  },
  {
   "cell_type": "markdown",
   "id": "449f78ea",
   "metadata": {},
   "source": [
    "## Preparing for the merge\n",
    "\n",
    "It is appreciated that there are two variables that have the same names in both data sets (date and char_10) so it is good practice to rename these columns to avoid confusion when unifying the sources."
   ]
  },
  {
   "cell_type": "code",
   "execution_count": 107,
   "id": "64e5ea08",
   "metadata": {},
   "outputs": [
    {
     "data": {
      "text/html": [
       "<div>\n",
       "<style scoped>\n",
       "    .dataframe tbody tr th:only-of-type {\n",
       "        vertical-align: middle;\n",
       "    }\n",
       "\n",
       "    .dataframe tbody tr th {\n",
       "        vertical-align: top;\n",
       "    }\n",
       "\n",
       "    .dataframe thead th {\n",
       "        text-align: right;\n",
       "    }\n",
       "</style>\n",
       "<table border=\"1\" class=\"dataframe\">\n",
       "  <thead>\n",
       "    <tr style=\"text-align: right;\">\n",
       "      <th></th>\n",
       "      <th>people_id</th>\n",
       "      <th>activity_id</th>\n",
       "      <th>date</th>\n",
       "      <th>activity_category</th>\n",
       "      <th>char_10</th>\n",
       "      <th>outcome</th>\n",
       "    </tr>\n",
       "  </thead>\n",
       "  <tbody>\n",
       "    <tr>\n",
       "      <th>0</th>\n",
       "      <td>ppl_100</td>\n",
       "      <td>act2_1734928</td>\n",
       "      <td>2023-08-26</td>\n",
       "      <td>type 4</td>\n",
       "      <td>type 76</td>\n",
       "      <td>0</td>\n",
       "    </tr>\n",
       "    <tr>\n",
       "      <th>1</th>\n",
       "      <td>ppl_100</td>\n",
       "      <td>act2_2434093</td>\n",
       "      <td>2022-09-27</td>\n",
       "      <td>type 2</td>\n",
       "      <td>type 1</td>\n",
       "      <td>0</td>\n",
       "    </tr>\n",
       "    <tr>\n",
       "      <th>2</th>\n",
       "      <td>ppl_100</td>\n",
       "      <td>act2_3404049</td>\n",
       "      <td>2022-09-27</td>\n",
       "      <td>type 2</td>\n",
       "      <td>type 1</td>\n",
       "      <td>0</td>\n",
       "    </tr>\n",
       "    <tr>\n",
       "      <th>3</th>\n",
       "      <td>ppl_100</td>\n",
       "      <td>act2_3651215</td>\n",
       "      <td>2023-08-04</td>\n",
       "      <td>type 2</td>\n",
       "      <td>type 1</td>\n",
       "      <td>0</td>\n",
       "    </tr>\n",
       "    <tr>\n",
       "      <th>4</th>\n",
       "      <td>ppl_100</td>\n",
       "      <td>act2_4109017</td>\n",
       "      <td>2023-08-26</td>\n",
       "      <td>type 2</td>\n",
       "      <td>type 1</td>\n",
       "      <td>0</td>\n",
       "    </tr>\n",
       "  </tbody>\n",
       "</table>\n",
       "</div>"
      ],
      "text/plain": [
       "  people_id   activity_id        date activity_category  char_10  outcome\n",
       "0   ppl_100  act2_1734928  2023-08-26            type 4  type 76        0\n",
       "1   ppl_100  act2_2434093  2022-09-27            type 2   type 1        0\n",
       "2   ppl_100  act2_3404049  2022-09-27            type 2   type 1        0\n",
       "3   ppl_100  act2_3651215  2023-08-04            type 2   type 1        0\n",
       "4   ppl_100  act2_4109017  2023-08-26            type 2   type 1        0"
      ]
     },
     "execution_count": 107,
     "metadata": {},
     "output_type": "execute_result"
    }
   ],
   "source": [
    "activity.head()"
   ]
  },
  {
   "cell_type": "code",
   "execution_count": 108,
   "id": "6b2e0745",
   "metadata": {},
   "outputs": [
    {
     "name": "stdout",
     "output_type": "stream",
     "text": [
      "Index(['people_id', 'activity_id', 'date', 'activity_category', 'char_10',\n",
      "       'outcome'],\n",
      "      dtype='object')\n",
      "Index(['people_id', 'char_1', 'group_1', 'char_2', 'date', 'char_3', 'char_4',\n",
      "       'char_5', 'char_6', 'char_7', 'char_8', 'char_9', 'char_10', 'char_11',\n",
      "       'char_12', 'char_13', 'char_14', 'char_15', 'char_16', 'char_17',\n",
      "       'char_18', 'char_19', 'char_20', 'char_21', 'char_22', 'char_23',\n",
      "       'char_24', 'char_25', 'char_26', 'char_27', 'char_28', 'char_29',\n",
      "       'char_30', 'char_31', 'char_32', 'char_33', 'char_34', 'char_35',\n",
      "       'char_36', 'char_37', 'char_38'],\n",
      "      dtype='object')\n"
     ]
    }
   ],
   "source": [
    "print(activity.columns)\n",
    "print(people.columns)"
   ]
  },
  {
   "cell_type": "code",
   "execution_count": 109,
   "id": "9837aa14",
   "metadata": {},
   "outputs": [
    {
     "data": {
      "text/html": [
       "<div>\n",
       "<style scoped>\n",
       "    .dataframe tbody tr th:only-of-type {\n",
       "        vertical-align: middle;\n",
       "    }\n",
       "\n",
       "    .dataframe tbody tr th {\n",
       "        vertical-align: top;\n",
       "    }\n",
       "\n",
       "    .dataframe thead th {\n",
       "        text-align: right;\n",
       "    }\n",
       "</style>\n",
       "<table border=\"1\" class=\"dataframe\">\n",
       "  <thead>\n",
       "    <tr style=\"text-align: right;\">\n",
       "      <th></th>\n",
       "      <th>people_id</th>\n",
       "      <th>activity_id</th>\n",
       "      <th>data_activity</th>\n",
       "      <th>activity_category</th>\n",
       "      <th>activity_type</th>\n",
       "      <th>outcome</th>\n",
       "    </tr>\n",
       "  </thead>\n",
       "  <tbody>\n",
       "    <tr>\n",
       "      <th>0</th>\n",
       "      <td>ppl_100</td>\n",
       "      <td>act2_1734928</td>\n",
       "      <td>2023-08-26</td>\n",
       "      <td>type 4</td>\n",
       "      <td>type 76</td>\n",
       "      <td>0</td>\n",
       "    </tr>\n",
       "    <tr>\n",
       "      <th>1</th>\n",
       "      <td>ppl_100</td>\n",
       "      <td>act2_2434093</td>\n",
       "      <td>2022-09-27</td>\n",
       "      <td>type 2</td>\n",
       "      <td>type 1</td>\n",
       "      <td>0</td>\n",
       "    </tr>\n",
       "    <tr>\n",
       "      <th>2</th>\n",
       "      <td>ppl_100</td>\n",
       "      <td>act2_3404049</td>\n",
       "      <td>2022-09-27</td>\n",
       "      <td>type 2</td>\n",
       "      <td>type 1</td>\n",
       "      <td>0</td>\n",
       "    </tr>\n",
       "    <tr>\n",
       "      <th>3</th>\n",
       "      <td>ppl_100</td>\n",
       "      <td>act2_3651215</td>\n",
       "      <td>2023-08-04</td>\n",
       "      <td>type 2</td>\n",
       "      <td>type 1</td>\n",
       "      <td>0</td>\n",
       "    </tr>\n",
       "    <tr>\n",
       "      <th>4</th>\n",
       "      <td>ppl_100</td>\n",
       "      <td>act2_4109017</td>\n",
       "      <td>2023-08-26</td>\n",
       "      <td>type 2</td>\n",
       "      <td>type 1</td>\n",
       "      <td>0</td>\n",
       "    </tr>\n",
       "  </tbody>\n",
       "</table>\n",
       "</div>"
      ],
      "text/plain": [
       "  people_id   activity_id data_activity activity_category activity_type  \\\n",
       "0   ppl_100  act2_1734928    2023-08-26            type 4       type 76   \n",
       "1   ppl_100  act2_2434093    2022-09-27            type 2        type 1   \n",
       "2   ppl_100  act2_3404049    2022-09-27            type 2        type 1   \n",
       "3   ppl_100  act2_3651215    2023-08-04            type 2        type 1   \n",
       "4   ppl_100  act2_4109017    2023-08-26            type 2        type 1   \n",
       "\n",
       "   outcome  \n",
       "0        0  \n",
       "1        0  \n",
       "2        0  \n",
       "3        0  \n",
       "4        0  "
      ]
     },
     "execution_count": 109,
     "metadata": {},
     "output_type": "execute_result"
    }
   ],
   "source": [
    "# Rename the columns \n",
    "\n",
    "activity = activity.rename(columns={\"date\":\"data_activity\",\"char_10\":\"activity_type\"})\n",
    "activity.head()"
   ]
  },
  {
   "cell_type": "code",
   "execution_count": 110,
   "id": "7ed178ea",
   "metadata": {},
   "outputs": [
    {
     "name": "stdout",
     "output_type": "stream",
     "text": [
      "Index(['people_id', 'activity_id', 'data_activity', 'activity_category',\n",
      "       'activity_type', 'outcome'],\n",
      "      dtype='object')\n",
      "Index(['people_id', 'char_1', 'group_1', 'char_2', 'date', 'char_3', 'char_4',\n",
      "       'char_5', 'char_6', 'char_7', 'char_8', 'char_9', 'char_10', 'char_11',\n",
      "       'char_12', 'char_13', 'char_14', 'char_15', 'char_16', 'char_17',\n",
      "       'char_18', 'char_19', 'char_20', 'char_21', 'char_22', 'char_23',\n",
      "       'char_24', 'char_25', 'char_26', 'char_27', 'char_28', 'char_29',\n",
      "       'char_30', 'char_31', 'char_32', 'char_33', 'char_34', 'char_35',\n",
      "       'char_36', 'char_37', 'char_38'],\n",
      "      dtype='object')\n"
     ]
    }
   ],
   "source": [
    "# Verify the change\n",
    "print(activity.columns)\n",
    "print(people.columns)"
   ]
  },
  {
   "cell_type": "code",
   "execution_count": 113,
   "id": "5010ec72",
   "metadata": {},
   "outputs": [
    {
     "name": "stdout",
     "output_type": "stream",
     "text": [
      "Activity before:  (2197291, 6)\n",
      "People before:  (189118, 41)\n",
      "\n",
      "New size:  (2197291, 46)\n"
     ]
    }
   ],
   "source": [
    "# We gonna use merge to join the dataframes\n",
    "\n",
    "all_data = activity.merge(people,on=[\"people_id\"], how=\"inner\")\n",
    "print(\"Activity before: \",activity.shape)\n",
    "print(\"People before: \",people.shape)\n",
    "print()\n",
    "print(\"New size: \",all_data.shape)"
   ]
  },
  {
   "cell_type": "markdown",
   "id": "6f8ced24",
   "metadata": {},
   "source": [
    "# Data transformation\n",
    "\n",
    "The objective variable that classifies the activity of users as potential clients is called outcome, we will evaluate the distribution of this variable:"
   ]
  },
  {
   "cell_type": "code",
   "execution_count": 36,
   "id": "ed4828b6",
   "metadata": {},
   "outputs": [
    {
     "data": {
      "text/plain": [
       "0          0\n",
       "1          0\n",
       "2          0\n",
       "3          0\n",
       "4          0\n",
       "          ..\n",
       "2197286    1\n",
       "2197287    1\n",
       "2197288    1\n",
       "2197289    1\n",
       "2197290    1\n",
       "Name: outcome, Length: 2197291, dtype: int64"
      ]
     },
     "execution_count": 36,
     "metadata": {},
     "output_type": "execute_result"
    }
   ],
   "source": [
    "# Show the target  \n",
    "\n",
    "all_data[\"outcome\"]"
   ]
  },
  {
   "cell_type": "code",
   "execution_count": 37,
   "id": "9032027a",
   "metadata": {},
   "outputs": [
    {
     "data": {
      "text/plain": [
       "0    55.60456\n",
       "1    44.39544\n",
       "Name: outcome, dtype: float64"
      ]
     },
     "execution_count": 37,
     "metadata": {},
     "output_type": "execute_result"
    }
   ],
   "source": [
    "#  Show the distribucion in the target \n",
    "\n",
    "100*all_data[\"outcome\"].value_counts()/all_data.shape[0]"
   ]
  },
  {
   "cell_type": "code",
   "execution_count": 38,
   "id": "b14864d3",
   "metadata": {},
   "outputs": [
    {
     "name": "stdout",
     "output_type": "stream",
     "text": [
      "Types of variables:  0\n",
      "bool      28\n",
      "int64      2\n",
      "object    16\n",
      "dtype: int64\n"
     ]
    }
   ],
   "source": [
    "# Show the type of variable \n",
    "\n",
    "types = pd.DataFrame(all_data.dtypes)\n",
    "print(\"Types of variables: \", types.groupby(0).size())\n",
    "\n",
    "# We have to convert float to int "
   ]
  },
  {
   "cell_type": "code",
   "execution_count": 39,
   "id": "480a7945",
   "metadata": {},
   "outputs": [],
   "source": [
    "all_data = all_data.replace({False: 0, True: 1})"
   ]
  },
  {
   "cell_type": "code",
   "execution_count": 40,
   "id": "a8cb6e7a",
   "metadata": {},
   "outputs": [
    {
     "name": "stdout",
     "output_type": "stream",
     "text": [
      "Types of variables replace:  0\n",
      "int64     30\n",
      "object    16\n",
      "dtype: int64\n"
     ]
    }
   ],
   "source": [
    "# Is ready\n",
    "\n",
    "types = pd.DataFrame(all_data.dtypes)\n",
    "print(\"Types of variables replace: \", types.groupby(0).size()) "
   ]
  },
  {
   "cell_type": "code",
   "execution_count": 41,
   "id": "0258ef43",
   "metadata": {},
   "outputs": [
    {
     "name": "stdout",
     "output_type": "stream",
     "text": [
      "Second replace:  0\n",
      "int64     31\n",
      "object    15\n",
      "dtype: int64\n"
     ]
    }
   ],
   "source": [
    "# We gonna apply one second replace, As the identifier people_id it consists of a prefix \"ppl_\" followed by a unique number per user. \n",
    "# In this case, it is enough to cut the prefix to transform this variable into a numeric one.\n",
    "\n",
    "all_data.people_id = all_data.people_id.str.slice(start=4).astype(float).astype(int)\n",
    "\n",
    "types = pd.DataFrame(all_data.dtypes)\n",
    "print(\"Second replace: \",types.groupby(0).size())"
   ]
  },
  {
   "cell_type": "code",
   "execution_count": 42,
   "id": "2674ed69",
   "metadata": {},
   "outputs": [
    {
     "data": {
      "text/html": [
       "<div>\n",
       "<style scoped>\n",
       "    .dataframe tbody tr th:only-of-type {\n",
       "        vertical-align: middle;\n",
       "    }\n",
       "\n",
       "    .dataframe tbody tr th {\n",
       "        vertical-align: top;\n",
       "    }\n",
       "\n",
       "    .dataframe thead th {\n",
       "        text-align: right;\n",
       "    }\n",
       "</style>\n",
       "<table border=\"1\" class=\"dataframe\">\n",
       "  <thead>\n",
       "    <tr style=\"text-align: right;\">\n",
       "      <th></th>\n",
       "      <th>activity_id</th>\n",
       "      <th>activity_category</th>\n",
       "      <th>group_1</th>\n",
       "      <th>activity_type</th>\n",
       "    </tr>\n",
       "  </thead>\n",
       "  <tbody>\n",
       "    <tr>\n",
       "      <th>0</th>\n",
       "      <td>act2_1734928</td>\n",
       "      <td>type 4</td>\n",
       "      <td>group 17304</td>\n",
       "      <td>type 76</td>\n",
       "    </tr>\n",
       "    <tr>\n",
       "      <th>1</th>\n",
       "      <td>act2_2434093</td>\n",
       "      <td>type 2</td>\n",
       "      <td>group 17304</td>\n",
       "      <td>type 1</td>\n",
       "    </tr>\n",
       "    <tr>\n",
       "      <th>2</th>\n",
       "      <td>act2_3404049</td>\n",
       "      <td>type 2</td>\n",
       "      <td>group 17304</td>\n",
       "      <td>type 1</td>\n",
       "    </tr>\n",
       "  </tbody>\n",
       "</table>\n",
       "</div>"
      ],
      "text/plain": [
       "    activity_id activity_category      group_1 activity_type\n",
       "0  act2_1734928            type 4  group 17304       type 76\n",
       "1  act2_2434093            type 2  group 17304        type 1\n",
       "2  act2_3404049            type 2  group 17304        type 1"
      ]
     },
     "execution_count": 42,
     "metadata": {},
     "output_type": "execute_result"
    }
   ],
   "source": [
    "all_data[[\"activity_id\", \"activity_category\", \"group_1\", \"activity_type\"]].head(3)"
   ]
  },
  {
   "cell_type": "code",
   "execution_count": 43,
   "id": "23f9788e",
   "metadata": {},
   "outputs": [
    {
     "name": "stdout",
     "output_type": "stream",
     "text": [
      "Thith 0\n",
      "int64     35\n",
      "object    11\n",
      "dtype: int64\n"
     ]
    }
   ],
   "source": [
    "# And We have to do the same for those variables \n",
    "\n",
    "all_data.activity_id = all_data.activity_id.str.slice(start=5).astype(float).astype(int)\n",
    "all_data.activity_category = all_data.activity_category.str.slice(start=5).astype(float).astype(int)\n",
    "all_data.group_1 = all_data.group_1.str.slice(start=6).astype(float).astype(int)\n",
    "all_data.activity_type = all_data.activity_type.str.slice(start=5).astype(float).astype(int)\n",
    "\n",
    "types = pd.DataFrame(all_data.dtypes)\n",
    "print(\"Thith\",types.groupby(0).size()) "
   ]
  },
  {
   "cell_type": "code",
   "execution_count": 44,
   "id": "5322f825",
   "metadata": {},
   "outputs": [
    {
     "data": {
      "text/html": [
       "<div>\n",
       "<style scoped>\n",
       "    .dataframe tbody tr th:only-of-type {\n",
       "        vertical-align: middle;\n",
       "    }\n",
       "\n",
       "    .dataframe tbody tr th {\n",
       "        vertical-align: top;\n",
       "    }\n",
       "\n",
       "    .dataframe thead th {\n",
       "        text-align: right;\n",
       "    }\n",
       "</style>\n",
       "<table border=\"1\" class=\"dataframe\">\n",
       "  <thead>\n",
       "    <tr style=\"text-align: right;\">\n",
       "      <th></th>\n",
       "      <th>people_id</th>\n",
       "      <th>activity_id</th>\n",
       "      <th>data_activity</th>\n",
       "      <th>activity_category</th>\n",
       "      <th>activity_type</th>\n",
       "      <th>outcome</th>\n",
       "      <th>char_1</th>\n",
       "      <th>group_1</th>\n",
       "      <th>char_2</th>\n",
       "      <th>date</th>\n",
       "      <th>...</th>\n",
       "      <th>char_29</th>\n",
       "      <th>char_30</th>\n",
       "      <th>char_31</th>\n",
       "      <th>char_32</th>\n",
       "      <th>char_33</th>\n",
       "      <th>char_34</th>\n",
       "      <th>char_35</th>\n",
       "      <th>char_36</th>\n",
       "      <th>char_37</th>\n",
       "      <th>char_38</th>\n",
       "    </tr>\n",
       "  </thead>\n",
       "  <tbody>\n",
       "    <tr>\n",
       "      <th>0</th>\n",
       "      <td>100</td>\n",
       "      <td>1734928</td>\n",
       "      <td>2023-08-26</td>\n",
       "      <td>4</td>\n",
       "      <td>76</td>\n",
       "      <td>0</td>\n",
       "      <td>type 2</td>\n",
       "      <td>17304</td>\n",
       "      <td>type 2</td>\n",
       "      <td>2021-06-29</td>\n",
       "      <td>...</td>\n",
       "      <td>0</td>\n",
       "      <td>1</td>\n",
       "      <td>1</td>\n",
       "      <td>0</td>\n",
       "      <td>0</td>\n",
       "      <td>1</td>\n",
       "      <td>1</td>\n",
       "      <td>1</td>\n",
       "      <td>0</td>\n",
       "      <td>36</td>\n",
       "    </tr>\n",
       "    <tr>\n",
       "      <th>1</th>\n",
       "      <td>100</td>\n",
       "      <td>2434093</td>\n",
       "      <td>2022-09-27</td>\n",
       "      <td>2</td>\n",
       "      <td>1</td>\n",
       "      <td>0</td>\n",
       "      <td>type 2</td>\n",
       "      <td>17304</td>\n",
       "      <td>type 2</td>\n",
       "      <td>2021-06-29</td>\n",
       "      <td>...</td>\n",
       "      <td>0</td>\n",
       "      <td>1</td>\n",
       "      <td>1</td>\n",
       "      <td>0</td>\n",
       "      <td>0</td>\n",
       "      <td>1</td>\n",
       "      <td>1</td>\n",
       "      <td>1</td>\n",
       "      <td>0</td>\n",
       "      <td>36</td>\n",
       "    </tr>\n",
       "    <tr>\n",
       "      <th>2</th>\n",
       "      <td>100</td>\n",
       "      <td>3404049</td>\n",
       "      <td>2022-09-27</td>\n",
       "      <td>2</td>\n",
       "      <td>1</td>\n",
       "      <td>0</td>\n",
       "      <td>type 2</td>\n",
       "      <td>17304</td>\n",
       "      <td>type 2</td>\n",
       "      <td>2021-06-29</td>\n",
       "      <td>...</td>\n",
       "      <td>0</td>\n",
       "      <td>1</td>\n",
       "      <td>1</td>\n",
       "      <td>0</td>\n",
       "      <td>0</td>\n",
       "      <td>1</td>\n",
       "      <td>1</td>\n",
       "      <td>1</td>\n",
       "      <td>0</td>\n",
       "      <td>36</td>\n",
       "    </tr>\n",
       "    <tr>\n",
       "      <th>3</th>\n",
       "      <td>100</td>\n",
       "      <td>3651215</td>\n",
       "      <td>2023-08-04</td>\n",
       "      <td>2</td>\n",
       "      <td>1</td>\n",
       "      <td>0</td>\n",
       "      <td>type 2</td>\n",
       "      <td>17304</td>\n",
       "      <td>type 2</td>\n",
       "      <td>2021-06-29</td>\n",
       "      <td>...</td>\n",
       "      <td>0</td>\n",
       "      <td>1</td>\n",
       "      <td>1</td>\n",
       "      <td>0</td>\n",
       "      <td>0</td>\n",
       "      <td>1</td>\n",
       "      <td>1</td>\n",
       "      <td>1</td>\n",
       "      <td>0</td>\n",
       "      <td>36</td>\n",
       "    </tr>\n",
       "    <tr>\n",
       "      <th>4</th>\n",
       "      <td>100</td>\n",
       "      <td>4109017</td>\n",
       "      <td>2023-08-26</td>\n",
       "      <td>2</td>\n",
       "      <td>1</td>\n",
       "      <td>0</td>\n",
       "      <td>type 2</td>\n",
       "      <td>17304</td>\n",
       "      <td>type 2</td>\n",
       "      <td>2021-06-29</td>\n",
       "      <td>...</td>\n",
       "      <td>0</td>\n",
       "      <td>1</td>\n",
       "      <td>1</td>\n",
       "      <td>0</td>\n",
       "      <td>0</td>\n",
       "      <td>1</td>\n",
       "      <td>1</td>\n",
       "      <td>1</td>\n",
       "      <td>0</td>\n",
       "      <td>36</td>\n",
       "    </tr>\n",
       "  </tbody>\n",
       "</table>\n",
       "<p>5 rows × 46 columns</p>\n",
       "</div>"
      ],
      "text/plain": [
       "   people_id  activity_id data_activity  activity_category  activity_type  \\\n",
       "0        100      1734928    2023-08-26                  4             76   \n",
       "1        100      2434093    2022-09-27                  2              1   \n",
       "2        100      3404049    2022-09-27                  2              1   \n",
       "3        100      3651215    2023-08-04                  2              1   \n",
       "4        100      4109017    2023-08-26                  2              1   \n",
       "\n",
       "   outcome  char_1  group_1  char_2        date  ... char_29 char_30 char_31  \\\n",
       "0        0  type 2    17304  type 2  2021-06-29  ...       0       1       1   \n",
       "1        0  type 2    17304  type 2  2021-06-29  ...       0       1       1   \n",
       "2        0  type 2    17304  type 2  2021-06-29  ...       0       1       1   \n",
       "3        0  type 2    17304  type 2  2021-06-29  ...       0       1       1   \n",
       "4        0  type 2    17304  type 2  2021-06-29  ...       0       1       1   \n",
       "\n",
       "  char_32 char_33 char_34 char_35  char_36  char_37  char_38  \n",
       "0       0       0       1       1        1        0       36  \n",
       "1       0       0       1       1        1        0       36  \n",
       "2       0       0       1       1        1        0       36  \n",
       "3       0       0       1       1        1        0       36  \n",
       "4       0       0       1       1        1        0       36  \n",
       "\n",
       "[5 rows x 46 columns]"
      ]
     },
     "execution_count": 44,
     "metadata": {},
     "output_type": "execute_result"
    }
   ],
   "source": [
    "all_data.head()"
   ]
  },
  {
   "cell_type": "code",
   "execution_count": 45,
   "id": "f1b75117",
   "metadata": {},
   "outputs": [
    {
     "name": "stdout",
     "output_type": "stream",
     "text": [
      "The variable data_activitycontine:  411 distinct values\n",
      "The variable char_1contine:  2 distinct values\n",
      "The variable char_2contine:  3 distinct values\n",
      "The variable datecontine:  1196 distinct values\n",
      "The variable char_3contine:  43 distinct values\n",
      "The variable char_4contine:  25 distinct values\n",
      "The variable char_5contine:  9 distinct values\n",
      "The variable char_6contine:  7 distinct values\n",
      "The variable char_7contine:  25 distinct values\n",
      "The variable char_8contine:  8 distinct values\n",
      "The variable char_9contine:  9 distinct values\n"
     ]
    }
   ],
   "source": [
    "# We are going to evaluate the number of different variables\n",
    "\n",
    "categorics = types.index[types[0] == 'O'].values \n",
    "for line in categorics:\n",
    "    print(\"The variable \"+ line +\"contine: \", str(len(all_data[line].unique()))+\" distinct values\")"
   ]
  },
  {
   "cell_type": "code",
   "execution_count": 46,
   "id": "15a18fc9",
   "metadata": {},
   "outputs": [
    {
     "data": {
      "text/html": [
       "<div>\n",
       "<style scoped>\n",
       "    .dataframe tbody tr th:only-of-type {\n",
       "        vertical-align: middle;\n",
       "    }\n",
       "\n",
       "    .dataframe tbody tr th {\n",
       "        vertical-align: top;\n",
       "    }\n",
       "\n",
       "    .dataframe thead th {\n",
       "        text-align: right;\n",
       "    }\n",
       "</style>\n",
       "<table border=\"1\" class=\"dataframe\">\n",
       "  <thead>\n",
       "    <tr style=\"text-align: right;\">\n",
       "      <th></th>\n",
       "      <th>people_id</th>\n",
       "      <th>activity_id</th>\n",
       "      <th>data_activity</th>\n",
       "      <th>activity_category</th>\n",
       "      <th>activity_type</th>\n",
       "      <th>outcome</th>\n",
       "      <th>char_1</th>\n",
       "      <th>group_1</th>\n",
       "      <th>char_2</th>\n",
       "      <th>date</th>\n",
       "      <th>...</th>\n",
       "      <th>char_29</th>\n",
       "      <th>char_30</th>\n",
       "      <th>char_31</th>\n",
       "      <th>char_32</th>\n",
       "      <th>char_33</th>\n",
       "      <th>char_34</th>\n",
       "      <th>char_35</th>\n",
       "      <th>char_36</th>\n",
       "      <th>char_37</th>\n",
       "      <th>char_38</th>\n",
       "    </tr>\n",
       "  </thead>\n",
       "  <tbody>\n",
       "    <tr>\n",
       "      <th>0</th>\n",
       "      <td>100</td>\n",
       "      <td>1734928</td>\n",
       "      <td>2023-08-26</td>\n",
       "      <td>4</td>\n",
       "      <td>76</td>\n",
       "      <td>0</td>\n",
       "      <td>type 2</td>\n",
       "      <td>17304</td>\n",
       "      <td>type 2</td>\n",
       "      <td>2021-06-29</td>\n",
       "      <td>...</td>\n",
       "      <td>0</td>\n",
       "      <td>1</td>\n",
       "      <td>1</td>\n",
       "      <td>0</td>\n",
       "      <td>0</td>\n",
       "      <td>1</td>\n",
       "      <td>1</td>\n",
       "      <td>1</td>\n",
       "      <td>0</td>\n",
       "      <td>36</td>\n",
       "    </tr>\n",
       "    <tr>\n",
       "      <th>1</th>\n",
       "      <td>100</td>\n",
       "      <td>2434093</td>\n",
       "      <td>2022-09-27</td>\n",
       "      <td>2</td>\n",
       "      <td>1</td>\n",
       "      <td>0</td>\n",
       "      <td>type 2</td>\n",
       "      <td>17304</td>\n",
       "      <td>type 2</td>\n",
       "      <td>2021-06-29</td>\n",
       "      <td>...</td>\n",
       "      <td>0</td>\n",
       "      <td>1</td>\n",
       "      <td>1</td>\n",
       "      <td>0</td>\n",
       "      <td>0</td>\n",
       "      <td>1</td>\n",
       "      <td>1</td>\n",
       "      <td>1</td>\n",
       "      <td>0</td>\n",
       "      <td>36</td>\n",
       "    </tr>\n",
       "    <tr>\n",
       "      <th>2</th>\n",
       "      <td>100</td>\n",
       "      <td>3404049</td>\n",
       "      <td>2022-09-27</td>\n",
       "      <td>2</td>\n",
       "      <td>1</td>\n",
       "      <td>0</td>\n",
       "      <td>type 2</td>\n",
       "      <td>17304</td>\n",
       "      <td>type 2</td>\n",
       "      <td>2021-06-29</td>\n",
       "      <td>...</td>\n",
       "      <td>0</td>\n",
       "      <td>1</td>\n",
       "      <td>1</td>\n",
       "      <td>0</td>\n",
       "      <td>0</td>\n",
       "      <td>1</td>\n",
       "      <td>1</td>\n",
       "      <td>1</td>\n",
       "      <td>0</td>\n",
       "      <td>36</td>\n",
       "    </tr>\n",
       "    <tr>\n",
       "      <th>3</th>\n",
       "      <td>100</td>\n",
       "      <td>3651215</td>\n",
       "      <td>2023-08-04</td>\n",
       "      <td>2</td>\n",
       "      <td>1</td>\n",
       "      <td>0</td>\n",
       "      <td>type 2</td>\n",
       "      <td>17304</td>\n",
       "      <td>type 2</td>\n",
       "      <td>2021-06-29</td>\n",
       "      <td>...</td>\n",
       "      <td>0</td>\n",
       "      <td>1</td>\n",
       "      <td>1</td>\n",
       "      <td>0</td>\n",
       "      <td>0</td>\n",
       "      <td>1</td>\n",
       "      <td>1</td>\n",
       "      <td>1</td>\n",
       "      <td>0</td>\n",
       "      <td>36</td>\n",
       "    </tr>\n",
       "    <tr>\n",
       "      <th>4</th>\n",
       "      <td>100</td>\n",
       "      <td>4109017</td>\n",
       "      <td>2023-08-26</td>\n",
       "      <td>2</td>\n",
       "      <td>1</td>\n",
       "      <td>0</td>\n",
       "      <td>type 2</td>\n",
       "      <td>17304</td>\n",
       "      <td>type 2</td>\n",
       "      <td>2021-06-29</td>\n",
       "      <td>...</td>\n",
       "      <td>0</td>\n",
       "      <td>1</td>\n",
       "      <td>1</td>\n",
       "      <td>0</td>\n",
       "      <td>0</td>\n",
       "      <td>1</td>\n",
       "      <td>1</td>\n",
       "      <td>1</td>\n",
       "      <td>0</td>\n",
       "      <td>36</td>\n",
       "    </tr>\n",
       "  </tbody>\n",
       "</table>\n",
       "<p>5 rows × 46 columns</p>\n",
       "</div>"
      ],
      "text/plain": [
       "   people_id  activity_id data_activity  activity_category  activity_type  \\\n",
       "0        100      1734928    2023-08-26                  4             76   \n",
       "1        100      2434093    2022-09-27                  2              1   \n",
       "2        100      3404049    2022-09-27                  2              1   \n",
       "3        100      3651215    2023-08-04                  2              1   \n",
       "4        100      4109017    2023-08-26                  2              1   \n",
       "\n",
       "   outcome  char_1  group_1  char_2        date  ... char_29 char_30 char_31  \\\n",
       "0        0  type 2    17304  type 2  2021-06-29  ...       0       1       1   \n",
       "1        0  type 2    17304  type 2  2021-06-29  ...       0       1       1   \n",
       "2        0  type 2    17304  type 2  2021-06-29  ...       0       1       1   \n",
       "3        0  type 2    17304  type 2  2021-06-29  ...       0       1       1   \n",
       "4        0  type 2    17304  type 2  2021-06-29  ...       0       1       1   \n",
       "\n",
       "  char_32 char_33 char_34 char_35  char_36  char_37  char_38  \n",
       "0       0       0       1       1        1        0       36  \n",
       "1       0       0       1       1        1        0       36  \n",
       "2       0       0       1       1        1        0       36  \n",
       "3       0       0       1       1        1        0       36  \n",
       "4       0       0       1       1        1        0       36  \n",
       "\n",
       "[5 rows x 46 columns]"
      ]
     },
     "execution_count": 46,
     "metadata": {},
     "output_type": "execute_result"
    }
   ],
   "source": [
    "all_data.head()"
   ]
  },
  {
   "cell_type": "code",
   "execution_count": 47,
   "id": "989db974",
   "metadata": {},
   "outputs": [
    {
     "data": {
      "text/plain": [
       "0          2021-06-29\n",
       "1          2021-06-29\n",
       "2          2021-06-29\n",
       "3          2021-06-29\n",
       "4          2021-06-29\n",
       "              ...    \n",
       "2197286    2023-01-06\n",
       "2197287    2023-01-06\n",
       "2197288    2023-01-06\n",
       "2197289    2023-01-06\n",
       "2197290    2023-01-06\n",
       "Name: date, Length: 2197291, dtype: object"
      ]
     },
     "execution_count": 47,
     "metadata": {},
     "output_type": "execute_result"
    }
   ],
   "source": [
    "all_data.date"
   ]
  },
  {
   "cell_type": "code",
   "execution_count": 49,
   "id": "c6ff87b5",
   "metadata": {},
   "outputs": [
    {
     "name": "stderr",
     "output_type": "stream",
     "text": [
      "/opt/conda/lib/python3.7/site-packages/ipykernel_launcher.py:9: FutureWarning: Series.dt.weekofyear and Series.dt.week have been deprecated.  Please use Series.dt.isocalendar().week instead.\n",
      "  if __name__ == '__main__':\n"
     ]
    }
   ],
   "source": [
    "# We gonna create stationary variables\n",
    "\n",
    "# convert the object variable to datetime \n",
    "all_data[\"date\"] = pd.to_datetime(all_data[\"date\"])\n",
    "\n",
    "# Create new variables \n",
    "all_data[\"day\"] = all_data[\"date\"].dt.day\n",
    "all_data[\"day_of_week\"] = all_data[\"date\"].dt.weekday\n",
    "all_data[\"week\"] = all_data[\"date\"].dt.week\n",
    "all_data[\"month\"] = all_data[\"date\"].dt.month\n",
    "all_data[\"trimester\"] = all_data[\"date\"].dt.quarter\n",
    "all_data[\"year\"] = all_data[\"date\"].dt.year"
   ]
  },
  {
   "cell_type": "code",
   "execution_count": 50,
   "id": "199f6b58",
   "metadata": {},
   "outputs": [
    {
     "data": {
      "text/html": [
       "<div>\n",
       "<style scoped>\n",
       "    .dataframe tbody tr th:only-of-type {\n",
       "        vertical-align: middle;\n",
       "    }\n",
       "\n",
       "    .dataframe tbody tr th {\n",
       "        vertical-align: top;\n",
       "    }\n",
       "\n",
       "    .dataframe thead th {\n",
       "        text-align: right;\n",
       "    }\n",
       "</style>\n",
       "<table border=\"1\" class=\"dataframe\">\n",
       "  <thead>\n",
       "    <tr style=\"text-align: right;\">\n",
       "      <th></th>\n",
       "      <th>people_id</th>\n",
       "      <th>activity_id</th>\n",
       "      <th>data_activity</th>\n",
       "      <th>activity_category</th>\n",
       "      <th>activity_type</th>\n",
       "      <th>outcome</th>\n",
       "      <th>char_1</th>\n",
       "      <th>group_1</th>\n",
       "      <th>char_2</th>\n",
       "      <th>date</th>\n",
       "      <th>...</th>\n",
       "      <th>char_35</th>\n",
       "      <th>char_36</th>\n",
       "      <th>char_37</th>\n",
       "      <th>char_38</th>\n",
       "      <th>day</th>\n",
       "      <th>day_of_week</th>\n",
       "      <th>week</th>\n",
       "      <th>month</th>\n",
       "      <th>trimester</th>\n",
       "      <th>year</th>\n",
       "    </tr>\n",
       "  </thead>\n",
       "  <tbody>\n",
       "    <tr>\n",
       "      <th>0</th>\n",
       "      <td>100</td>\n",
       "      <td>1734928</td>\n",
       "      <td>2023-08-26</td>\n",
       "      <td>4</td>\n",
       "      <td>76</td>\n",
       "      <td>0</td>\n",
       "      <td>type 2</td>\n",
       "      <td>17304</td>\n",
       "      <td>type 2</td>\n",
       "      <td>2021-06-29</td>\n",
       "      <td>...</td>\n",
       "      <td>1</td>\n",
       "      <td>1</td>\n",
       "      <td>0</td>\n",
       "      <td>36</td>\n",
       "      <td>29</td>\n",
       "      <td>1</td>\n",
       "      <td>26</td>\n",
       "      <td>6</td>\n",
       "      <td>2</td>\n",
       "      <td>2021</td>\n",
       "    </tr>\n",
       "    <tr>\n",
       "      <th>1</th>\n",
       "      <td>100</td>\n",
       "      <td>2434093</td>\n",
       "      <td>2022-09-27</td>\n",
       "      <td>2</td>\n",
       "      <td>1</td>\n",
       "      <td>0</td>\n",
       "      <td>type 2</td>\n",
       "      <td>17304</td>\n",
       "      <td>type 2</td>\n",
       "      <td>2021-06-29</td>\n",
       "      <td>...</td>\n",
       "      <td>1</td>\n",
       "      <td>1</td>\n",
       "      <td>0</td>\n",
       "      <td>36</td>\n",
       "      <td>29</td>\n",
       "      <td>1</td>\n",
       "      <td>26</td>\n",
       "      <td>6</td>\n",
       "      <td>2</td>\n",
       "      <td>2021</td>\n",
       "    </tr>\n",
       "    <tr>\n",
       "      <th>2</th>\n",
       "      <td>100</td>\n",
       "      <td>3404049</td>\n",
       "      <td>2022-09-27</td>\n",
       "      <td>2</td>\n",
       "      <td>1</td>\n",
       "      <td>0</td>\n",
       "      <td>type 2</td>\n",
       "      <td>17304</td>\n",
       "      <td>type 2</td>\n",
       "      <td>2021-06-29</td>\n",
       "      <td>...</td>\n",
       "      <td>1</td>\n",
       "      <td>1</td>\n",
       "      <td>0</td>\n",
       "      <td>36</td>\n",
       "      <td>29</td>\n",
       "      <td>1</td>\n",
       "      <td>26</td>\n",
       "      <td>6</td>\n",
       "      <td>2</td>\n",
       "      <td>2021</td>\n",
       "    </tr>\n",
       "    <tr>\n",
       "      <th>3</th>\n",
       "      <td>100</td>\n",
       "      <td>3651215</td>\n",
       "      <td>2023-08-04</td>\n",
       "      <td>2</td>\n",
       "      <td>1</td>\n",
       "      <td>0</td>\n",
       "      <td>type 2</td>\n",
       "      <td>17304</td>\n",
       "      <td>type 2</td>\n",
       "      <td>2021-06-29</td>\n",
       "      <td>...</td>\n",
       "      <td>1</td>\n",
       "      <td>1</td>\n",
       "      <td>0</td>\n",
       "      <td>36</td>\n",
       "      <td>29</td>\n",
       "      <td>1</td>\n",
       "      <td>26</td>\n",
       "      <td>6</td>\n",
       "      <td>2</td>\n",
       "      <td>2021</td>\n",
       "    </tr>\n",
       "    <tr>\n",
       "      <th>4</th>\n",
       "      <td>100</td>\n",
       "      <td>4109017</td>\n",
       "      <td>2023-08-26</td>\n",
       "      <td>2</td>\n",
       "      <td>1</td>\n",
       "      <td>0</td>\n",
       "      <td>type 2</td>\n",
       "      <td>17304</td>\n",
       "      <td>type 2</td>\n",
       "      <td>2021-06-29</td>\n",
       "      <td>...</td>\n",
       "      <td>1</td>\n",
       "      <td>1</td>\n",
       "      <td>0</td>\n",
       "      <td>36</td>\n",
       "      <td>29</td>\n",
       "      <td>1</td>\n",
       "      <td>26</td>\n",
       "      <td>6</td>\n",
       "      <td>2</td>\n",
       "      <td>2021</td>\n",
       "    </tr>\n",
       "  </tbody>\n",
       "</table>\n",
       "<p>5 rows × 52 columns</p>\n",
       "</div>"
      ],
      "text/plain": [
       "   people_id  activity_id data_activity  activity_category  activity_type  \\\n",
       "0        100      1734928    2023-08-26                  4             76   \n",
       "1        100      2434093    2022-09-27                  2              1   \n",
       "2        100      3404049    2022-09-27                  2              1   \n",
       "3        100      3651215    2023-08-04                  2              1   \n",
       "4        100      4109017    2023-08-26                  2              1   \n",
       "\n",
       "   outcome  char_1  group_1  char_2       date  ... char_35 char_36 char_37  \\\n",
       "0        0  type 2    17304  type 2 2021-06-29  ...       1       1       0   \n",
       "1        0  type 2    17304  type 2 2021-06-29  ...       1       1       0   \n",
       "2        0  type 2    17304  type 2 2021-06-29  ...       1       1       0   \n",
       "3        0  type 2    17304  type 2 2021-06-29  ...       1       1       0   \n",
       "4        0  type 2    17304  type 2 2021-06-29  ...       1       1       0   \n",
       "\n",
       "  char_38 day day_of_week week  month  trimester  year  \n",
       "0      36  29           1   26      6          2  2021  \n",
       "1      36  29           1   26      6          2  2021  \n",
       "2      36  29           1   26      6          2  2021  \n",
       "3      36  29           1   26      6          2  2021  \n",
       "4      36  29           1   26      6          2  2021  \n",
       "\n",
       "[5 rows x 52 columns]"
      ]
     },
     "execution_count": 50,
     "metadata": {},
     "output_type": "execute_result"
    }
   ],
   "source": [
    "all_data.head()"
   ]
  },
  {
   "cell_type": "code",
   "execution_count": 51,
   "id": "f2c47843",
   "metadata": {},
   "outputs": [
    {
     "name": "stderr",
     "output_type": "stream",
     "text": [
      "/opt/conda/lib/python3.7/site-packages/ipykernel_launcher.py:6: FutureWarning: Series.dt.weekofyear and Series.dt.week have been deprecated.  Please use Series.dt.isocalendar().week instead.\n",
      "  \n"
     ]
    }
   ],
   "source": [
    "# Repet the same but with data_activity\n",
    "\n",
    "all_data[\"data_activity\"] = pd.to_datetime(all_data[\"data_activity\"])\n",
    "all_data[\"activity_day\"] = all_data[\"data_activity\"].dt.day\n",
    "all_data[\"activity_day_of_week\"] = all_data[\"data_activity\"].dt.weekday\n",
    "all_data[\"activity_week\"] = all_data[\"data_activity\"].dt.week\n",
    "all_data[\"activity_month\"] = all_data[\"data_activity\"].dt.month\n",
    "all_data[\"activity_trimester\"] = all_data[\"data_activity\"].dt.quarter\n",
    "all_data[\"activity_year\"] = all_data[\"data_activity\"].dt.year"
   ]
  },
  {
   "cell_type": "code",
   "execution_count": 52,
   "id": "6a45cc93",
   "metadata": {},
   "outputs": [
    {
     "name": "stdout",
     "output_type": "stream",
     "text": [
      "Types of variables later of 4to remplace 0\n",
      "int64     47\n",
      "object     9\n",
      "dtype: int64\n"
     ]
    }
   ],
   "source": [
    "#Delete the original date columns\n",
    "\n",
    "del(all_data[\"date\"])\n",
    "del(all_data[\"data_activity\"])\n",
    "\n",
    "types = pd.DataFrame(all_data.dtypes)\n",
    "print(\"Types of variables later of 4to remplace\",types.groupby(0).size())"
   ]
  },
  {
   "cell_type": "code",
   "execution_count": 53,
   "id": "be863f4c",
   "metadata": {},
   "outputs": [
    {
     "data": {
      "text/html": [
       "<div>\n",
       "<style scoped>\n",
       "    .dataframe tbody tr th:only-of-type {\n",
       "        vertical-align: middle;\n",
       "    }\n",
       "\n",
       "    .dataframe tbody tr th {\n",
       "        vertical-align: top;\n",
       "    }\n",
       "\n",
       "    .dataframe thead th {\n",
       "        text-align: right;\n",
       "    }\n",
       "</style>\n",
       "<table border=\"1\" class=\"dataframe\">\n",
       "  <thead>\n",
       "    <tr style=\"text-align: right;\">\n",
       "      <th></th>\n",
       "      <th>people_id</th>\n",
       "      <th>activity_id</th>\n",
       "      <th>activity_category</th>\n",
       "      <th>activity_type</th>\n",
       "      <th>outcome</th>\n",
       "      <th>char_1</th>\n",
       "      <th>group_1</th>\n",
       "      <th>char_2</th>\n",
       "      <th>char_3</th>\n",
       "      <th>char_4</th>\n",
       "      <th>...</th>\n",
       "      <th>week</th>\n",
       "      <th>month</th>\n",
       "      <th>trimester</th>\n",
       "      <th>year</th>\n",
       "      <th>activity_day</th>\n",
       "      <th>activity_day_of_week</th>\n",
       "      <th>activity_week</th>\n",
       "      <th>activity_month</th>\n",
       "      <th>activity_trimester</th>\n",
       "      <th>activity_year</th>\n",
       "    </tr>\n",
       "  </thead>\n",
       "  <tbody>\n",
       "    <tr>\n",
       "      <th>0</th>\n",
       "      <td>100</td>\n",
       "      <td>1734928</td>\n",
       "      <td>4</td>\n",
       "      <td>76</td>\n",
       "      <td>0</td>\n",
       "      <td>type 2</td>\n",
       "      <td>17304</td>\n",
       "      <td>type 2</td>\n",
       "      <td>type 5</td>\n",
       "      <td>type 5</td>\n",
       "      <td>...</td>\n",
       "      <td>26</td>\n",
       "      <td>6</td>\n",
       "      <td>2</td>\n",
       "      <td>2021</td>\n",
       "      <td>26</td>\n",
       "      <td>5</td>\n",
       "      <td>34</td>\n",
       "      <td>8</td>\n",
       "      <td>3</td>\n",
       "      <td>2023</td>\n",
       "    </tr>\n",
       "    <tr>\n",
       "      <th>1</th>\n",
       "      <td>100</td>\n",
       "      <td>2434093</td>\n",
       "      <td>2</td>\n",
       "      <td>1</td>\n",
       "      <td>0</td>\n",
       "      <td>type 2</td>\n",
       "      <td>17304</td>\n",
       "      <td>type 2</td>\n",
       "      <td>type 5</td>\n",
       "      <td>type 5</td>\n",
       "      <td>...</td>\n",
       "      <td>26</td>\n",
       "      <td>6</td>\n",
       "      <td>2</td>\n",
       "      <td>2021</td>\n",
       "      <td>27</td>\n",
       "      <td>1</td>\n",
       "      <td>39</td>\n",
       "      <td>9</td>\n",
       "      <td>3</td>\n",
       "      <td>2022</td>\n",
       "    </tr>\n",
       "    <tr>\n",
       "      <th>2</th>\n",
       "      <td>100</td>\n",
       "      <td>3404049</td>\n",
       "      <td>2</td>\n",
       "      <td>1</td>\n",
       "      <td>0</td>\n",
       "      <td>type 2</td>\n",
       "      <td>17304</td>\n",
       "      <td>type 2</td>\n",
       "      <td>type 5</td>\n",
       "      <td>type 5</td>\n",
       "      <td>...</td>\n",
       "      <td>26</td>\n",
       "      <td>6</td>\n",
       "      <td>2</td>\n",
       "      <td>2021</td>\n",
       "      <td>27</td>\n",
       "      <td>1</td>\n",
       "      <td>39</td>\n",
       "      <td>9</td>\n",
       "      <td>3</td>\n",
       "      <td>2022</td>\n",
       "    </tr>\n",
       "    <tr>\n",
       "      <th>3</th>\n",
       "      <td>100</td>\n",
       "      <td>3651215</td>\n",
       "      <td>2</td>\n",
       "      <td>1</td>\n",
       "      <td>0</td>\n",
       "      <td>type 2</td>\n",
       "      <td>17304</td>\n",
       "      <td>type 2</td>\n",
       "      <td>type 5</td>\n",
       "      <td>type 5</td>\n",
       "      <td>...</td>\n",
       "      <td>26</td>\n",
       "      <td>6</td>\n",
       "      <td>2</td>\n",
       "      <td>2021</td>\n",
       "      <td>4</td>\n",
       "      <td>4</td>\n",
       "      <td>31</td>\n",
       "      <td>8</td>\n",
       "      <td>3</td>\n",
       "      <td>2023</td>\n",
       "    </tr>\n",
       "    <tr>\n",
       "      <th>4</th>\n",
       "      <td>100</td>\n",
       "      <td>4109017</td>\n",
       "      <td>2</td>\n",
       "      <td>1</td>\n",
       "      <td>0</td>\n",
       "      <td>type 2</td>\n",
       "      <td>17304</td>\n",
       "      <td>type 2</td>\n",
       "      <td>type 5</td>\n",
       "      <td>type 5</td>\n",
       "      <td>...</td>\n",
       "      <td>26</td>\n",
       "      <td>6</td>\n",
       "      <td>2</td>\n",
       "      <td>2021</td>\n",
       "      <td>26</td>\n",
       "      <td>5</td>\n",
       "      <td>34</td>\n",
       "      <td>8</td>\n",
       "      <td>3</td>\n",
       "      <td>2023</td>\n",
       "    </tr>\n",
       "  </tbody>\n",
       "</table>\n",
       "<p>5 rows × 56 columns</p>\n",
       "</div>"
      ],
      "text/plain": [
       "   people_id  activity_id  activity_category  activity_type  outcome  char_1  \\\n",
       "0        100      1734928                  4             76        0  type 2   \n",
       "1        100      2434093                  2              1        0  type 2   \n",
       "2        100      3404049                  2              1        0  type 2   \n",
       "3        100      3651215                  2              1        0  type 2   \n",
       "4        100      4109017                  2              1        0  type 2   \n",
       "\n",
       "   group_1  char_2  char_3  char_4  ... week month trimester  year  \\\n",
       "0    17304  type 2  type 5  type 5  ...   26     6         2  2021   \n",
       "1    17304  type 2  type 5  type 5  ...   26     6         2  2021   \n",
       "2    17304  type 2  type 5  type 5  ...   26     6         2  2021   \n",
       "3    17304  type 2  type 5  type 5  ...   26     6         2  2021   \n",
       "4    17304  type 2  type 5  type 5  ...   26     6         2  2021   \n",
       "\n",
       "  activity_day  activity_day_of_week  activity_week  activity_month  \\\n",
       "0           26                     5             34               8   \n",
       "1           27                     1             39               9   \n",
       "2           27                     1             39               9   \n",
       "3            4                     4             31               8   \n",
       "4           26                     5             34               8   \n",
       "\n",
       "   activity_trimester  activity_year  \n",
       "0                   3           2023  \n",
       "1                   3           2022  \n",
       "2                   3           2022  \n",
       "3                   3           2023  \n",
       "4                   3           2023  \n",
       "\n",
       "[5 rows x 56 columns]"
      ]
     },
     "execution_count": 53,
     "metadata": {},
     "output_type": "execute_result"
    }
   ],
   "source": [
    "all_data.head()"
   ]
  },
  {
   "cell_type": "code",
   "execution_count": 54,
   "id": "f602fc17",
   "metadata": {},
   "outputs": [
    {
     "name": "stdout",
     "output_type": "stream",
     "text": [
      "The variable char_1contine:  2 distinct values\n",
      "The variable char_2contine:  3 distinct values\n",
      "The variable char_3contine:  43 distinct values\n",
      "The variable char_4contine:  25 distinct values\n",
      "The variable char_5contine:  9 distinct values\n",
      "The variable char_6contine:  7 distinct values\n",
      "The variable char_7contine:  25 distinct values\n",
      "The variable char_8contine:  8 distinct values\n",
      "The variable char_9contine:  9 distinct values\n"
     ]
    }
   ],
   "source": [
    "# We are going to evaluate the number of different variables again \n",
    "\n",
    "categorics = types.index[types[0] == 'O'].values \n",
    "for line in categorics:\n",
    "    print(\"The variable \"+ line +\"contine: \", str(len(all_data[line].unique()))+\" distinct values\")"
   ]
  },
  {
   "cell_type": "code",
   "execution_count": 55,
   "id": "f629511d",
   "metadata": {},
   "outputs": [],
   "source": [
    "# We gonna use one hot encoder for the rest of variables \n",
    "\n",
    "from sklearn.preprocessing import LabelEncoder,OneHotEncoder\n",
    "\n",
    "# Define dataframe's function and the column to return a dataframe later OHE\n",
    "def crea_OneHotEncoding(df, column):\n",
    "  le = LabelEncoder()\n",
    "  le_ajustado=le.fit_transform(df[column]).reshape(-1,1)\n",
    "  encoder = OneHotEncoder(sparse=False)\n",
    "  column = [column+ \"_\"+ str(i) for i in le.classes_]\n",
    "  data = encoder.fit_transform(le_ajustado)\n",
    "  return(pd.DataFrame(data,columns =column))"
   ]
  },
  {
   "cell_type": "code",
   "execution_count": 56,
   "id": "0c025bdc",
   "metadata": {},
   "outputs": [
    {
     "name": "stdout",
     "output_type": "stream",
     "text": [
      "Column  char_1  tranform!\n",
      "Column  char_2  tranform!\n",
      "Column  char_3  tranform!\n",
      "Column  char_4  tranform!\n",
      "Column  char_5  tranform!\n",
      "Column  char_6  tranform!\n",
      "Column  char_7  tranform!\n",
      "Column  char_8  tranform!\n",
      "Column  char_9  tranform!\n",
      "Finish size: (2197291, 177)\n"
     ]
    }
   ],
   "source": [
    "numeric_columns = list(set(types.index[types[0] ==\"int64\"].values) - set([\"outcome\"]))\n",
    "all_data_finish = all_data[numeric_columns]\n",
    "objetive = all_data[\"outcome\"]\n",
    "\n",
    "categories = types.index[types[0] == 'O'].values\n",
    "for column in categories:\n",
    "  df = crea_OneHotEncoding(all_data,column)\n",
    "  all_data_finish = pd.concat([all_data_finish,df],axis=1)\n",
    "  print(\"Column \",column, \" tranform!\")\n",
    "\n",
    "print(\"Finish size:\",all_data_finish.shape)"
   ]
  },
  {
   "cell_type": "code",
   "execution_count": 57,
   "id": "a36c3ef6",
   "metadata": {},
   "outputs": [
    {
     "data": {
      "text/plain": [
       "activity_type           int64\n",
       "char_26                 int64\n",
       "char_11                 int64\n",
       "activity_day            int64\n",
       "group_1                 int64\n",
       "char_27                 int64\n",
       "day_of_week             int64\n",
       "char_15                 int64\n",
       "char_19                 int64\n",
       "char_25                 int64\n",
       "char_18                 int64\n",
       "day                     int64\n",
       "activity_year           int64\n",
       "activity_trimester      int64\n",
       "month                   int64\n",
       "activity_month          int64\n",
       "char_20                 int64\n",
       "char_12                 int64\n",
       "char_17                 int64\n",
       "trimester               int64\n",
       "char_23                 int64\n",
       "char_10                 int64\n",
       "activity_day_of_week    int64\n",
       "char_24                 int64\n",
       "char_32                 int64\n",
       "char_21                 int64\n",
       "char_33                 int64\n",
       "activity_id             int64\n",
       "char_35                 int64\n",
       "char_30                 int64\n",
       "char_38                 int64\n",
       "char_31                 int64\n",
       "people_id               int64\n",
       "char_37                 int64\n",
       "char_13                 int64\n",
       "char_22                 int64\n",
       "activity_category       int64\n",
       "char_16                 int64\n",
       "char_14                 int64\n",
       "char_28                 int64\n",
       "dtype: object"
      ]
     },
     "execution_count": 57,
     "metadata": {},
     "output_type": "execute_result"
    }
   ],
   "source": [
    "all_data_finish.dtypes.head(40)"
   ]
  },
  {
   "cell_type": "code",
   "execution_count": 58,
   "id": "26eaeb11",
   "metadata": {},
   "outputs": [
    {
     "data": {
      "text/plain": [
       "activity_type           int64\n",
       "char_26                 int64\n",
       "char_11                 int64\n",
       "activity_day            int64\n",
       "group_1                 int64\n",
       "char_27                 int64\n",
       "day_of_week             int64\n",
       "char_15                 int64\n",
       "char_19                 int64\n",
       "char_25                 int64\n",
       "char_18                 int64\n",
       "day                     int64\n",
       "activity_year           int64\n",
       "activity_trimester      int64\n",
       "month                   int64\n",
       "activity_month          int64\n",
       "char_20                 int64\n",
       "char_12                 int64\n",
       "char_17                 int64\n",
       "trimester               int64\n",
       "char_23                 int64\n",
       "char_10                 int64\n",
       "activity_day_of_week    int64\n",
       "char_24                 int64\n",
       "char_32                 int64\n",
       "char_21                 int64\n",
       "char_33                 int64\n",
       "activity_id             int64\n",
       "char_35                 int64\n",
       "char_30                 int64\n",
       "char_38                 int64\n",
       "char_31                 int64\n",
       "people_id               int64\n",
       "char_37                 int64\n",
       "char_13                 int64\n",
       "char_22                 int64\n",
       "activity_category       int64\n",
       "char_16                 int64\n",
       "char_14                 int64\n",
       "char_28                 int64\n",
       "dtype: object"
      ]
     },
     "execution_count": 58,
     "metadata": {},
     "output_type": "execute_result"
    }
   ],
   "source": [
    "all_data_finish.dtypes.head(40)"
   ]
  },
  {
   "cell_type": "code",
   "execution_count": 59,
   "id": "f71b9a5d",
   "metadata": {},
   "outputs": [
    {
     "data": {
      "text/plain": [
       "0    0\n",
       "1    0\n",
       "2    0\n",
       "3    0\n",
       "4    0\n",
       "Name: outcome, dtype: int64"
      ]
     },
     "execution_count": 59,
     "metadata": {},
     "output_type": "execute_result"
    }
   ],
   "source": [
    "objetive.head()"
   ]
  },
  {
   "cell_type": "code",
   "execution_count": 60,
   "id": "1d5574af",
   "metadata": {},
   "outputs": [
    {
     "data": {
      "text/plain": [
       "activity_type    int64\n",
       "char_26          int64\n",
       "char_11          int64\n",
       "activity_day     int64\n",
       "group_1          int64\n",
       "dtype: object"
      ]
     },
     "execution_count": 60,
     "metadata": {},
     "output_type": "execute_result"
    }
   ],
   "source": [
    "all_data_finish.dtypes.head()"
   ]
  },
  {
   "cell_type": "code",
   "execution_count": 61,
   "id": "5885fd51",
   "metadata": {},
   "outputs": [],
   "source": [
    "from sklearn.model_selection import train_test_split\n",
    "\n",
    "# Separte train set and test set  \n",
    "x_train, x_test, y_train, y_test = train_test_split(all_data_finish,objetive, test_size=0.2,random_state=2020)\n",
    "\n",
    "# Create validation set\n",
    "x_train, x_val, y_train, y_val = train_test_split(x_train,y_train, test_size=0.1, random_state=2020)"
   ]
  },
  {
   "cell_type": "code",
   "execution_count": 62,
   "id": "b7ca3ae6",
   "metadata": {},
   "outputs": [
    {
     "name": "stdout",
     "output_type": "stream",
     "text": [
      "Shape of x_train: (1582048, 177)\n",
      "Shape of x_test: (439459, 177)\n",
      "Shape of x_val: (175784, 177)\n",
      "Shape of y_train: (1582048,)\n",
      "Shape of y_test: (439459,)\n",
      "Shape of y_val: (175784,)\n"
     ]
    }
   ],
   "source": [
    "print(\"Shape of x_train:\",x_train.shape)\n",
    "print(\"Shape of x_test:\",x_test.shape)\n",
    "print(\"Shape of x_val:\",x_val.shape)\n",
    "print(\"Shape of y_train:\",y_train.shape)\n",
    "print(\"Shape of y_test:\",y_test.shape)\n",
    "print(\"Shape of y_val:\",y_val.shape)"
   ]
  },
  {
   "cell_type": "code",
   "execution_count": null,
   "id": "7d44cc5b",
   "metadata": {},
   "outputs": [],
   "source": []
  },
  {
   "cell_type": "code",
   "execution_count": 63,
   "id": "c3d34333",
   "metadata": {},
   "outputs": [
    {
     "name": "stderr",
     "output_type": "stream",
     "text": [
      "Using TensorFlow backend.\n"
     ]
    },
    {
     "name": "stdout",
     "output_type": "stream",
     "text": [
      "Model: \"sequential_1\"\n",
      "_________________________________________________________________\n",
      "Layer (type)                 Output Shape              Param #   \n",
      "=================================================================\n",
      "dense_1 (Dense)              (None, 256)               45568     \n",
      "_________________________________________________________________\n",
      "dense_2 (Dense)              (None, 256)               65792     \n",
      "_________________________________________________________________\n",
      "dense_3 (Dense)              (None, 1)                 257       \n",
      "=================================================================\n",
      "Total params: 111,617\n",
      "Trainable params: 111,617\n",
      "Non-trainable params: 0\n",
      "_________________________________________________________________\n",
      "None\n"
     ]
    }
   ],
   "source": [
    "# We gonna use binary_crossentropy like loss function, sigmoid like wake-up function and the metric for evaluation will be the precision \"accuracy\"\n",
    "\n",
    "from keras.models import Sequential\n",
    "from keras.layers import Dense\n",
    "from keras.utils import plot_model\n",
    "\n",
    "# Create the neuronal network \n",
    "model = Sequential()\n",
    "model.add(Dense(256,input_dim = x_train.shape[1],activation=\"relu\"))\n",
    "model.add(Dense(256,activation=\"relu\"))\n",
    "model.add(Dense(1,activation = \"sigmoid\")) \n",
    "model.compile(optimizer = \"Adam\",loss=\"binary_crossentropy\",metrics=[\"accuracy\"])\n",
    "\n",
    "print(model.summary())"
   ]
  },
  {
   "cell_type": "code",
   "execution_count": 64,
   "id": "d61e9774",
   "metadata": {},
   "outputs": [
    {
     "data": {
      "image/png": "[encoded data removed]",
      "text/plain": [
       "<IPython.core.display.Image object>"
      ]
     },
     "execution_count": 64,
     "metadata": {},
     "output_type": "execute_result"
    }
   ],
   "source": [
    "plot_model(model, to_file='model.png',show_shapes=True)"
   ]
  },
  {
   "cell_type": "code",
   "execution_count": 65,
   "id": "5992e366",
   "metadata": {},
   "outputs": [
    {
     "name": "stdout",
     "output_type": "stream",
     "text": [
      "Train on 1582048 samples, validate on 175784 samples\n",
      "Epoch 1/3\n",
      "1582048/1582048 [==============================] - 483s 305us/step - loss: 64.3142 - accuracy: 0.5555 - val_loss: 0.6866 - val_accuracy: 0.5573\n",
      "Epoch 2/3\n",
      "1582048/1582048 [==============================] - 475s 300us/step - loss: 1.0137 - accuracy: 0.5561 - val_loss: 0.6867 - val_accuracy: 0.5573\n",
      "Epoch 3/3\n",
      "1582048/1582048 [==============================] - 466s 295us/step - loss: 0.6869 - accuracy: 0.5561 - val_loss: 0.6869 - val_accuracy: 0.5573\n"
     ]
    },
    {
     "data": {
      "text/plain": [
       "<keras.callbacks.callbacks.History at 0x7fa9c4510e10>"
      ]
     },
     "execution_count": 65,
     "metadata": {},
     "output_type": "execute_result"
    }
   ],
   "source": [
    "model = Sequential()\n",
    "model.add(Dense(512,input_dim = x_train.shape[1],activation=\"relu\"))\n",
    "model.add(Dense(512,activation=\"relu\"))\n",
    "model.add(Dense(256,activation=\"relu\"))\n",
    "model.add(Dense(1,activation = \"sigmoid\"))\n",
    "model.compile(optimizer = \"Adam\",loss=\"binary_crossentropy\",metrics=[\"accuracy\"])\n",
    "model.fit(x_train,y_train, validation_data = (x_val,y_val),epochs=3, batch_size=64)"
   ]
  },
  {
   "cell_type": "code",
   "execution_count": null,
   "id": "de33d592",
   "metadata": {},
   "outputs": [],
   "source": []
  },
  {
   "cell_type": "code",
   "execution_count": 66,
   "id": "91d8fbc2",
   "metadata": {},
   "outputs": [
    {
     "name": "stdout",
     "output_type": "stream",
     "text": [
      "(1582048, 177)\n",
      "(1582048,)\n"
     ]
    }
   ],
   "source": [
    "from sklearn.preprocessing import StandardScaler\n",
    "scaler = StandardScaler()\n",
    "scaler.fit(x_train) # solo con x_train porque y_train ya esta estandarizada (outcome)\n",
    "x_train_scaled = scaler.transform(x_train)\n",
    "x_val_scaled = scaler.transform(x_val)\n",
    "x_test_scaled = scaler.transform(x_test)\n",
    "\n",
    "\n",
    "print(x_train.shape)\n",
    "print(y_train.shape)"
   ]
  },
  {
   "cell_type": "code",
   "execution_count": 67,
   "id": "ae056157",
   "metadata": {},
   "outputs": [
    {
     "name": "stdout",
     "output_type": "stream",
     "text": [
      "Train on 1582048 samples, validate on 175784 samples\n",
      "Epoch 1/3\n",
      "1582048/1582048 [==============================] - 430s 272us/step - loss: 0.1974 - accuracy: 0.9129 - val_loss: 0.1430 - val_accuracy: 0.9405\n",
      "Epoch 2/3\n",
      "1582048/1582048 [==============================] - 420s 265us/step - loss: 0.1183 - accuracy: 0.9519 - val_loss: 0.1057 - val_accuracy: 0.9575\n",
      "Epoch 3/3\n",
      "1582048/1582048 [==============================] - 424s 268us/step - loss: 0.0912 - accuracy: 0.9641 - val_loss: 0.0915 - val_accuracy: 0.9643\n"
     ]
    },
    {
     "data": {
      "text/plain": [
       "<keras.callbacks.callbacks.History at 0x7fa9c41379d0>"
      ]
     },
     "execution_count": 67,
     "metadata": {},
     "output_type": "execute_result"
    }
   ],
   "source": [
    "#Red neuronal de 2 capas\n",
    "model = Sequential()\n",
    "model.add(Dense(512,input_dim = x_train_scaled.shape[1],activation=\"relu\"))\n",
    "model.add(Dense(512,activation=\"relu\"))\n",
    "model.add(Dense(256,activation=\"relu\"))\n",
    "model.add(Dense(1,activation = \"sigmoid\"))\n",
    "model.compile(optimizer = \"Adam\",loss=\"binary_crossentropy\",metrics=[\"accuracy\"])\n",
    "model.fit(x_train_scaled,y_train, validation_data = (x_val_scaled,y_val),epochs=3, batch_size=64)"
   ]
  },
  {
   "cell_type": "code",
   "execution_count": 68,
   "id": "7ccbc5c4",
   "metadata": {},
   "outputs": [
    {
     "name": "stdout",
     "output_type": "stream",
     "text": [
      "Train on 1582048 samples, validate on 175784 samples\n",
      "Epoch 1/12\n",
      "1582048/1582048 [==============================] - 463s 293us/step - loss: 0.1980 - accuracy: 0.9124 - val_loss: 0.1438 - val_accuracy: 0.9397\n",
      "Epoch 2/12\n",
      "1582048/1582048 [==============================] - 454s 287us/step - loss: 0.1179 - accuracy: 0.9523 - val_loss: 0.1043 - val_accuracy: 0.9588\n",
      "Epoch 3/12\n",
      "1582048/1582048 [==============================] - 466s 294us/step - loss: 0.0907 - accuracy: 0.9642 - val_loss: 0.0912 - val_accuracy: 0.9659\n",
      "Epoch 4/12\n",
      "1582048/1582048 [==============================] - 461s 291us/step - loss: 0.0764 - accuracy: 0.9706 - val_loss: 0.0808 - val_accuracy: 0.9702\n",
      "Epoch 5/12\n",
      "1582048/1582048 [==============================] - 457s 289us/step - loss: 0.0668 - accuracy: 0.9744 - val_loss: 0.0776 - val_accuracy: 0.9719\n",
      "Epoch 6/12\n",
      "1582048/1582048 [==============================] - 457s 289us/step - loss: 0.0604 - accuracy: 0.9769 - val_loss: 0.0723 - val_accuracy: 0.9754\n",
      "Epoch 7/12\n",
      "1582048/1582048 [==============================] - 453s 287us/step - loss: 0.0560 - accuracy: 0.9789 - val_loss: 0.0726 - val_accuracy: 0.9752\n",
      "Epoch 8/12\n",
      "1582048/1582048 [==============================] - 457s 289us/step - loss: 0.0516 - accuracy: 0.9805 - val_loss: 0.0691 - val_accuracy: 0.9777\n",
      "Epoch 9/12\n",
      "1582048/1582048 [==============================] - 449s 284us/step - loss: 0.0502 - accuracy: 0.9815 - val_loss: 0.0736 - val_accuracy: 0.9768\n",
      "Epoch 10/12\n",
      "1582048/1582048 [==============================] - 453s 286us/step - loss: 0.0474 - accuracy: 0.9825 - val_loss: 0.0686 - val_accuracy: 0.9783\n",
      "Epoch 11/12\n",
      "1582048/1582048 [==============================] - 448s 283us/step - loss: 0.0441 - accuracy: 0.9831 - val_loss: 0.0680 - val_accuracy: 0.9792\n",
      "Epoch 12/12\n",
      "1582048/1582048 [==============================] - 448s 283us/step - loss: 0.0436 - accuracy: 0.9839 - val_loss: 0.0621 - val_accuracy: 0.9798\n"
     ]
    }
   ],
   "source": [
    "model = Sequential()\n",
    "model.add(Dense(512,input_dim = x_train_scaled.shape[1],activation=\"relu\"))\n",
    "model.add(Dense(512,activation=\"relu\"))\n",
    "model.add(Dense(256,activation=\"relu\"))\n",
    "model.add(Dense(1,activation = \"sigmoid\"))\n",
    "model.compile(optimizer = \"Adam\",loss=\"binary_crossentropy\",metrics=[\"accuracy\"])\n",
    "history = model.fit(x_train_scaled,y_train, validation_data = (x_val_scaled,y_val),epochs=12, batch_size=64)"
   ]
  },
  {
   "cell_type": "code",
   "execution_count": 69,
   "id": "a2cf896d",
   "metadata": {},
   "outputs": [
    {
     "name": "stdout",
     "output_type": "stream",
     "text": [
      "439459/439459 [==============================] - 74s 167us/step\n",
      "Metric  loss : 0.06\n",
      "Metric  accuracy : 0.98\n"
     ]
    }
   ],
   "source": [
    "result = model.evaluate(x_test_scaled,y_test)\n",
    "for i in range(len(model.metrics_names)):\n",
    " print(\"Metric \",model.metrics_names[i],\":\",\n",
    "str(round(result[i],2)))"
   ]
  },
  {
   "cell_type": "code",
   "execution_count": null,
   "id": "602628f2",
   "metadata": {},
   "outputs": [],
   "source": []
  },
  {
   "cell_type": "code",
   "execution_count": 70,
   "id": "222981b7",
   "metadata": {},
   "outputs": [
    {
     "data": {
      "image/png": "[encoded data removed]",
      "text/plain": [
       "<Figure size 1300x600 with 1 Axes>"
      ]
     },
     "metadata": {},
     "output_type": "display_data"
    }
   ],
   "source": [
    "import matplotlib.pyplot as plt\n",
    "%matplotlib inline\n",
    "\n",
    "plt.figure(figsize=(13,6))\n",
    "plt.plot(history.history['loss'])\n",
    "plt.plot(history.history['val_loss'])\n",
    "plt.title(\"Pérdidas del modelo con set de entrenamiento y pruebas por época\")\n",
    "plt.ylabel('Pérdidas')\n",
    "plt.xlabel('Épocas')\n",
    "plt.legend(['Entrenamiento', 'Validación'], loc='upper right')\n",
    "plt.show()"
   ]
  },
  {
   "cell_type": "code",
   "execution_count": 71,
   "id": "cfd1c84f",
   "metadata": {},
   "outputs": [
    {
     "data": {
      "image/png": "[encoded data removed]",
      "text/plain": [
       "<Figure size 1300x600 with 1 Axes>"
      ]
     },
     "metadata": {},
     "output_type": "display_data"
    }
   ],
   "source": [
    "plt.figure(figsize=(13,6))\n",
    "plt.plot(history.history['accuracy'])\n",
    "plt.plot(history.history['val_accuracy'])\n",
    "plt.title(\"Accuracy del modelo con set de entrenamiento y pruebas por época\")\n",
    "plt.ylabel('Accuracy')\n",
    "plt.xlabel('Épocas')\n",
    "plt.legend(['Entrenamiento', 'Validación'], loc='lower right')\n",
    "plt.show()"
   ]
  },
  {
   "cell_type": "code",
   "execution_count": null,
   "id": "7552e512",
   "metadata": {},
   "outputs": [],
   "source": []
  }
 ],
 "metadata": {
  "environment": {
   "name": "tf2-gpu.2-1.m68",
   "type": "gcloud",
   "uri": "gcr.io/deeplearning-platform-release/tf2-gpu.2-1:m68"
  },
  "kernelspec": {
   "display_name": "Python 3",
   "language": "python",
   "name": "python3"
  },
  "language_info": {
   "codemirror_mode": {
    "name": "ipython",
    "version": 3
   },
   "file_extension": ".py",
   "mimetype": "text/x-python",
   "name": "python",
   "nbconvert_exporter": "python",
   "pygments_lexer": "ipython3",
   "version": "3.7.10"
  }
 },
 "nbformat": 4,
 "nbformat_minor": 5
}
