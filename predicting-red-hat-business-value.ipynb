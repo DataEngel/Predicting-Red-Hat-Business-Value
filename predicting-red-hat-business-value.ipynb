{
 "cells": [
  {
   "cell_type": "markdown",
   "metadata": {
    "papermill": {
     "duration": 0.023822,
     "end_time": "2021-03-21T05:25:53.949615",
     "exception": false,
     "start_time": "2021-03-21T05:25:53.925793",
     "status": "completed"
    },
    "tags": []
   },
   "source": [
    "# Content\n",
    "\n",
    "<div class=\"alert alert-block alert-warning\" style=\"margin-top: 20px\">\n",
    "    <ol>\n",
    "        <li><a href=\"#ingenieria\">Data Engineering</a></li>          \n",
    "        <li><a href=\"#architecture\">Proposed architecture</a></li>\n",
    "        <li><a href=\"#evaluaion\">Model evaluation</a></li>\n",
    "    </ol>\n",
    "</div>\n",
    "<br>\n",
    "<hr> "
   ]
  },
  {
   "cell_type": "code",
   "execution_count": 1,
   "metadata": {
    "_cell_guid": "b1076dfc-b9ad-4769-8c92-a6c4dae69d19",
    "_uuid": "8f2839f25d086af736a60e9eeb907d3b93b6e0e5",
    "execution": {
     "iopub.execute_input": "2021-03-21T05:25:54.009603Z",
     "iopub.status.busy": "2021-03-21T05:25:54.008476Z",
     "iopub.status.idle": "2021-03-21T05:25:54.012276Z",
     "shell.execute_reply": "2021-03-21T05:25:54.011572Z"
    },
    "papermill": {
     "duration": 0.037267,
     "end_time": "2021-03-21T05:25:54.012531",
     "exception": false,
     "start_time": "2021-03-21T05:25:53.975264",
     "status": "completed"
    },
    "tags": []
   },
   "outputs": [],
   "source": [
    "# Import the libraries\n",
    "\n",
    "import pandas as pd\n",
    "import numpy as np\n",
    "import io "
   ]
  },
  {
   "cell_type": "code",
   "execution_count": 2,
   "metadata": {
    "execution": {
     "iopub.execute_input": "2021-03-21T05:25:54.065350Z",
     "iopub.status.busy": "2021-03-21T05:25:54.064406Z",
     "iopub.status.idle": "2021-03-21T05:25:55.538085Z",
     "shell.execute_reply": "2021-03-21T05:25:55.538633Z"
    },
    "papermill": {
     "duration": 1.502488,
     "end_time": "2021-03-21T05:25:55.538807",
     "exception": false,
     "start_time": "2021-03-21T05:25:54.036319",
     "status": "completed"
    },
    "tags": []
   },
   "outputs": [
    {
     "data": {
      "text/html": [
       "<div>\n",
       "<style scoped>\n",
       "    .dataframe tbody tr th:only-of-type {\n",
       "        vertical-align: middle;\n",
       "    }\n",
       "\n",
       "    .dataframe tbody tr th {\n",
       "        vertical-align: top;\n",
       "    }\n",
       "\n",
       "    .dataframe thead th {\n",
       "        text-align: right;\n",
       "    }\n",
       "</style>\n",
       "<table border=\"1\" class=\"dataframe\">\n",
       "  <thead>\n",
       "    <tr style=\"text-align: right;\">\n",
       "      <th></th>\n",
       "      <th>people_id</th>\n",
       "      <th>char_1</th>\n",
       "      <th>group_1</th>\n",
       "      <th>char_2</th>\n",
       "      <th>date</th>\n",
       "      <th>char_3</th>\n",
       "      <th>char_4</th>\n",
       "      <th>char_5</th>\n",
       "      <th>char_6</th>\n",
       "      <th>char_7</th>\n",
       "      <th>...</th>\n",
       "      <th>char_29</th>\n",
       "      <th>char_30</th>\n",
       "      <th>char_31</th>\n",
       "      <th>char_32</th>\n",
       "      <th>char_33</th>\n",
       "      <th>char_34</th>\n",
       "      <th>char_35</th>\n",
       "      <th>char_36</th>\n",
       "      <th>char_37</th>\n",
       "      <th>char_38</th>\n",
       "    </tr>\n",
       "  </thead>\n",
       "  <tbody>\n",
       "    <tr>\n",
       "      <th>0</th>\n",
       "      <td>ppl_100</td>\n",
       "      <td>type 2</td>\n",
       "      <td>group 17304</td>\n",
       "      <td>type 2</td>\n",
       "      <td>2021-06-29</td>\n",
       "      <td>type 5</td>\n",
       "      <td>type 5</td>\n",
       "      <td>type 5</td>\n",
       "      <td>type 3</td>\n",
       "      <td>type 11</td>\n",
       "      <td>...</td>\n",
       "      <td>False</td>\n",
       "      <td>True</td>\n",
       "      <td>True</td>\n",
       "      <td>False</td>\n",
       "      <td>False</td>\n",
       "      <td>True</td>\n",
       "      <td>True</td>\n",
       "      <td>True</td>\n",
       "      <td>False</td>\n",
       "      <td>36</td>\n",
       "    </tr>\n",
       "    <tr>\n",
       "      <th>1</th>\n",
       "      <td>ppl_100002</td>\n",
       "      <td>type 2</td>\n",
       "      <td>group 8688</td>\n",
       "      <td>type 3</td>\n",
       "      <td>2021-01-06</td>\n",
       "      <td>type 28</td>\n",
       "      <td>type 9</td>\n",
       "      <td>type 5</td>\n",
       "      <td>type 3</td>\n",
       "      <td>type 11</td>\n",
       "      <td>...</td>\n",
       "      <td>False</td>\n",
       "      <td>True</td>\n",
       "      <td>True</td>\n",
       "      <td>True</td>\n",
       "      <td>True</td>\n",
       "      <td>True</td>\n",
       "      <td>True</td>\n",
       "      <td>True</td>\n",
       "      <td>False</td>\n",
       "      <td>76</td>\n",
       "    </tr>\n",
       "    <tr>\n",
       "      <th>2</th>\n",
       "      <td>ppl_100003</td>\n",
       "      <td>type 2</td>\n",
       "      <td>group 33592</td>\n",
       "      <td>type 3</td>\n",
       "      <td>2022-06-10</td>\n",
       "      <td>type 4</td>\n",
       "      <td>type 8</td>\n",
       "      <td>type 5</td>\n",
       "      <td>type 2</td>\n",
       "      <td>type 5</td>\n",
       "      <td>...</td>\n",
       "      <td>False</td>\n",
       "      <td>False</td>\n",
       "      <td>True</td>\n",
       "      <td>True</td>\n",
       "      <td>True</td>\n",
       "      <td>True</td>\n",
       "      <td>False</td>\n",
       "      <td>True</td>\n",
       "      <td>True</td>\n",
       "      <td>99</td>\n",
       "    </tr>\n",
       "    <tr>\n",
       "      <th>3</th>\n",
       "      <td>ppl_100004</td>\n",
       "      <td>type 2</td>\n",
       "      <td>group 22593</td>\n",
       "      <td>type 3</td>\n",
       "      <td>2022-07-20</td>\n",
       "      <td>type 40</td>\n",
       "      <td>type 25</td>\n",
       "      <td>type 9</td>\n",
       "      <td>type 4</td>\n",
       "      <td>type 16</td>\n",
       "      <td>...</td>\n",
       "      <td>True</td>\n",
       "      <td>True</td>\n",
       "      <td>True</td>\n",
       "      <td>True</td>\n",
       "      <td>True</td>\n",
       "      <td>True</td>\n",
       "      <td>True</td>\n",
       "      <td>True</td>\n",
       "      <td>True</td>\n",
       "      <td>76</td>\n",
       "    </tr>\n",
       "    <tr>\n",
       "      <th>4</th>\n",
       "      <td>ppl_100006</td>\n",
       "      <td>type 2</td>\n",
       "      <td>group 6534</td>\n",
       "      <td>type 3</td>\n",
       "      <td>2022-07-27</td>\n",
       "      <td>type 40</td>\n",
       "      <td>type 25</td>\n",
       "      <td>type 9</td>\n",
       "      <td>type 3</td>\n",
       "      <td>type 8</td>\n",
       "      <td>...</td>\n",
       "      <td>False</td>\n",
       "      <td>False</td>\n",
       "      <td>True</td>\n",
       "      <td>False</td>\n",
       "      <td>False</td>\n",
       "      <td>False</td>\n",
       "      <td>True</td>\n",
       "      <td>True</td>\n",
       "      <td>False</td>\n",
       "      <td>84</td>\n",
       "    </tr>\n",
       "  </tbody>\n",
       "</table>\n",
       "<p>5 rows × 41 columns</p>\n",
       "</div>"
      ],
      "text/plain": [
       "    people_id  char_1      group_1  char_2        date   char_3   char_4  \\\n",
       "0     ppl_100  type 2  group 17304  type 2  2021-06-29   type 5   type 5   \n",
       "1  ppl_100002  type 2   group 8688  type 3  2021-01-06  type 28   type 9   \n",
       "2  ppl_100003  type 2  group 33592  type 3  2022-06-10   type 4   type 8   \n",
       "3  ppl_100004  type 2  group 22593  type 3  2022-07-20  type 40  type 25   \n",
       "4  ppl_100006  type 2   group 6534  type 3  2022-07-27  type 40  type 25   \n",
       "\n",
       "   char_5  char_6   char_7  ... char_29 char_30  char_31  char_32  char_33  \\\n",
       "0  type 5  type 3  type 11  ...   False    True     True    False    False   \n",
       "1  type 5  type 3  type 11  ...   False    True     True     True     True   \n",
       "2  type 5  type 2   type 5  ...   False   False     True     True     True   \n",
       "3  type 9  type 4  type 16  ...    True    True     True     True     True   \n",
       "4  type 9  type 3   type 8  ...   False   False     True    False    False   \n",
       "\n",
       "   char_34  char_35  char_36  char_37  char_38  \n",
       "0     True     True     True    False       36  \n",
       "1     True     True     True    False       76  \n",
       "2     True    False     True     True       99  \n",
       "3     True     True     True     True       76  \n",
       "4    False     True     True    False       84  \n",
       "\n",
       "[5 rows x 41 columns]"
      ]
     },
     "execution_count": 2,
     "metadata": {},
     "output_type": "execute_result"
    }
   ],
   "source": [
    "# Load the dataset \n",
    "\n",
    "people = pd.read_csv('../input/predicting-red-hat-business-value/people.csv.zip', sep = ',')\n",
    "people.head()\n",
    "\n",
    "# We see much categorical data\n",
    "# The informacion is anonymized"
   ]
  },
  {
   "cell_type": "code",
   "execution_count": 3,
   "metadata": {
    "execution": {
     "iopub.execute_input": "2021-03-21T05:25:55.593687Z",
     "iopub.status.busy": "2021-03-21T05:25:55.593030Z",
     "iopub.status.idle": "2021-03-21T05:26:01.547194Z",
     "shell.execute_reply": "2021-03-21T05:26:01.547789Z"
    },
    "papermill": {
     "duration": 5.984282,
     "end_time": "2021-03-21T05:26:01.547981",
     "exception": false,
     "start_time": "2021-03-21T05:25:55.563699",
     "status": "completed"
    },
    "tags": []
   },
   "outputs": [
    {
     "data": {
      "text/html": [
       "<div>\n",
       "<style scoped>\n",
       "    .dataframe tbody tr th:only-of-type {\n",
       "        vertical-align: middle;\n",
       "    }\n",
       "\n",
       "    .dataframe tbody tr th {\n",
       "        vertical-align: top;\n",
       "    }\n",
       "\n",
       "    .dataframe thead th {\n",
       "        text-align: right;\n",
       "    }\n",
       "</style>\n",
       "<table border=\"1\" class=\"dataframe\">\n",
       "  <thead>\n",
       "    <tr style=\"text-align: right;\">\n",
       "      <th></th>\n",
       "      <th>people_id</th>\n",
       "      <th>activity_id</th>\n",
       "      <th>date</th>\n",
       "      <th>activity_category</th>\n",
       "      <th>char_1</th>\n",
       "      <th>char_2</th>\n",
       "      <th>char_3</th>\n",
       "      <th>char_4</th>\n",
       "      <th>char_5</th>\n",
       "      <th>char_6</th>\n",
       "      <th>char_7</th>\n",
       "      <th>char_8</th>\n",
       "      <th>char_9</th>\n",
       "      <th>char_10</th>\n",
       "      <th>outcome</th>\n",
       "    </tr>\n",
       "  </thead>\n",
       "  <tbody>\n",
       "    <tr>\n",
       "      <th>0</th>\n",
       "      <td>ppl_100</td>\n",
       "      <td>act2_1734928</td>\n",
       "      <td>2023-08-26</td>\n",
       "      <td>type 4</td>\n",
       "      <td>NaN</td>\n",
       "      <td>NaN</td>\n",
       "      <td>NaN</td>\n",
       "      <td>NaN</td>\n",
       "      <td>NaN</td>\n",
       "      <td>NaN</td>\n",
       "      <td>NaN</td>\n",
       "      <td>NaN</td>\n",
       "      <td>NaN</td>\n",
       "      <td>type 76</td>\n",
       "      <td>0</td>\n",
       "    </tr>\n",
       "    <tr>\n",
       "      <th>1</th>\n",
       "      <td>ppl_100</td>\n",
       "      <td>act2_2434093</td>\n",
       "      <td>2022-09-27</td>\n",
       "      <td>type 2</td>\n",
       "      <td>NaN</td>\n",
       "      <td>NaN</td>\n",
       "      <td>NaN</td>\n",
       "      <td>NaN</td>\n",
       "      <td>NaN</td>\n",
       "      <td>NaN</td>\n",
       "      <td>NaN</td>\n",
       "      <td>NaN</td>\n",
       "      <td>NaN</td>\n",
       "      <td>type 1</td>\n",
       "      <td>0</td>\n",
       "    </tr>\n",
       "    <tr>\n",
       "      <th>2</th>\n",
       "      <td>ppl_100</td>\n",
       "      <td>act2_3404049</td>\n",
       "      <td>2022-09-27</td>\n",
       "      <td>type 2</td>\n",
       "      <td>NaN</td>\n",
       "      <td>NaN</td>\n",
       "      <td>NaN</td>\n",
       "      <td>NaN</td>\n",
       "      <td>NaN</td>\n",
       "      <td>NaN</td>\n",
       "      <td>NaN</td>\n",
       "      <td>NaN</td>\n",
       "      <td>NaN</td>\n",
       "      <td>type 1</td>\n",
       "      <td>0</td>\n",
       "    </tr>\n",
       "    <tr>\n",
       "      <th>3</th>\n",
       "      <td>ppl_100</td>\n",
       "      <td>act2_3651215</td>\n",
       "      <td>2023-08-04</td>\n",
       "      <td>type 2</td>\n",
       "      <td>NaN</td>\n",
       "      <td>NaN</td>\n",
       "      <td>NaN</td>\n",
       "      <td>NaN</td>\n",
       "      <td>NaN</td>\n",
       "      <td>NaN</td>\n",
       "      <td>NaN</td>\n",
       "      <td>NaN</td>\n",
       "      <td>NaN</td>\n",
       "      <td>type 1</td>\n",
       "      <td>0</td>\n",
       "    </tr>\n",
       "    <tr>\n",
       "      <th>4</th>\n",
       "      <td>ppl_100</td>\n",
       "      <td>act2_4109017</td>\n",
       "      <td>2023-08-26</td>\n",
       "      <td>type 2</td>\n",
       "      <td>NaN</td>\n",
       "      <td>NaN</td>\n",
       "      <td>NaN</td>\n",
       "      <td>NaN</td>\n",
       "      <td>NaN</td>\n",
       "      <td>NaN</td>\n",
       "      <td>NaN</td>\n",
       "      <td>NaN</td>\n",
       "      <td>NaN</td>\n",
       "      <td>type 1</td>\n",
       "      <td>0</td>\n",
       "    </tr>\n",
       "  </tbody>\n",
       "</table>\n",
       "</div>"
      ],
      "text/plain": [
       "  people_id   activity_id        date activity_category char_1 char_2 char_3  \\\n",
       "0   ppl_100  act2_1734928  2023-08-26            type 4    NaN    NaN    NaN   \n",
       "1   ppl_100  act2_2434093  2022-09-27            type 2    NaN    NaN    NaN   \n",
       "2   ppl_100  act2_3404049  2022-09-27            type 2    NaN    NaN    NaN   \n",
       "3   ppl_100  act2_3651215  2023-08-04            type 2    NaN    NaN    NaN   \n",
       "4   ppl_100  act2_4109017  2023-08-26            type 2    NaN    NaN    NaN   \n",
       "\n",
       "  char_4 char_5 char_6 char_7 char_8 char_9  char_10  outcome  \n",
       "0    NaN    NaN    NaN    NaN    NaN    NaN  type 76        0  \n",
       "1    NaN    NaN    NaN    NaN    NaN    NaN   type 1        0  \n",
       "2    NaN    NaN    NaN    NaN    NaN    NaN   type 1        0  \n",
       "3    NaN    NaN    NaN    NaN    NaN    NaN   type 1        0  \n",
       "4    NaN    NaN    NaN    NaN    NaN    NaN   type 1        0  "
      ]
     },
     "execution_count": 3,
     "metadata": {},
     "output_type": "execute_result"
    }
   ],
   "source": [
    "activity = pd.read_csv('../input/predicting-red-hat-business-value/act_train.csv.zip', sep = ',')\n",
    "activity.head()"
   ]
  },
  {
   "cell_type": "markdown",
   "metadata": {
    "papermill": {
     "duration": 0.02435,
     "end_time": "2021-03-21T05:26:01.596849",
     "exception": false,
     "start_time": "2021-03-21T05:26:01.572499",
     "status": "completed"
    },
    "tags": []
   },
   "source": [
    "# <h1 id=\"ingenieria\">Data Engineering</h1>"
   ]
  },
  {
   "cell_type": "code",
   "execution_count": 4,
   "metadata": {
    "execution": {
     "iopub.execute_input": "2021-03-21T05:26:01.651736Z",
     "iopub.status.busy": "2021-03-21T05:26:01.651026Z",
     "iopub.status.idle": "2021-03-21T05:26:01.912879Z",
     "shell.execute_reply": "2021-03-21T05:26:01.913499Z"
    },
    "papermill": {
     "duration": 0.292133,
     "end_time": "2021-03-21T05:26:01.913685",
     "exception": false,
     "start_time": "2021-03-21T05:26:01.621552",
     "status": "completed"
    },
    "tags": []
   },
   "outputs": [
    {
     "name": "stdout",
     "output_type": "stream",
     "text": [
      "(189118, 41)\n"
     ]
    },
    {
     "data": {
      "text/plain": [
       "people_id    0.0\n",
       "char_1       0.0\n",
       "group_1      0.0\n",
       "char_2       0.0\n",
       "date         0.0\n",
       "char_3       0.0\n",
       "char_4       0.0\n",
       "char_5       0.0\n",
       "char_6       0.0\n",
       "char_7       0.0\n",
       "char_8       0.0\n",
       "char_9       0.0\n",
       "char_10      0.0\n",
       "char_11      0.0\n",
       "char_12      0.0\n",
       "char_13      0.0\n",
       "char_14      0.0\n",
       "char_15      0.0\n",
       "char_16      0.0\n",
       "char_17      0.0\n",
       "char_18      0.0\n",
       "char_19      0.0\n",
       "char_20      0.0\n",
       "char_21      0.0\n",
       "char_22      0.0\n",
       "char_23      0.0\n",
       "char_24      0.0\n",
       "char_25      0.0\n",
       "char_26      0.0\n",
       "char_27      0.0\n",
       "char_28      0.0\n",
       "char_29      0.0\n",
       "char_30      0.0\n",
       "char_31      0.0\n",
       "char_32      0.0\n",
       "char_33      0.0\n",
       "char_34      0.0\n",
       "char_35      0.0\n",
       "char_36      0.0\n",
       "char_37      0.0\n",
       "char_38      0.0\n",
       "dtype: float64"
      ]
     },
     "execution_count": 4,
     "metadata": {},
     "output_type": "execute_result"
    }
   ],
   "source": [
    "# Show the shape\n",
    "\n",
    "print(people.shape)\n",
    "\n",
    "# Show the null percent\n",
    "\n",
    "100*people.isnull().sum()/people.shape[0]"
   ]
  },
  {
   "cell_type": "code",
   "execution_count": 5,
   "metadata": {
    "execution": {
     "iopub.execute_input": "2021-03-21T05:26:01.969694Z",
     "iopub.status.busy": "2021-03-21T05:26:01.968621Z",
     "iopub.status.idle": "2021-03-21T05:26:04.065238Z",
     "shell.execute_reply": "2021-03-21T05:26:04.064558Z"
    },
    "papermill": {
     "duration": 2.126256,
     "end_time": "2021-03-21T05:26:04.065395",
     "exception": false,
     "start_time": "2021-03-21T05:26:01.939139",
     "status": "completed"
    },
    "tags": []
   },
   "outputs": [
    {
     "name": "stdout",
     "output_type": "stream",
     "text": [
      "(2197291, 15)\n"
     ]
    },
    {
     "data": {
      "text/plain": [
       "people_id             0.000000\n",
       "activity_id           0.000000\n",
       "date                  0.000000\n",
       "activity_category     0.000000\n",
       "char_1               92.826849\n",
       "char_2               92.826849\n",
       "char_3               92.826849\n",
       "char_4               92.826849\n",
       "char_5               92.826849\n",
       "char_6               92.826849\n",
       "char_7               92.826849\n",
       "char_8               92.826849\n",
       "char_9               92.826849\n",
       "char_10               7.173151\n",
       "outcome               0.000000\n",
       "dtype: float64"
      ]
     },
     "execution_count": 5,
     "metadata": {},
     "output_type": "execute_result"
    }
   ],
   "source": [
    "# We repet with the other dataset \n",
    "\n",
    "print(activity.shape)\n",
    "100*activity.isnull().sum()/activity.shape[0]\n",
    "\n",
    "# We gonna delete the columns 90% null and fill "
   ]
  },
  {
   "cell_type": "code",
   "execution_count": 6,
   "metadata": {
    "execution": {
     "iopub.execute_input": "2021-03-21T05:26:04.234280Z",
     "iopub.status.busy": "2021-03-21T05:26:04.233504Z",
     "iopub.status.idle": "2021-03-21T05:26:04.237576Z",
     "shell.execute_reply": "2021-03-21T05:26:04.236557Z"
    },
    "papermill": {
     "duration": 0.14582,
     "end_time": "2021-03-21T05:26:04.237723",
     "exception": false,
     "start_time": "2021-03-21T05:26:04.091903",
     "status": "completed"
    },
    "tags": []
   },
   "outputs": [
    {
     "name": "stdout",
     "output_type": "stream",
     "text": [
      "(2197291, 6)\n"
     ]
    }
   ],
   "source": [
    "activity.drop(columns=['char_1','char_2','char_3','char_4','char_5','char_6','char_7','char_8','char_9'],inplace=True)\n",
    "\n",
    "print(activity.shape)"
   ]
  },
  {
   "cell_type": "code",
   "execution_count": 7,
   "metadata": {
    "execution": {
     "iopub.execute_input": "2021-03-21T05:26:04.303518Z",
     "iopub.status.busy": "2021-03-21T05:26:04.302856Z",
     "iopub.status.idle": "2021-03-21T05:26:04.308357Z",
     "shell.execute_reply": "2021-03-21T05:26:04.308812Z"
    },
    "papermill": {
     "duration": 0.044681,
     "end_time": "2021-03-21T05:26:04.309006",
     "exception": false,
     "start_time": "2021-03-21T05:26:04.264325",
     "status": "completed"
    },
    "tags": []
   },
   "outputs": [
    {
     "data": {
      "text/html": [
       "<div>\n",
       "<style scoped>\n",
       "    .dataframe tbody tr th:only-of-type {\n",
       "        vertical-align: middle;\n",
       "    }\n",
       "\n",
       "    .dataframe tbody tr th {\n",
       "        vertical-align: top;\n",
       "    }\n",
       "\n",
       "    .dataframe thead th {\n",
       "        text-align: right;\n",
       "    }\n",
       "</style>\n",
       "<table border=\"1\" class=\"dataframe\">\n",
       "  <thead>\n",
       "    <tr style=\"text-align: right;\">\n",
       "      <th></th>\n",
       "      <th>people_id</th>\n",
       "      <th>activity_id</th>\n",
       "      <th>date</th>\n",
       "      <th>activity_category</th>\n",
       "      <th>char_10</th>\n",
       "      <th>outcome</th>\n",
       "    </tr>\n",
       "  </thead>\n",
       "  <tbody>\n",
       "    <tr>\n",
       "      <th>0</th>\n",
       "      <td>ppl_100</td>\n",
       "      <td>act2_1734928</td>\n",
       "      <td>2023-08-26</td>\n",
       "      <td>type 4</td>\n",
       "      <td>type 76</td>\n",
       "      <td>0</td>\n",
       "    </tr>\n",
       "    <tr>\n",
       "      <th>1</th>\n",
       "      <td>ppl_100</td>\n",
       "      <td>act2_2434093</td>\n",
       "      <td>2022-09-27</td>\n",
       "      <td>type 2</td>\n",
       "      <td>type 1</td>\n",
       "      <td>0</td>\n",
       "    </tr>\n",
       "    <tr>\n",
       "      <th>2</th>\n",
       "      <td>ppl_100</td>\n",
       "      <td>act2_3404049</td>\n",
       "      <td>2022-09-27</td>\n",
       "      <td>type 2</td>\n",
       "      <td>type 1</td>\n",
       "      <td>0</td>\n",
       "    </tr>\n",
       "    <tr>\n",
       "      <th>3</th>\n",
       "      <td>ppl_100</td>\n",
       "      <td>act2_3651215</td>\n",
       "      <td>2023-08-04</td>\n",
       "      <td>type 2</td>\n",
       "      <td>type 1</td>\n",
       "      <td>0</td>\n",
       "    </tr>\n",
       "    <tr>\n",
       "      <th>4</th>\n",
       "      <td>ppl_100</td>\n",
       "      <td>act2_4109017</td>\n",
       "      <td>2023-08-26</td>\n",
       "      <td>type 2</td>\n",
       "      <td>type 1</td>\n",
       "      <td>0</td>\n",
       "    </tr>\n",
       "  </tbody>\n",
       "</table>\n",
       "</div>"
      ],
      "text/plain": [
       "  people_id   activity_id        date activity_category  char_10  outcome\n",
       "0   ppl_100  act2_1734928  2023-08-26            type 4  type 76        0\n",
       "1   ppl_100  act2_2434093  2022-09-27            type 2   type 1        0\n",
       "2   ppl_100  act2_3404049  2022-09-27            type 2   type 1        0\n",
       "3   ppl_100  act2_3651215  2023-08-04            type 2   type 1        0\n",
       "4   ppl_100  act2_4109017  2023-08-26            type 2   type 1        0"
      ]
     },
     "execution_count": 7,
     "metadata": {},
     "output_type": "execute_result"
    }
   ],
   "source": [
    "activity.head() "
   ]
  },
  {
   "cell_type": "code",
   "execution_count": 8,
   "metadata": {
    "execution": {
     "iopub.execute_input": "2021-03-21T05:26:04.892129Z",
     "iopub.status.busy": "2021-03-21T05:26:04.680066Z",
     "iopub.status.idle": "2021-03-21T05:26:04.968353Z",
     "shell.execute_reply": "2021-03-21T05:26:04.967666Z"
    },
    "papermill": {
     "duration": 0.632558,
     "end_time": "2021-03-21T05:26:04.968512",
     "exception": false,
     "start_time": "2021-03-21T05:26:04.335954",
     "status": "completed"
    },
    "tags": []
   },
   "outputs": [],
   "source": [
    "# Fill char_10 with the mode\n",
    "\n",
    "activity['char_10'] = activity['char_10'].fillna(activity[\"char_10\"].mode()[0])"
   ]
  },
  {
   "cell_type": "code",
   "execution_count": 9,
   "metadata": {
    "execution": {
     "iopub.execute_input": "2021-03-21T05:26:06.118162Z",
     "iopub.status.busy": "2021-03-21T05:26:06.116997Z",
     "iopub.status.idle": "2021-03-21T05:26:06.141106Z",
     "shell.execute_reply": "2021-03-21T05:26:06.141573Z"
    },
    "papermill": {
     "duration": 1.145924,
     "end_time": "2021-03-21T05:26:06.141747",
     "exception": false,
     "start_time": "2021-03-21T05:26:04.995823",
     "status": "completed"
    },
    "tags": []
   },
   "outputs": [
    {
     "data": {
      "text/plain": [
       "people_id            0.0\n",
       "activity_id          0.0\n",
       "date                 0.0\n",
       "activity_category    0.0\n",
       "char_10              0.0\n",
       "outcome              0.0\n",
       "dtype: float64"
      ]
     },
     "execution_count": 9,
     "metadata": {},
     "output_type": "execute_result"
    }
   ],
   "source": [
    "# We data is clean of null dates\n",
    "\n",
    "100*activity.isnull().sum()/activity.shape[0]"
   ]
  },
  {
   "cell_type": "code",
   "execution_count": 10,
   "metadata": {
    "execution": {
     "iopub.execute_input": "2021-03-21T05:26:06.341100Z",
     "iopub.status.busy": "2021-03-21T05:26:06.339431Z",
     "iopub.status.idle": "2021-03-21T05:26:06.354956Z",
     "shell.execute_reply": "2021-03-21T05:26:06.354321Z"
    },
    "papermill": {
     "duration": 0.185749,
     "end_time": "2021-03-21T05:26:06.355118",
     "exception": false,
     "start_time": "2021-03-21T05:26:06.169369",
     "status": "completed"
    },
    "tags": []
   },
   "outputs": [
    {
     "data": {
      "text/html": [
       "<div>\n",
       "<style scoped>\n",
       "    .dataframe tbody tr th:only-of-type {\n",
       "        vertical-align: middle;\n",
       "    }\n",
       "\n",
       "    .dataframe tbody tr th {\n",
       "        vertical-align: top;\n",
       "    }\n",
       "\n",
       "    .dataframe thead th {\n",
       "        text-align: right;\n",
       "    }\n",
       "</style>\n",
       "<table border=\"1\" class=\"dataframe\">\n",
       "  <thead>\n",
       "    <tr style=\"text-align: right;\">\n",
       "      <th></th>\n",
       "      <th>people_id</th>\n",
       "      <th>activity_id</th>\n",
       "      <th>data_activity</th>\n",
       "      <th>activity_category</th>\n",
       "      <th>activity_type</th>\n",
       "      <th>outcome</th>\n",
       "    </tr>\n",
       "  </thead>\n",
       "  <tbody>\n",
       "    <tr>\n",
       "      <th>0</th>\n",
       "      <td>ppl_100</td>\n",
       "      <td>act2_1734928</td>\n",
       "      <td>2023-08-26</td>\n",
       "      <td>type 4</td>\n",
       "      <td>type 76</td>\n",
       "      <td>0</td>\n",
       "    </tr>\n",
       "    <tr>\n",
       "      <th>1</th>\n",
       "      <td>ppl_100</td>\n",
       "      <td>act2_2434093</td>\n",
       "      <td>2022-09-27</td>\n",
       "      <td>type 2</td>\n",
       "      <td>type 1</td>\n",
       "      <td>0</td>\n",
       "    </tr>\n",
       "    <tr>\n",
       "      <th>2</th>\n",
       "      <td>ppl_100</td>\n",
       "      <td>act2_3404049</td>\n",
       "      <td>2022-09-27</td>\n",
       "      <td>type 2</td>\n",
       "      <td>type 1</td>\n",
       "      <td>0</td>\n",
       "    </tr>\n",
       "    <tr>\n",
       "      <th>3</th>\n",
       "      <td>ppl_100</td>\n",
       "      <td>act2_3651215</td>\n",
       "      <td>2023-08-04</td>\n",
       "      <td>type 2</td>\n",
       "      <td>type 1</td>\n",
       "      <td>0</td>\n",
       "    </tr>\n",
       "    <tr>\n",
       "      <th>4</th>\n",
       "      <td>ppl_100</td>\n",
       "      <td>act2_4109017</td>\n",
       "      <td>2023-08-26</td>\n",
       "      <td>type 2</td>\n",
       "      <td>type 1</td>\n",
       "      <td>0</td>\n",
       "    </tr>\n",
       "  </tbody>\n",
       "</table>\n",
       "</div>"
      ],
      "text/plain": [
       "  people_id   activity_id data_activity activity_category activity_type  \\\n",
       "0   ppl_100  act2_1734928    2023-08-26            type 4       type 76   \n",
       "1   ppl_100  act2_2434093    2022-09-27            type 2        type 1   \n",
       "2   ppl_100  act2_3404049    2022-09-27            type 2        type 1   \n",
       "3   ppl_100  act2_3651215    2023-08-04            type 2        type 1   \n",
       "4   ppl_100  act2_4109017    2023-08-26            type 2        type 1   \n",
       "\n",
       "   outcome  \n",
       "0        0  \n",
       "1        0  \n",
       "2        0  \n",
       "3        0  \n",
       "4        0  "
      ]
     },
     "execution_count": 10,
     "metadata": {},
     "output_type": "execute_result"
    }
   ],
   "source": [
    "# Rename the columns \n",
    "\n",
    "activity = activity.rename(columns={\"date\":\"data_activity\",\"char_10\":\"activity_type\"})\n",
    "activity.head()"
   ]
  },
  {
   "cell_type": "code",
   "execution_count": 11,
   "metadata": {
    "execution": {
     "iopub.execute_input": "2021-03-21T05:26:06.418144Z",
     "iopub.status.busy": "2021-03-21T05:26:06.417450Z",
     "iopub.status.idle": "2021-03-21T05:26:07.331232Z",
     "shell.execute_reply": "2021-03-21T05:26:07.330418Z"
    },
    "papermill": {
     "duration": 0.947976,
     "end_time": "2021-03-21T05:26:07.331386",
     "exception": false,
     "start_time": "2021-03-21T05:26:06.383410",
     "status": "completed"
    },
    "tags": []
   },
   "outputs": [
    {
     "data": {
      "text/plain": [
       "(2197291, 46)"
      ]
     },
     "execution_count": 11,
     "metadata": {},
     "output_type": "execute_result"
    }
   ],
   "source": [
    "# We gonna use merge to join the dataframes\n",
    "\n",
    "all_data = activity.merge(people,on=[\"people_id\"], how=\"inner\")\n",
    "all_data.shape"
   ]
  },
  {
   "cell_type": "code",
   "execution_count": 12,
   "metadata": {
    "execution": {
     "iopub.execute_input": "2021-03-21T05:26:07.397918Z",
     "iopub.status.busy": "2021-03-21T05:26:07.397234Z",
     "iopub.status.idle": "2021-03-21T05:26:07.401655Z",
     "shell.execute_reply": "2021-03-21T05:26:07.400960Z"
    },
    "papermill": {
     "duration": 0.041081,
     "end_time": "2021-03-21T05:26:07.401827",
     "exception": false,
     "start_time": "2021-03-21T05:26:07.360746",
     "status": "completed"
    },
    "tags": []
   },
   "outputs": [
    {
     "data": {
      "text/plain": [
       "0          0\n",
       "1          0\n",
       "2          0\n",
       "3          0\n",
       "4          0\n",
       "          ..\n",
       "2197286    1\n",
       "2197287    1\n",
       "2197288    1\n",
       "2197289    1\n",
       "2197290    1\n",
       "Name: outcome, Length: 2197291, dtype: int64"
      ]
     },
     "execution_count": 12,
     "metadata": {},
     "output_type": "execute_result"
    }
   ],
   "source": [
    "# Show the target  \n",
    "\n",
    "all_data[\"outcome\"]"
   ]
  },
  {
   "cell_type": "code",
   "execution_count": 13,
   "metadata": {
    "execution": {
     "iopub.execute_input": "2021-03-21T05:26:07.467497Z",
     "iopub.status.busy": "2021-03-21T05:26:07.466574Z",
     "iopub.status.idle": "2021-03-21T05:26:07.491987Z",
     "shell.execute_reply": "2021-03-21T05:26:07.492526Z"
    },
    "papermill": {
     "duration": 0.060542,
     "end_time": "2021-03-21T05:26:07.492714",
     "exception": false,
     "start_time": "2021-03-21T05:26:07.432172",
     "status": "completed"
    },
    "tags": []
   },
   "outputs": [
    {
     "data": {
      "text/plain": [
       "0    55.60456\n",
       "1    44.39544\n",
       "Name: outcome, dtype: float64"
      ]
     },
     "execution_count": 13,
     "metadata": {},
     "output_type": "execute_result"
    }
   ],
   "source": [
    "#  Show the distribucion in the target \n",
    "\n",
    "100*all_data[\"outcome\"].value_counts()/all_data.shape[0]"
   ]
  },
  {
   "cell_type": "code",
   "execution_count": 14,
   "metadata": {
    "execution": {
     "iopub.execute_input": "2021-03-21T05:26:07.560800Z",
     "iopub.status.busy": "2021-03-21T05:26:07.560149Z",
     "iopub.status.idle": "2021-03-21T05:26:07.564414Z",
     "shell.execute_reply": "2021-03-21T05:26:07.563760Z"
    },
    "papermill": {
     "duration": 0.041958,
     "end_time": "2021-03-21T05:26:07.564564",
     "exception": false,
     "start_time": "2021-03-21T05:26:07.522606",
     "status": "completed"
    },
    "tags": []
   },
   "outputs": [
    {
     "name": "stdout",
     "output_type": "stream",
     "text": [
      "Types of variables:  0\n",
      "bool      28\n",
      "int64      2\n",
      "object    16\n",
      "dtype: int64\n"
     ]
    }
   ],
   "source": [
    "# Show the type of variable \n",
    "\n",
    "types = pd.DataFrame(all_data.dtypes)\n",
    "print(\"Types of variables: \", types.groupby(0).size())\n",
    "\n",
    "# We have to convert float to int "
   ]
  },
  {
   "cell_type": "code",
   "execution_count": 15,
   "metadata": {
    "execution": {
     "iopub.execute_input": "2021-03-21T05:26:07.630420Z",
     "iopub.status.busy": "2021-03-21T05:26:07.629724Z",
     "iopub.status.idle": "2021-03-21T05:26:26.096368Z",
     "shell.execute_reply": "2021-03-21T05:26:26.095804Z"
    },
    "papermill": {
     "duration": 18.501498,
     "end_time": "2021-03-21T05:26:26.096524",
     "exception": false,
     "start_time": "2021-03-21T05:26:07.595026",
     "status": "completed"
    },
    "tags": []
   },
   "outputs": [],
   "source": [
    "all_data = all_data.replace({False: 0, True: 1})"
   ]
  },
  {
   "cell_type": "code",
   "execution_count": 16,
   "metadata": {
    "execution": {
     "iopub.execute_input": "2021-03-21T05:26:26.171321Z",
     "iopub.status.busy": "2021-03-21T05:26:26.170539Z",
     "iopub.status.idle": "2021-03-21T05:26:26.174557Z",
     "shell.execute_reply": "2021-03-21T05:26:26.174021Z"
    },
    "papermill": {
     "duration": 0.043517,
     "end_time": "2021-03-21T05:26:26.174701",
     "exception": false,
     "start_time": "2021-03-21T05:26:26.131184",
     "status": "completed"
    },
    "tags": []
   },
   "outputs": [
    {
     "name": "stdout",
     "output_type": "stream",
     "text": [
      "Types of variables replace:  0\n",
      "int64     30\n",
      "object    16\n",
      "dtype: int64\n"
     ]
    }
   ],
   "source": [
    "# Is ready\n",
    "\n",
    "types = pd.DataFrame(all_data.dtypes)\n",
    "print(\"Types of variables replace: \", types.groupby(0).size()) "
   ]
  },
  {
   "cell_type": "code",
   "execution_count": 17,
   "metadata": {
    "execution": {
     "iopub.execute_input": "2021-03-21T05:26:26.469773Z",
     "iopub.status.busy": "2021-03-21T05:26:26.468306Z",
     "iopub.status.idle": "2021-03-21T05:26:28.134016Z",
     "shell.execute_reply": "2021-03-21T05:26:28.133365Z"
    },
    "papermill": {
     "duration": 1.928602,
     "end_time": "2021-03-21T05:26:28.134177",
     "exception": false,
     "start_time": "2021-03-21T05:26:26.205575",
     "status": "completed"
    },
    "tags": []
   },
   "outputs": [
    {
     "name": "stdout",
     "output_type": "stream",
     "text": [
      "Second replace:  0\n",
      "int64     31\n",
      "object    15\n",
      "dtype: int64\n"
     ]
    }
   ],
   "source": [
    "# We gonna apply one second replace, As the identifier people_id it consists of a prefix \"ppl_\" followed by a unique number per user. \n",
    "# In this case, it is enough to cut the prefix to transform this variable into a numeric one.\n",
    "\n",
    "all_data.people_id = all_data.people_id.str.slice(start=4).astype(float).astype(int)\n",
    "\n",
    "types = pd.DataFrame(all_data.dtypes)\n",
    "print(\"Second replace: \",types.groupby(0).size())"
   ]
  },
  {
   "cell_type": "code",
   "execution_count": 18,
   "metadata": {
    "execution": {
     "iopub.execute_input": "2021-03-21T05:26:28.204323Z",
     "iopub.status.busy": "2021-03-21T05:26:28.202919Z",
     "iopub.status.idle": "2021-03-21T05:26:28.642262Z",
     "shell.execute_reply": "2021-03-21T05:26:28.641609Z"
    },
    "papermill": {
     "duration": 0.476985,
     "end_time": "2021-03-21T05:26:28.642404",
     "exception": false,
     "start_time": "2021-03-21T05:26:28.165419",
     "status": "completed"
    },
    "tags": []
   },
   "outputs": [
    {
     "data": {
      "text/html": [
       "<div>\n",
       "<style scoped>\n",
       "    .dataframe tbody tr th:only-of-type {\n",
       "        vertical-align: middle;\n",
       "    }\n",
       "\n",
       "    .dataframe tbody tr th {\n",
       "        vertical-align: top;\n",
       "    }\n",
       "\n",
       "    .dataframe thead th {\n",
       "        text-align: right;\n",
       "    }\n",
       "</style>\n",
       "<table border=\"1\" class=\"dataframe\">\n",
       "  <thead>\n",
       "    <tr style=\"text-align: right;\">\n",
       "      <th></th>\n",
       "      <th>activity_id</th>\n",
       "      <th>activity_category</th>\n",
       "      <th>group_1</th>\n",
       "      <th>activity_type</th>\n",
       "    </tr>\n",
       "  </thead>\n",
       "  <tbody>\n",
       "    <tr>\n",
       "      <th>0</th>\n",
       "      <td>act2_1734928</td>\n",
       "      <td>type 4</td>\n",
       "      <td>group 17304</td>\n",
       "      <td>type 76</td>\n",
       "    </tr>\n",
       "    <tr>\n",
       "      <th>1</th>\n",
       "      <td>act2_2434093</td>\n",
       "      <td>type 2</td>\n",
       "      <td>group 17304</td>\n",
       "      <td>type 1</td>\n",
       "    </tr>\n",
       "    <tr>\n",
       "      <th>2</th>\n",
       "      <td>act2_3404049</td>\n",
       "      <td>type 2</td>\n",
       "      <td>group 17304</td>\n",
       "      <td>type 1</td>\n",
       "    </tr>\n",
       "  </tbody>\n",
       "</table>\n",
       "</div>"
      ],
      "text/plain": [
       "    activity_id activity_category      group_1 activity_type\n",
       "0  act2_1734928            type 4  group 17304       type 76\n",
       "1  act2_2434093            type 2  group 17304        type 1\n",
       "2  act2_3404049            type 2  group 17304        type 1"
      ]
     },
     "execution_count": 18,
     "metadata": {},
     "output_type": "execute_result"
    }
   ],
   "source": [
    "all_data[[\"activity_id\", \"activity_category\", \"group_1\", \"activity_type\"]].head(3)"
   ]
  },
  {
   "cell_type": "code",
   "execution_count": 19,
   "metadata": {
    "execution": {
     "iopub.execute_input": "2021-03-21T05:26:29.020588Z",
     "iopub.status.busy": "2021-03-21T05:26:29.018801Z",
     "iopub.status.idle": "2021-03-21T05:26:35.832898Z",
     "shell.execute_reply": "2021-03-21T05:26:35.832356Z"
    },
    "papermill": {
     "duration": 7.158877,
     "end_time": "2021-03-21T05:26:35.833049",
     "exception": false,
     "start_time": "2021-03-21T05:26:28.674172",
     "status": "completed"
    },
    "tags": []
   },
   "outputs": [
    {
     "name": "stdout",
     "output_type": "stream",
     "text": [
      "Thith 0\n",
      "int64     35\n",
      "object    11\n",
      "dtype: int64\n"
     ]
    }
   ],
   "source": [
    "# And We have to do the same for those variables \n",
    "\n",
    "all_data.activity_id = all_data.activity_id.str.slice(start=5).astype(float).astype(int)\n",
    "all_data.activity_category = all_data.activity_category.str.slice(start=5).astype(float).astype(int)\n",
    "all_data.group_1 = all_data.group_1.str.slice(start=6).astype(float).astype(int)\n",
    "all_data.activity_type = all_data.activity_type.str.slice(start=5).astype(float).astype(int)\n",
    "\n",
    "types = pd.DataFrame(all_data.dtypes)\n",
    "print(\"Thith\",types.groupby(0).size()) "
   ]
  },
  {
   "cell_type": "code",
   "execution_count": 20,
   "metadata": {
    "execution": {
     "iopub.execute_input": "2021-03-21T05:26:35.923064Z",
     "iopub.status.busy": "2021-03-21T05:26:35.922233Z",
     "iopub.status.idle": "2021-03-21T05:26:35.925659Z",
     "shell.execute_reply": "2021-03-21T05:26:35.926179Z"
    },
    "papermill": {
     "duration": 0.0591,
     "end_time": "2021-03-21T05:26:35.926353",
     "exception": false,
     "start_time": "2021-03-21T05:26:35.867253",
     "status": "completed"
    },
    "tags": []
   },
   "outputs": [
    {
     "data": {
      "text/html": [
       "<div>\n",
       "<style scoped>\n",
       "    .dataframe tbody tr th:only-of-type {\n",
       "        vertical-align: middle;\n",
       "    }\n",
       "\n",
       "    .dataframe tbody tr th {\n",
       "        vertical-align: top;\n",
       "    }\n",
       "\n",
       "    .dataframe thead th {\n",
       "        text-align: right;\n",
       "    }\n",
       "</style>\n",
       "<table border=\"1\" class=\"dataframe\">\n",
       "  <thead>\n",
       "    <tr style=\"text-align: right;\">\n",
       "      <th></th>\n",
       "      <th>people_id</th>\n",
       "      <th>activity_id</th>\n",
       "      <th>data_activity</th>\n",
       "      <th>activity_category</th>\n",
       "      <th>activity_type</th>\n",
       "      <th>outcome</th>\n",
       "      <th>char_1</th>\n",
       "      <th>group_1</th>\n",
       "      <th>char_2</th>\n",
       "      <th>date</th>\n",
       "      <th>...</th>\n",
       "      <th>char_29</th>\n",
       "      <th>char_30</th>\n",
       "      <th>char_31</th>\n",
       "      <th>char_32</th>\n",
       "      <th>char_33</th>\n",
       "      <th>char_34</th>\n",
       "      <th>char_35</th>\n",
       "      <th>char_36</th>\n",
       "      <th>char_37</th>\n",
       "      <th>char_38</th>\n",
       "    </tr>\n",
       "  </thead>\n",
       "  <tbody>\n",
       "    <tr>\n",
       "      <th>0</th>\n",
       "      <td>100</td>\n",
       "      <td>1734928</td>\n",
       "      <td>2023-08-26</td>\n",
       "      <td>4</td>\n",
       "      <td>76</td>\n",
       "      <td>0</td>\n",
       "      <td>type 2</td>\n",
       "      <td>17304</td>\n",
       "      <td>type 2</td>\n",
       "      <td>2021-06-29</td>\n",
       "      <td>...</td>\n",
       "      <td>0</td>\n",
       "      <td>1</td>\n",
       "      <td>1</td>\n",
       "      <td>0</td>\n",
       "      <td>0</td>\n",
       "      <td>1</td>\n",
       "      <td>1</td>\n",
       "      <td>1</td>\n",
       "      <td>0</td>\n",
       "      <td>36</td>\n",
       "    </tr>\n",
       "    <tr>\n",
       "      <th>1</th>\n",
       "      <td>100</td>\n",
       "      <td>2434093</td>\n",
       "      <td>2022-09-27</td>\n",
       "      <td>2</td>\n",
       "      <td>1</td>\n",
       "      <td>0</td>\n",
       "      <td>type 2</td>\n",
       "      <td>17304</td>\n",
       "      <td>type 2</td>\n",
       "      <td>2021-06-29</td>\n",
       "      <td>...</td>\n",
       "      <td>0</td>\n",
       "      <td>1</td>\n",
       "      <td>1</td>\n",
       "      <td>0</td>\n",
       "      <td>0</td>\n",
       "      <td>1</td>\n",
       "      <td>1</td>\n",
       "      <td>1</td>\n",
       "      <td>0</td>\n",
       "      <td>36</td>\n",
       "    </tr>\n",
       "    <tr>\n",
       "      <th>2</th>\n",
       "      <td>100</td>\n",
       "      <td>3404049</td>\n",
       "      <td>2022-09-27</td>\n",
       "      <td>2</td>\n",
       "      <td>1</td>\n",
       "      <td>0</td>\n",
       "      <td>type 2</td>\n",
       "      <td>17304</td>\n",
       "      <td>type 2</td>\n",
       "      <td>2021-06-29</td>\n",
       "      <td>...</td>\n",
       "      <td>0</td>\n",
       "      <td>1</td>\n",
       "      <td>1</td>\n",
       "      <td>0</td>\n",
       "      <td>0</td>\n",
       "      <td>1</td>\n",
       "      <td>1</td>\n",
       "      <td>1</td>\n",
       "      <td>0</td>\n",
       "      <td>36</td>\n",
       "    </tr>\n",
       "    <tr>\n",
       "      <th>3</th>\n",
       "      <td>100</td>\n",
       "      <td>3651215</td>\n",
       "      <td>2023-08-04</td>\n",
       "      <td>2</td>\n",
       "      <td>1</td>\n",
       "      <td>0</td>\n",
       "      <td>type 2</td>\n",
       "      <td>17304</td>\n",
       "      <td>type 2</td>\n",
       "      <td>2021-06-29</td>\n",
       "      <td>...</td>\n",
       "      <td>0</td>\n",
       "      <td>1</td>\n",
       "      <td>1</td>\n",
       "      <td>0</td>\n",
       "      <td>0</td>\n",
       "      <td>1</td>\n",
       "      <td>1</td>\n",
       "      <td>1</td>\n",
       "      <td>0</td>\n",
       "      <td>36</td>\n",
       "    </tr>\n",
       "    <tr>\n",
       "      <th>4</th>\n",
       "      <td>100</td>\n",
       "      <td>4109017</td>\n",
       "      <td>2023-08-26</td>\n",
       "      <td>2</td>\n",
       "      <td>1</td>\n",
       "      <td>0</td>\n",
       "      <td>type 2</td>\n",
       "      <td>17304</td>\n",
       "      <td>type 2</td>\n",
       "      <td>2021-06-29</td>\n",
       "      <td>...</td>\n",
       "      <td>0</td>\n",
       "      <td>1</td>\n",
       "      <td>1</td>\n",
       "      <td>0</td>\n",
       "      <td>0</td>\n",
       "      <td>1</td>\n",
       "      <td>1</td>\n",
       "      <td>1</td>\n",
       "      <td>0</td>\n",
       "      <td>36</td>\n",
       "    </tr>\n",
       "  </tbody>\n",
       "</table>\n",
       "<p>5 rows × 46 columns</p>\n",
       "</div>"
      ],
      "text/plain": [
       "   people_id  activity_id data_activity  activity_category  activity_type  \\\n",
       "0        100      1734928    2023-08-26                  4             76   \n",
       "1        100      2434093    2022-09-27                  2              1   \n",
       "2        100      3404049    2022-09-27                  2              1   \n",
       "3        100      3651215    2023-08-04                  2              1   \n",
       "4        100      4109017    2023-08-26                  2              1   \n",
       "\n",
       "   outcome  char_1  group_1  char_2        date  ... char_29 char_30 char_31  \\\n",
       "0        0  type 2    17304  type 2  2021-06-29  ...       0       1       1   \n",
       "1        0  type 2    17304  type 2  2021-06-29  ...       0       1       1   \n",
       "2        0  type 2    17304  type 2  2021-06-29  ...       0       1       1   \n",
       "3        0  type 2    17304  type 2  2021-06-29  ...       0       1       1   \n",
       "4        0  type 2    17304  type 2  2021-06-29  ...       0       1       1   \n",
       "\n",
       "  char_32 char_33 char_34 char_35  char_36  char_37  char_38  \n",
       "0       0       0       1       1        1        0       36  \n",
       "1       0       0       1       1        1        0       36  \n",
       "2       0       0       1       1        1        0       36  \n",
       "3       0       0       1       1        1        0       36  \n",
       "4       0       0       1       1        1        0       36  \n",
       "\n",
       "[5 rows x 46 columns]"
      ]
     },
     "execution_count": 20,
     "metadata": {},
     "output_type": "execute_result"
    }
   ],
   "source": [
    "all_data.head()"
   ]
  },
  {
   "cell_type": "code",
   "execution_count": 21,
   "metadata": {
    "execution": {
     "iopub.execute_input": "2021-03-21T05:26:35.997227Z",
     "iopub.status.busy": "2021-03-21T05:26:35.996556Z",
     "iopub.status.idle": "2021-03-21T05:26:37.749132Z",
     "shell.execute_reply": "2021-03-21T05:26:37.748149Z"
    },
    "papermill": {
     "duration": 1.78881,
     "end_time": "2021-03-21T05:26:37.749288",
     "exception": false,
     "start_time": "2021-03-21T05:26:35.960478",
     "status": "completed"
    },
    "tags": []
   },
   "outputs": [
    {
     "name": "stdout",
     "output_type": "stream",
     "text": [
      "The variable data_activitycontine:  411 distinct values\n",
      "The variable char_1contine:  2 distinct values\n",
      "The variable char_2contine:  3 distinct values\n",
      "The variable datecontine:  1196 distinct values\n",
      "The variable char_3contine:  43 distinct values\n",
      "The variable char_4contine:  25 distinct values\n",
      "The variable char_5contine:  9 distinct values\n",
      "The variable char_6contine:  7 distinct values\n",
      "The variable char_7contine:  25 distinct values\n",
      "The variable char_8contine:  8 distinct values\n",
      "The variable char_9contine:  9 distinct values\n"
     ]
    }
   ],
   "source": [
    "# We are going to evaluate the number of different variables\n",
    "\n",
    "categorics = types.index[types[0] == 'O'].values \n",
    "for line in categorics:\n",
    "    print(\"The variable \"+ line +\"contine: \", str(len(all_data[line].unique()))+\" distinct values\")"
   ]
  },
  {
   "cell_type": "code",
   "execution_count": 22,
   "metadata": {
    "execution": {
     "iopub.execute_input": "2021-03-21T05:26:37.826191Z",
     "iopub.status.busy": "2021-03-21T05:26:37.825560Z",
     "iopub.status.idle": "2021-03-21T05:26:37.845646Z",
     "shell.execute_reply": "2021-03-21T05:26:37.846189Z"
    },
    "papermill": {
     "duration": 0.062257,
     "end_time": "2021-03-21T05:26:37.846389",
     "exception": false,
     "start_time": "2021-03-21T05:26:37.784132",
     "status": "completed"
    },
    "tags": []
   },
   "outputs": [
    {
     "data": {
      "text/html": [
       "<div>\n",
       "<style scoped>\n",
       "    .dataframe tbody tr th:only-of-type {\n",
       "        vertical-align: middle;\n",
       "    }\n",
       "\n",
       "    .dataframe tbody tr th {\n",
       "        vertical-align: top;\n",
       "    }\n",
       "\n",
       "    .dataframe thead th {\n",
       "        text-align: right;\n",
       "    }\n",
       "</style>\n",
       "<table border=\"1\" class=\"dataframe\">\n",
       "  <thead>\n",
       "    <tr style=\"text-align: right;\">\n",
       "      <th></th>\n",
       "      <th>people_id</th>\n",
       "      <th>activity_id</th>\n",
       "      <th>data_activity</th>\n",
       "      <th>activity_category</th>\n",
       "      <th>activity_type</th>\n",
       "      <th>outcome</th>\n",
       "      <th>char_1</th>\n",
       "      <th>group_1</th>\n",
       "      <th>char_2</th>\n",
       "      <th>date</th>\n",
       "      <th>...</th>\n",
       "      <th>char_29</th>\n",
       "      <th>char_30</th>\n",
       "      <th>char_31</th>\n",
       "      <th>char_32</th>\n",
       "      <th>char_33</th>\n",
       "      <th>char_34</th>\n",
       "      <th>char_35</th>\n",
       "      <th>char_36</th>\n",
       "      <th>char_37</th>\n",
       "      <th>char_38</th>\n",
       "    </tr>\n",
       "  </thead>\n",
       "  <tbody>\n",
       "    <tr>\n",
       "      <th>0</th>\n",
       "      <td>100</td>\n",
       "      <td>1734928</td>\n",
       "      <td>2023-08-26</td>\n",
       "      <td>4</td>\n",
       "      <td>76</td>\n",
       "      <td>0</td>\n",
       "      <td>type 2</td>\n",
       "      <td>17304</td>\n",
       "      <td>type 2</td>\n",
       "      <td>2021-06-29</td>\n",
       "      <td>...</td>\n",
       "      <td>0</td>\n",
       "      <td>1</td>\n",
       "      <td>1</td>\n",
       "      <td>0</td>\n",
       "      <td>0</td>\n",
       "      <td>1</td>\n",
       "      <td>1</td>\n",
       "      <td>1</td>\n",
       "      <td>0</td>\n",
       "      <td>36</td>\n",
       "    </tr>\n",
       "    <tr>\n",
       "      <th>1</th>\n",
       "      <td>100</td>\n",
       "      <td>2434093</td>\n",
       "      <td>2022-09-27</td>\n",
       "      <td>2</td>\n",
       "      <td>1</td>\n",
       "      <td>0</td>\n",
       "      <td>type 2</td>\n",
       "      <td>17304</td>\n",
       "      <td>type 2</td>\n",
       "      <td>2021-06-29</td>\n",
       "      <td>...</td>\n",
       "      <td>0</td>\n",
       "      <td>1</td>\n",
       "      <td>1</td>\n",
       "      <td>0</td>\n",
       "      <td>0</td>\n",
       "      <td>1</td>\n",
       "      <td>1</td>\n",
       "      <td>1</td>\n",
       "      <td>0</td>\n",
       "      <td>36</td>\n",
       "    </tr>\n",
       "    <tr>\n",
       "      <th>2</th>\n",
       "      <td>100</td>\n",
       "      <td>3404049</td>\n",
       "      <td>2022-09-27</td>\n",
       "      <td>2</td>\n",
       "      <td>1</td>\n",
       "      <td>0</td>\n",
       "      <td>type 2</td>\n",
       "      <td>17304</td>\n",
       "      <td>type 2</td>\n",
       "      <td>2021-06-29</td>\n",
       "      <td>...</td>\n",
       "      <td>0</td>\n",
       "      <td>1</td>\n",
       "      <td>1</td>\n",
       "      <td>0</td>\n",
       "      <td>0</td>\n",
       "      <td>1</td>\n",
       "      <td>1</td>\n",
       "      <td>1</td>\n",
       "      <td>0</td>\n",
       "      <td>36</td>\n",
       "    </tr>\n",
       "    <tr>\n",
       "      <th>3</th>\n",
       "      <td>100</td>\n",
       "      <td>3651215</td>\n",
       "      <td>2023-08-04</td>\n",
       "      <td>2</td>\n",
       "      <td>1</td>\n",
       "      <td>0</td>\n",
       "      <td>type 2</td>\n",
       "      <td>17304</td>\n",
       "      <td>type 2</td>\n",
       "      <td>2021-06-29</td>\n",
       "      <td>...</td>\n",
       "      <td>0</td>\n",
       "      <td>1</td>\n",
       "      <td>1</td>\n",
       "      <td>0</td>\n",
       "      <td>0</td>\n",
       "      <td>1</td>\n",
       "      <td>1</td>\n",
       "      <td>1</td>\n",
       "      <td>0</td>\n",
       "      <td>36</td>\n",
       "    </tr>\n",
       "    <tr>\n",
       "      <th>4</th>\n",
       "      <td>100</td>\n",
       "      <td>4109017</td>\n",
       "      <td>2023-08-26</td>\n",
       "      <td>2</td>\n",
       "      <td>1</td>\n",
       "      <td>0</td>\n",
       "      <td>type 2</td>\n",
       "      <td>17304</td>\n",
       "      <td>type 2</td>\n",
       "      <td>2021-06-29</td>\n",
       "      <td>...</td>\n",
       "      <td>0</td>\n",
       "      <td>1</td>\n",
       "      <td>1</td>\n",
       "      <td>0</td>\n",
       "      <td>0</td>\n",
       "      <td>1</td>\n",
       "      <td>1</td>\n",
       "      <td>1</td>\n",
       "      <td>0</td>\n",
       "      <td>36</td>\n",
       "    </tr>\n",
       "  </tbody>\n",
       "</table>\n",
       "<p>5 rows × 46 columns</p>\n",
       "</div>"
      ],
      "text/plain": [
       "   people_id  activity_id data_activity  activity_category  activity_type  \\\n",
       "0        100      1734928    2023-08-26                  4             76   \n",
       "1        100      2434093    2022-09-27                  2              1   \n",
       "2        100      3404049    2022-09-27                  2              1   \n",
       "3        100      3651215    2023-08-04                  2              1   \n",
       "4        100      4109017    2023-08-26                  2              1   \n",
       "\n",
       "   outcome  char_1  group_1  char_2        date  ... char_29 char_30 char_31  \\\n",
       "0        0  type 2    17304  type 2  2021-06-29  ...       0       1       1   \n",
       "1        0  type 2    17304  type 2  2021-06-29  ...       0       1       1   \n",
       "2        0  type 2    17304  type 2  2021-06-29  ...       0       1       1   \n",
       "3        0  type 2    17304  type 2  2021-06-29  ...       0       1       1   \n",
       "4        0  type 2    17304  type 2  2021-06-29  ...       0       1       1   \n",
       "\n",
       "  char_32 char_33 char_34 char_35  char_36  char_37  char_38  \n",
       "0       0       0       1       1        1        0       36  \n",
       "1       0       0       1       1        1        0       36  \n",
       "2       0       0       1       1        1        0       36  \n",
       "3       0       0       1       1        1        0       36  \n",
       "4       0       0       1       1        1        0       36  \n",
       "\n",
       "[5 rows x 46 columns]"
      ]
     },
     "execution_count": 22,
     "metadata": {},
     "output_type": "execute_result"
    }
   ],
   "source": [
    "all_data.head()"
   ]
  },
  {
   "cell_type": "code",
   "execution_count": 23,
   "metadata": {
    "execution": {
     "iopub.execute_input": "2021-03-21T05:26:37.922855Z",
     "iopub.status.busy": "2021-03-21T05:26:37.922235Z",
     "iopub.status.idle": "2021-03-21T05:26:37.929161Z",
     "shell.execute_reply": "2021-03-21T05:26:37.929683Z"
    },
    "papermill": {
     "duration": 0.047058,
     "end_time": "2021-03-21T05:26:37.929851",
     "exception": false,
     "start_time": "2021-03-21T05:26:37.882793",
     "status": "completed"
    },
    "tags": []
   },
   "outputs": [
    {
     "data": {
      "text/plain": [
       "0          2021-06-29\n",
       "1          2021-06-29\n",
       "2          2021-06-29\n",
       "3          2021-06-29\n",
       "4          2021-06-29\n",
       "              ...    \n",
       "2197286    2023-01-06\n",
       "2197287    2023-01-06\n",
       "2197288    2023-01-06\n",
       "2197289    2023-01-06\n",
       "2197290    2023-01-06\n",
       "Name: date, Length: 2197291, dtype: object"
      ]
     },
     "execution_count": 23,
     "metadata": {},
     "output_type": "execute_result"
    }
   ],
   "source": [
    "all_data.date"
   ]
  },
  {
   "cell_type": "code",
   "execution_count": 24,
   "metadata": {
    "execution": {
     "iopub.execute_input": "2021-03-21T05:26:38.006197Z",
     "iopub.status.busy": "2021-03-21T05:26:38.005508Z",
     "iopub.status.idle": "2021-03-21T05:26:40.286932Z",
     "shell.execute_reply": "2021-03-21T05:26:40.287488Z"
    },
    "papermill": {
     "duration": 2.321546,
     "end_time": "2021-03-21T05:26:40.287670",
     "exception": false,
     "start_time": "2021-03-21T05:26:37.966124",
     "status": "completed"
    },
    "tags": []
   },
   "outputs": [
    {
     "name": "stderr",
     "output_type": "stream",
     "text": [
      "/opt/conda/lib/python3.7/site-packages/ipykernel_launcher.py:9: FutureWarning: Series.dt.weekofyear and Series.dt.week have been deprecated.  Please use Series.dt.isocalendar().week instead.\n",
      "  if __name__ == '__main__':\n"
     ]
    }
   ],
   "source": [
    "# We gonna create stationary variables\n",
    "\n",
    "# convert the object variable to datetime \n",
    "all_data[\"date\"] = pd.to_datetime(all_data[\"date\"])\n",
    "\n",
    "# Create new variables \n",
    "all_data[\"day\"] = all_data[\"date\"].dt.day\n",
    "all_data[\"day_of_week\"] = all_data[\"date\"].dt.weekday\n",
    "all_data[\"week\"] = all_data[\"date\"].dt.week\n",
    "all_data[\"month\"] = all_data[\"date\"].dt.month\n",
    "all_data[\"trimester\"] = all_data[\"date\"].dt.quarter\n",
    "all_data[\"year\"] = all_data[\"date\"].dt.year"
   ]
  },
  {
   "cell_type": "code",
   "execution_count": 25,
   "metadata": {
    "execution": {
     "iopub.execute_input": "2021-03-21T05:26:40.386764Z",
     "iopub.status.busy": "2021-03-21T05:26:40.370878Z",
     "iopub.status.idle": "2021-03-21T05:26:40.391173Z",
     "shell.execute_reply": "2021-03-21T05:26:40.390607Z"
    },
    "papermill": {
     "duration": 0.067156,
     "end_time": "2021-03-21T05:26:40.391332",
     "exception": false,
     "start_time": "2021-03-21T05:26:40.324176",
     "status": "completed"
    },
    "tags": []
   },
   "outputs": [
    {
     "data": {
      "text/html": [
       "<div>\n",
       "<style scoped>\n",
       "    .dataframe tbody tr th:only-of-type {\n",
       "        vertical-align: middle;\n",
       "    }\n",
       "\n",
       "    .dataframe tbody tr th {\n",
       "        vertical-align: top;\n",
       "    }\n",
       "\n",
       "    .dataframe thead th {\n",
       "        text-align: right;\n",
       "    }\n",
       "</style>\n",
       "<table border=\"1\" class=\"dataframe\">\n",
       "  <thead>\n",
       "    <tr style=\"text-align: right;\">\n",
       "      <th></th>\n",
       "      <th>people_id</th>\n",
       "      <th>activity_id</th>\n",
       "      <th>data_activity</th>\n",
       "      <th>activity_category</th>\n",
       "      <th>activity_type</th>\n",
       "      <th>outcome</th>\n",
       "      <th>char_1</th>\n",
       "      <th>group_1</th>\n",
       "      <th>char_2</th>\n",
       "      <th>date</th>\n",
       "      <th>...</th>\n",
       "      <th>char_35</th>\n",
       "      <th>char_36</th>\n",
       "      <th>char_37</th>\n",
       "      <th>char_38</th>\n",
       "      <th>day</th>\n",
       "      <th>day_of_week</th>\n",
       "      <th>week</th>\n",
       "      <th>month</th>\n",
       "      <th>trimester</th>\n",
       "      <th>year</th>\n",
       "    </tr>\n",
       "  </thead>\n",
       "  <tbody>\n",
       "    <tr>\n",
       "      <th>0</th>\n",
       "      <td>100</td>\n",
       "      <td>1734928</td>\n",
       "      <td>2023-08-26</td>\n",
       "      <td>4</td>\n",
       "      <td>76</td>\n",
       "      <td>0</td>\n",
       "      <td>type 2</td>\n",
       "      <td>17304</td>\n",
       "      <td>type 2</td>\n",
       "      <td>2021-06-29</td>\n",
       "      <td>...</td>\n",
       "      <td>1</td>\n",
       "      <td>1</td>\n",
       "      <td>0</td>\n",
       "      <td>36</td>\n",
       "      <td>29</td>\n",
       "      <td>1</td>\n",
       "      <td>26</td>\n",
       "      <td>6</td>\n",
       "      <td>2</td>\n",
       "      <td>2021</td>\n",
       "    </tr>\n",
       "    <tr>\n",
       "      <th>1</th>\n",
       "      <td>100</td>\n",
       "      <td>2434093</td>\n",
       "      <td>2022-09-27</td>\n",
       "      <td>2</td>\n",
       "      <td>1</td>\n",
       "      <td>0</td>\n",
       "      <td>type 2</td>\n",
       "      <td>17304</td>\n",
       "      <td>type 2</td>\n",
       "      <td>2021-06-29</td>\n",
       "      <td>...</td>\n",
       "      <td>1</td>\n",
       "      <td>1</td>\n",
       "      <td>0</td>\n",
       "      <td>36</td>\n",
       "      <td>29</td>\n",
       "      <td>1</td>\n",
       "      <td>26</td>\n",
       "      <td>6</td>\n",
       "      <td>2</td>\n",
       "      <td>2021</td>\n",
       "    </tr>\n",
       "    <tr>\n",
       "      <th>2</th>\n",
       "      <td>100</td>\n",
       "      <td>3404049</td>\n",
       "      <td>2022-09-27</td>\n",
       "      <td>2</td>\n",
       "      <td>1</td>\n",
       "      <td>0</td>\n",
       "      <td>type 2</td>\n",
       "      <td>17304</td>\n",
       "      <td>type 2</td>\n",
       "      <td>2021-06-29</td>\n",
       "      <td>...</td>\n",
       "      <td>1</td>\n",
       "      <td>1</td>\n",
       "      <td>0</td>\n",
       "      <td>36</td>\n",
       "      <td>29</td>\n",
       "      <td>1</td>\n",
       "      <td>26</td>\n",
       "      <td>6</td>\n",
       "      <td>2</td>\n",
       "      <td>2021</td>\n",
       "    </tr>\n",
       "    <tr>\n",
       "      <th>3</th>\n",
       "      <td>100</td>\n",
       "      <td>3651215</td>\n",
       "      <td>2023-08-04</td>\n",
       "      <td>2</td>\n",
       "      <td>1</td>\n",
       "      <td>0</td>\n",
       "      <td>type 2</td>\n",
       "      <td>17304</td>\n",
       "      <td>type 2</td>\n",
       "      <td>2021-06-29</td>\n",
       "      <td>...</td>\n",
       "      <td>1</td>\n",
       "      <td>1</td>\n",
       "      <td>0</td>\n",
       "      <td>36</td>\n",
       "      <td>29</td>\n",
       "      <td>1</td>\n",
       "      <td>26</td>\n",
       "      <td>6</td>\n",
       "      <td>2</td>\n",
       "      <td>2021</td>\n",
       "    </tr>\n",
       "    <tr>\n",
       "      <th>4</th>\n",
       "      <td>100</td>\n",
       "      <td>4109017</td>\n",
       "      <td>2023-08-26</td>\n",
       "      <td>2</td>\n",
       "      <td>1</td>\n",
       "      <td>0</td>\n",
       "      <td>type 2</td>\n",
       "      <td>17304</td>\n",
       "      <td>type 2</td>\n",
       "      <td>2021-06-29</td>\n",
       "      <td>...</td>\n",
       "      <td>1</td>\n",
       "      <td>1</td>\n",
       "      <td>0</td>\n",
       "      <td>36</td>\n",
       "      <td>29</td>\n",
       "      <td>1</td>\n",
       "      <td>26</td>\n",
       "      <td>6</td>\n",
       "      <td>2</td>\n",
       "      <td>2021</td>\n",
       "    </tr>\n",
       "  </tbody>\n",
       "</table>\n",
       "<p>5 rows × 52 columns</p>\n",
       "</div>"
      ],
      "text/plain": [
       "   people_id  activity_id data_activity  activity_category  activity_type  \\\n",
       "0        100      1734928    2023-08-26                  4             76   \n",
       "1        100      2434093    2022-09-27                  2              1   \n",
       "2        100      3404049    2022-09-27                  2              1   \n",
       "3        100      3651215    2023-08-04                  2              1   \n",
       "4        100      4109017    2023-08-26                  2              1   \n",
       "\n",
       "   outcome  char_1  group_1  char_2       date  ... char_35 char_36 char_37  \\\n",
       "0        0  type 2    17304  type 2 2021-06-29  ...       1       1       0   \n",
       "1        0  type 2    17304  type 2 2021-06-29  ...       1       1       0   \n",
       "2        0  type 2    17304  type 2 2021-06-29  ...       1       1       0   \n",
       "3        0  type 2    17304  type 2 2021-06-29  ...       1       1       0   \n",
       "4        0  type 2    17304  type 2 2021-06-29  ...       1       1       0   \n",
       "\n",
       "  char_38 day day_of_week week  month  trimester  year  \n",
       "0      36  29           1   26      6          2  2021  \n",
       "1      36  29           1   26      6          2  2021  \n",
       "2      36  29           1   26      6          2  2021  \n",
       "3      36  29           1   26      6          2  2021  \n",
       "4      36  29           1   26      6          2  2021  \n",
       "\n",
       "[5 rows x 52 columns]"
      ]
     },
     "execution_count": 25,
     "metadata": {},
     "output_type": "execute_result"
    }
   ],
   "source": [
    "all_data.head()"
   ]
  },
  {
   "cell_type": "code",
   "execution_count": 26,
   "metadata": {
    "execution": {
     "iopub.execute_input": "2021-03-21T05:26:40.469772Z",
     "iopub.status.busy": "2021-03-21T05:26:40.469109Z",
     "iopub.status.idle": "2021-03-21T05:26:42.670131Z",
     "shell.execute_reply": "2021-03-21T05:26:42.669416Z"
    },
    "papermill": {
     "duration": 2.241233,
     "end_time": "2021-03-21T05:26:42.670278",
     "exception": false,
     "start_time": "2021-03-21T05:26:40.429045",
     "status": "completed"
    },
    "tags": []
   },
   "outputs": [
    {
     "name": "stderr",
     "output_type": "stream",
     "text": [
      "/opt/conda/lib/python3.7/site-packages/ipykernel_launcher.py:6: FutureWarning: Series.dt.weekofyear and Series.dt.week have been deprecated.  Please use Series.dt.isocalendar().week instead.\n",
      "  \n"
     ]
    }
   ],
   "source": [
    "# Repet the same but with data_activity\n",
    "\n",
    "all_data[\"data_activity\"] = pd.to_datetime(all_data[\"data_activity\"])\n",
    "all_data[\"activity_day\"] = all_data[\"data_activity\"].dt.day\n",
    "all_data[\"activity_day_of_week\"] = all_data[\"data_activity\"].dt.weekday\n",
    "all_data[\"activity_week\"] = all_data[\"data_activity\"].dt.week\n",
    "all_data[\"activity_month\"] = all_data[\"data_activity\"].dt.month\n",
    "all_data[\"activity_trimester\"] = all_data[\"data_activity\"].dt.quarter\n",
    "all_data[\"activity_year\"] = all_data[\"data_activity\"].dt.year"
   ]
  },
  {
   "cell_type": "code",
   "execution_count": 27,
   "metadata": {
    "execution": {
     "iopub.execute_input": "2021-03-21T05:26:42.753113Z",
     "iopub.status.busy": "2021-03-21T05:26:42.752457Z",
     "iopub.status.idle": "2021-03-21T05:26:42.760589Z",
     "shell.execute_reply": "2021-03-21T05:26:42.759950Z"
    },
    "papermill": {
     "duration": 0.052319,
     "end_time": "2021-03-21T05:26:42.760731",
     "exception": false,
     "start_time": "2021-03-21T05:26:42.708412",
     "status": "completed"
    },
    "tags": []
   },
   "outputs": [
    {
     "name": "stdout",
     "output_type": "stream",
     "text": [
      "Types of variables later of 4to remplace 0\n",
      "int64     47\n",
      "object     9\n",
      "dtype: int64\n"
     ]
    }
   ],
   "source": [
    "#Delete the original date columns\n",
    "\n",
    "del(all_data[\"date\"])\n",
    "del(all_data[\"data_activity\"])\n",
    "\n",
    "types = pd.DataFrame(all_data.dtypes)\n",
    "print(\"Types of variables later of 4to remplace\",types.groupby(0).size())"
   ]
  },
  {
   "cell_type": "code",
   "execution_count": 28,
   "metadata": {
    "execution": {
     "iopub.execute_input": "2021-03-21T05:26:42.840440Z",
     "iopub.status.busy": "2021-03-21T05:26:42.839798Z",
     "iopub.status.idle": "2021-03-21T05:26:42.864009Z",
     "shell.execute_reply": "2021-03-21T05:26:42.864525Z"
    },
    "papermill": {
     "duration": 0.065922,
     "end_time": "2021-03-21T05:26:42.864699",
     "exception": false,
     "start_time": "2021-03-21T05:26:42.798777",
     "status": "completed"
    },
    "tags": []
   },
   "outputs": [
    {
     "data": {
      "text/html": [
       "<div>\n",
       "<style scoped>\n",
       "    .dataframe tbody tr th:only-of-type {\n",
       "        vertical-align: middle;\n",
       "    }\n",
       "\n",
       "    .dataframe tbody tr th {\n",
       "        vertical-align: top;\n",
       "    }\n",
       "\n",
       "    .dataframe thead th {\n",
       "        text-align: right;\n",
       "    }\n",
       "</style>\n",
       "<table border=\"1\" class=\"dataframe\">\n",
       "  <thead>\n",
       "    <tr style=\"text-align: right;\">\n",
       "      <th></th>\n",
       "      <th>people_id</th>\n",
       "      <th>activity_id</th>\n",
       "      <th>activity_category</th>\n",
       "      <th>activity_type</th>\n",
       "      <th>outcome</th>\n",
       "      <th>char_1</th>\n",
       "      <th>group_1</th>\n",
       "      <th>char_2</th>\n",
       "      <th>char_3</th>\n",
       "      <th>char_4</th>\n",
       "      <th>...</th>\n",
       "      <th>week</th>\n",
       "      <th>month</th>\n",
       "      <th>trimester</th>\n",
       "      <th>year</th>\n",
       "      <th>activity_day</th>\n",
       "      <th>activity_day_of_week</th>\n",
       "      <th>activity_week</th>\n",
       "      <th>activity_month</th>\n",
       "      <th>activity_trimester</th>\n",
       "      <th>activity_year</th>\n",
       "    </tr>\n",
       "  </thead>\n",
       "  <tbody>\n",
       "    <tr>\n",
       "      <th>0</th>\n",
       "      <td>100</td>\n",
       "      <td>1734928</td>\n",
       "      <td>4</td>\n",
       "      <td>76</td>\n",
       "      <td>0</td>\n",
       "      <td>type 2</td>\n",
       "      <td>17304</td>\n",
       "      <td>type 2</td>\n",
       "      <td>type 5</td>\n",
       "      <td>type 5</td>\n",
       "      <td>...</td>\n",
       "      <td>26</td>\n",
       "      <td>6</td>\n",
       "      <td>2</td>\n",
       "      <td>2021</td>\n",
       "      <td>26</td>\n",
       "      <td>5</td>\n",
       "      <td>34</td>\n",
       "      <td>8</td>\n",
       "      <td>3</td>\n",
       "      <td>2023</td>\n",
       "    </tr>\n",
       "    <tr>\n",
       "      <th>1</th>\n",
       "      <td>100</td>\n",
       "      <td>2434093</td>\n",
       "      <td>2</td>\n",
       "      <td>1</td>\n",
       "      <td>0</td>\n",
       "      <td>type 2</td>\n",
       "      <td>17304</td>\n",
       "      <td>type 2</td>\n",
       "      <td>type 5</td>\n",
       "      <td>type 5</td>\n",
       "      <td>...</td>\n",
       "      <td>26</td>\n",
       "      <td>6</td>\n",
       "      <td>2</td>\n",
       "      <td>2021</td>\n",
       "      <td>27</td>\n",
       "      <td>1</td>\n",
       "      <td>39</td>\n",
       "      <td>9</td>\n",
       "      <td>3</td>\n",
       "      <td>2022</td>\n",
       "    </tr>\n",
       "    <tr>\n",
       "      <th>2</th>\n",
       "      <td>100</td>\n",
       "      <td>3404049</td>\n",
       "      <td>2</td>\n",
       "      <td>1</td>\n",
       "      <td>0</td>\n",
       "      <td>type 2</td>\n",
       "      <td>17304</td>\n",
       "      <td>type 2</td>\n",
       "      <td>type 5</td>\n",
       "      <td>type 5</td>\n",
       "      <td>...</td>\n",
       "      <td>26</td>\n",
       "      <td>6</td>\n",
       "      <td>2</td>\n",
       "      <td>2021</td>\n",
       "      <td>27</td>\n",
       "      <td>1</td>\n",
       "      <td>39</td>\n",
       "      <td>9</td>\n",
       "      <td>3</td>\n",
       "      <td>2022</td>\n",
       "    </tr>\n",
       "    <tr>\n",
       "      <th>3</th>\n",
       "      <td>100</td>\n",
       "      <td>3651215</td>\n",
       "      <td>2</td>\n",
       "      <td>1</td>\n",
       "      <td>0</td>\n",
       "      <td>type 2</td>\n",
       "      <td>17304</td>\n",
       "      <td>type 2</td>\n",
       "      <td>type 5</td>\n",
       "      <td>type 5</td>\n",
       "      <td>...</td>\n",
       "      <td>26</td>\n",
       "      <td>6</td>\n",
       "      <td>2</td>\n",
       "      <td>2021</td>\n",
       "      <td>4</td>\n",
       "      <td>4</td>\n",
       "      <td>31</td>\n",
       "      <td>8</td>\n",
       "      <td>3</td>\n",
       "      <td>2023</td>\n",
       "    </tr>\n",
       "    <tr>\n",
       "      <th>4</th>\n",
       "      <td>100</td>\n",
       "      <td>4109017</td>\n",
       "      <td>2</td>\n",
       "      <td>1</td>\n",
       "      <td>0</td>\n",
       "      <td>type 2</td>\n",
       "      <td>17304</td>\n",
       "      <td>type 2</td>\n",
       "      <td>type 5</td>\n",
       "      <td>type 5</td>\n",
       "      <td>...</td>\n",
       "      <td>26</td>\n",
       "      <td>6</td>\n",
       "      <td>2</td>\n",
       "      <td>2021</td>\n",
       "      <td>26</td>\n",
       "      <td>5</td>\n",
       "      <td>34</td>\n",
       "      <td>8</td>\n",
       "      <td>3</td>\n",
       "      <td>2023</td>\n",
       "    </tr>\n",
       "  </tbody>\n",
       "</table>\n",
       "<p>5 rows × 56 columns</p>\n",
       "</div>"
      ],
      "text/plain": [
       "   people_id  activity_id  activity_category  activity_type  outcome  char_1  \\\n",
       "0        100      1734928                  4             76        0  type 2   \n",
       "1        100      2434093                  2              1        0  type 2   \n",
       "2        100      3404049                  2              1        0  type 2   \n",
       "3        100      3651215                  2              1        0  type 2   \n",
       "4        100      4109017                  2              1        0  type 2   \n",
       "\n",
       "   group_1  char_2  char_3  char_4  ... week month trimester  year  \\\n",
       "0    17304  type 2  type 5  type 5  ...   26     6         2  2021   \n",
       "1    17304  type 2  type 5  type 5  ...   26     6         2  2021   \n",
       "2    17304  type 2  type 5  type 5  ...   26     6         2  2021   \n",
       "3    17304  type 2  type 5  type 5  ...   26     6         2  2021   \n",
       "4    17304  type 2  type 5  type 5  ...   26     6         2  2021   \n",
       "\n",
       "  activity_day  activity_day_of_week  activity_week  activity_month  \\\n",
       "0           26                     5             34               8   \n",
       "1           27                     1             39               9   \n",
       "2           27                     1             39               9   \n",
       "3            4                     4             31               8   \n",
       "4           26                     5             34               8   \n",
       "\n",
       "   activity_trimester  activity_year  \n",
       "0                   3           2023  \n",
       "1                   3           2022  \n",
       "2                   3           2022  \n",
       "3                   3           2023  \n",
       "4                   3           2023  \n",
       "\n",
       "[5 rows x 56 columns]"
      ]
     },
     "execution_count": 28,
     "metadata": {},
     "output_type": "execute_result"
    }
   ],
   "source": [
    "all_data.head()"
   ]
  },
  {
   "cell_type": "code",
   "execution_count": 29,
   "metadata": {
    "execution": {
     "iopub.execute_input": "2021-03-21T05:26:42.947033Z",
     "iopub.status.busy": "2021-03-21T05:26:42.946371Z",
     "iopub.status.idle": "2021-03-21T05:26:44.354576Z",
     "shell.execute_reply": "2021-03-21T05:26:44.355163Z"
    },
    "papermill": {
     "duration": 1.450948,
     "end_time": "2021-03-21T05:26:44.355362",
     "exception": false,
     "start_time": "2021-03-21T05:26:42.904414",
     "status": "completed"
    },
    "tags": []
   },
   "outputs": [
    {
     "name": "stdout",
     "output_type": "stream",
     "text": [
      "The variable char_1contine:  2 distinct values\n",
      "The variable char_2contine:  3 distinct values\n",
      "The variable char_3contine:  43 distinct values\n",
      "The variable char_4contine:  25 distinct values\n",
      "The variable char_5contine:  9 distinct values\n",
      "The variable char_6contine:  7 distinct values\n",
      "The variable char_7contine:  25 distinct values\n",
      "The variable char_8contine:  8 distinct values\n",
      "The variable char_9contine:  9 distinct values\n"
     ]
    }
   ],
   "source": [
    "# We are going to evaluate the number of different variables again \n",
    "\n",
    "categorics = types.index[types[0] == 'O'].values \n",
    "for line in categorics:\n",
    "    print(\"The variable \"+ line +\"contine: \", str(len(all_data[line].unique()))+\" distinct values\")"
   ]
  },
  {
   "cell_type": "code",
   "execution_count": 30,
   "metadata": {
    "execution": {
     "iopub.execute_input": "2021-03-21T05:26:44.444895Z",
     "iopub.status.busy": "2021-03-21T05:26:44.444226Z",
     "iopub.status.idle": "2021-03-21T05:26:45.432156Z",
     "shell.execute_reply": "2021-03-21T05:26:45.432728Z"
    },
    "papermill": {
     "duration": 1.036085,
     "end_time": "2021-03-21T05:26:45.432958",
     "exception": false,
     "start_time": "2021-03-21T05:26:44.396873",
     "status": "completed"
    },
    "tags": []
   },
   "outputs": [],
   "source": [
    "# We gonna use one hot encoder for the rest of variables \n",
    "\n",
    "from sklearn.preprocessing import LabelEncoder,OneHotEncoder\n",
    "\n",
    "# Define dataframe's function and the column to return a dataframe later OHE\n",
    "def crea_OneHotEncoding(df, column):\n",
    "  le = LabelEncoder()\n",
    "  le_ajustado=le.fit_transform(df[column]).reshape(-1,1)\n",
    "  encoder = OneHotEncoder(sparse=False)\n",
    "  column = [column+ \"_\"+ str(i) for i in le.classes_]\n",
    "  data = encoder.fit_transform(le_ajustado)\n",
    "  return(pd.DataFrame(data,columns =column))"
   ]
  },
  {
   "cell_type": "code",
   "execution_count": 31,
   "metadata": {
    "execution": {
     "iopub.execute_input": "2021-03-21T05:26:45.523237Z",
     "iopub.status.busy": "2021-03-21T05:26:45.522504Z",
     "iopub.status.idle": "2021-03-21T05:27:15.696714Z",
     "shell.execute_reply": "2021-03-21T05:27:15.697490Z"
    },
    "papermill": {
     "duration": 30.22387,
     "end_time": "2021-03-21T05:27:15.697750",
     "exception": false,
     "start_time": "2021-03-21T05:26:45.473880",
     "status": "completed"
    },
    "tags": []
   },
   "outputs": [
    {
     "name": "stdout",
     "output_type": "stream",
     "text": [
      "Column  char_1  tranform!\n",
      "Column  char_2  tranform!\n",
      "Column  char_3  tranform!\n",
      "Column  char_4  tranform!\n",
      "Column  char_5  tranform!\n",
      "Column  char_6  tranform!\n",
      "Column  char_7  tranform!\n",
      "Column  char_8  tranform!\n",
      "Column  char_9  tranform!\n",
      "Finish size: (2197291, 177)\n"
     ]
    }
   ],
   "source": [
    "numeric_columns = list(set(types.index[types[0] ==\"int64\"].values) - set([\"outcome\"]))\n",
    "all_data_finish = all_data[numeric_columns]\n",
    "objetive = all_data[\"outcome\"]\n",
    "\n",
    "categories = types.index[types[0] == 'O'].values\n",
    "for column in categories:\n",
    "  df = crea_OneHotEncoding(all_data,column)\n",
    "  all_data_finish = pd.concat([all_data_finish,df],axis=1)\n",
    "  print(\"Column \",column, \" tranform!\")\n",
    "\n",
    "print(\"Finish size:\",all_data_finish.shape)"
   ]
  },
  {
   "cell_type": "code",
   "execution_count": 32,
   "metadata": {
    "execution": {
     "iopub.execute_input": "2021-03-21T05:27:15.789959Z",
     "iopub.status.busy": "2021-03-21T05:27:15.789340Z",
     "iopub.status.idle": "2021-03-21T05:27:21.406222Z",
     "shell.execute_reply": "2021-03-21T05:27:21.405618Z"
    },
    "papermill": {
     "duration": 5.663708,
     "end_time": "2021-03-21T05:27:21.406374",
     "exception": false,
     "start_time": "2021-03-21T05:27:15.742666",
     "status": "completed"
    },
    "tags": []
   },
   "outputs": [],
   "source": [
    "from sklearn.model_selection import train_test_split\n",
    "\n",
    "# Separte train set and test set  \n",
    "x_train, x_test, y_train, y_test = train_test_split(all_data,objetive, test_size=0.2,random_state=2020)\n",
    "\n",
    "# Create validation set\n",
    "x_train, x_val, y_train, y_val = train_test_split(x_train,y_train, test_size=0.1, random_state=2020)"
   ]
  },
  {
   "cell_type": "code",
   "execution_count": 33,
   "metadata": {
    "execution": {
     "iopub.execute_input": "2021-03-21T05:27:21.502067Z",
     "iopub.status.busy": "2021-03-21T05:27:21.501345Z",
     "iopub.status.idle": "2021-03-21T05:27:21.505694Z",
     "shell.execute_reply": "2021-03-21T05:27:21.505052Z"
    },
    "papermill": {
     "duration": 0.054723,
     "end_time": "2021-03-21T05:27:21.505832",
     "exception": false,
     "start_time": "2021-03-21T05:27:21.451109",
     "status": "completed"
    },
    "tags": []
   },
   "outputs": [
    {
     "name": "stdout",
     "output_type": "stream",
     "text": [
      "Shape of x_train: (1582048, 56)\n",
      "Shape of x_test: (439459, 56)\n",
      "Shape of x_val: (175784, 56)\n",
      "Shape of y_train: (1582048,)\n",
      "Shape of y_test: (439459,)\n",
      "Shape of y_val: (175784,)\n"
     ]
    }
   ],
   "source": [
    "print(\"Shape of x_train:\",x_train.shape)\n",
    "print(\"Shape of x_test:\",x_test.shape)\n",
    "print(\"Shape of x_val:\",x_val.shape)\n",
    "print(\"Shape of y_train:\",y_train.shape)\n",
    "print(\"Shape of y_test:\",y_test.shape)\n",
    "print(\"Shape of y_val:\",y_val.shape)"
   ]
  },
  {
   "cell_type": "markdown",
   "metadata": {
    "papermill": {
     "duration": 0.043431,
     "end_time": "2021-03-21T05:27:21.592999",
     "exception": false,
     "start_time": "2021-03-21T05:27:21.549568",
     "status": "completed"
    },
    "tags": []
   },
   "source": [
    "# <h1 id=\"architecture\">Proposed Architecture</h1>"
   ]
  },
  {
   "cell_type": "code",
   "execution_count": 34,
   "metadata": {
    "execution": {
     "iopub.execute_input": "2021-03-21T05:27:21.689533Z",
     "iopub.status.busy": "2021-03-21T05:27:21.688670Z",
     "iopub.status.idle": "2021-03-21T05:27:27.490702Z",
     "shell.execute_reply": "2021-03-21T05:27:27.491195Z"
    },
    "papermill": {
     "duration": 5.854121,
     "end_time": "2021-03-21T05:27:27.491377",
     "exception": false,
     "start_time": "2021-03-21T05:27:21.637256",
     "status": "completed"
    },
    "tags": []
   },
   "outputs": [
    {
     "name": "stdout",
     "output_type": "stream",
     "text": [
      "Model: \"sequential\"\n",
      "_________________________________________________________________\n",
      "Layer (type)                 Output Shape              Param #   \n",
      "=================================================================\n",
      "dense (Dense)                (None, 256)               14592     \n",
      "_________________________________________________________________\n",
      "dense_1 (Dense)              (None, 256)               65792     \n",
      "_________________________________________________________________\n",
      "dense_2 (Dense)              (None, 1)                 257       \n",
      "=================================================================\n",
      "Total params: 80,641\n",
      "Trainable params: 80,641\n",
      "Non-trainable params: 0\n",
      "_________________________________________________________________\n",
      "None\n"
     ]
    }
   ],
   "source": [
    "# We gonna use binary_crossentropy like loss function, sigmoid like wake-up function and the metric for evaluation will be the precision \"accuracy\"\n",
    "\n",
    "from keras.models import Sequential\n",
    "from keras.layers import Dense\n",
    "from keras.utils import plot_model\n",
    "\n",
    "# Create the neuronal network \n",
    "model = Sequential()\n",
    "model.add(Dense(256,input_dim = x_train.shape[1],activation=\"relu\"))\n",
    "model.add(Dense(256,activation=\"relu\"))\n",
    "model.add(Dense(1,activation = \"sigmoid\")) \n",
    "model.compile(optimizer = \"Adam\",loss=\"binary_crossentropy\",metrics=[\"accuracy\"])\n",
    "\n",
    "print(model.summary())"
   ]
  },
  {
   "cell_type": "code",
   "execution_count": 35,
   "metadata": {
    "execution": {
     "iopub.execute_input": "2021-03-21T05:27:27.586748Z",
     "iopub.status.busy": "2021-03-21T05:27:27.585804Z",
     "iopub.status.idle": "2021-03-21T05:27:28.244450Z",
     "shell.execute_reply": "2021-03-21T05:27:28.243891Z"
    },
    "papermill": {
     "duration": 0.708654,
     "end_time": "2021-03-21T05:27:28.244604",
     "exception": false,
     "start_time": "2021-03-21T05:27:27.535950",
     "status": "completed"
    },
    "tags": []
   },
   "outputs": [
    {
     "data": {
      "image/png": "[encoded data removed]",
      "text/plain": [
       "<IPython.core.display.Image object>"
      ]
     },
     "execution_count": 35,
     "metadata": {},
     "output_type": "execute_result"
    }
   ],
   "source": [
    "plot_model(model, to_file='model.png',show_shapes=True)"
   ]
  },
  {
   "cell_type": "code",
   "execution_count": 36,
   "metadata": {
    "execution": {
     "iopub.execute_input": "2021-03-21T05:27:31.313875Z",
     "iopub.status.busy": "2021-03-21T05:27:31.154557Z",
     "iopub.status.idle": "2021-03-21T05:27:32.821760Z",
     "shell.execute_reply": "2021-03-21T05:27:32.821170Z"
    },
    "papermill": {
     "duration": 4.53139,
     "end_time": "2021-03-21T05:27:32.821908",
     "exception": false,
     "start_time": "2021-03-21T05:27:28.290518",
     "status": "completed"
    },
    "tags": []
   },
   "outputs": [
    {
     "ename": "ValueError",
     "evalue": "could not convert string to float: 'type 2'",
     "output_type": "error",
     "traceback": [
      "\u001b[0;31m---------------------------------------------------------------------------\u001b[0m",
      "\u001b[0;31mValueError\u001b[0m                                Traceback (most recent call last)",
      "\u001b[0;32m<ipython-input-36-dc84ed5dbd1a>\u001b[0m in \u001b[0;36m<module>\u001b[0;34m\u001b[0m\n\u001b[0;32m----> 1\u001b[0;31m \u001b[0mx_train\u001b[0m \u001b[0;34m=\u001b[0m \u001b[0mnp\u001b[0m\u001b[0;34m.\u001b[0m\u001b[0masarray\u001b[0m\u001b[0;34m(\u001b[0m\u001b[0mx_train\u001b[0m\u001b[0;34m)\u001b[0m\u001b[0;34m.\u001b[0m\u001b[0mastype\u001b[0m\u001b[0;34m(\u001b[0m\u001b[0;34m'float32'\u001b[0m\u001b[0;34m)\u001b[0m\u001b[0;34m\u001b[0m\u001b[0;34m\u001b[0m\u001b[0m\n\u001b[0m\u001b[1;32m      2\u001b[0m \u001b[0my_train\u001b[0m \u001b[0;34m=\u001b[0m \u001b[0mnp\u001b[0m\u001b[0;34m.\u001b[0m\u001b[0masarray\u001b[0m\u001b[0;34m(\u001b[0m\u001b[0my_train\u001b[0m\u001b[0;34m)\u001b[0m\u001b[0;34m.\u001b[0m\u001b[0mastype\u001b[0m\u001b[0;34m(\u001b[0m\u001b[0;34m'float32'\u001b[0m\u001b[0;34m)\u001b[0m\u001b[0;34m\u001b[0m\u001b[0;34m\u001b[0m\u001b[0m\n",
      "\u001b[0;31mValueError\u001b[0m: could not convert string to float: 'type 2'"
     ]
    }
   ],
   "source": [
    "x_train = np.asarray(x_train).astype('float32')\n",
    "y_train = np.asarray(y_train).astype('float32')\n"
   ]
  },
  {
   "cell_type": "code",
   "execution_count": 37,
   "metadata": {
    "execution": {
     "iopub.execute_input": "2021-03-21T05:27:32.921963Z",
     "iopub.status.busy": "2021-03-21T05:27:32.921259Z",
     "iopub.status.idle": "2021-03-21T05:27:40.011438Z",
     "shell.execute_reply": "2021-03-21T05:27:40.010643Z"
    },
    "papermill": {
     "duration": 7.143263,
     "end_time": "2021-03-21T05:27:40.011600",
     "exception": false,
     "start_time": "2021-03-21T05:27:32.868337",
     "status": "completed"
    },
    "tags": []
   },
   "outputs": [
    {
     "ename": "ValueError",
     "evalue": "Failed to convert a NumPy array to a Tensor (Unsupported object type int).",
     "output_type": "error",
     "traceback": [
      "\u001b[0;31m---------------------------------------------------------------------------\u001b[0m",
      "\u001b[0;31mTypeError\u001b[0m                                 Traceback (most recent call last)",
      "\u001b[0;32m/opt/conda/lib/python3.7/site-packages/tensorflow/python/data/util/structure.py\u001b[0m in \u001b[0;36mnormalize_element\u001b[0;34m(element, element_signature)\u001b[0m\n\u001b[1;32m    105\u001b[0m         \u001b[0;32mif\u001b[0m \u001b[0mspec\u001b[0m \u001b[0;32mis\u001b[0m \u001b[0;32mNone\u001b[0m\u001b[0;34m:\u001b[0m\u001b[0;34m\u001b[0m\u001b[0;34m\u001b[0m\u001b[0m\n\u001b[0;32m--> 106\u001b[0;31m           \u001b[0mspec\u001b[0m \u001b[0;34m=\u001b[0m \u001b[0mtype_spec_from_value\u001b[0m\u001b[0;34m(\u001b[0m\u001b[0mt\u001b[0m\u001b[0;34m,\u001b[0m \u001b[0muse_fallback\u001b[0m\u001b[0;34m=\u001b[0m\u001b[0;32mFalse\u001b[0m\u001b[0;34m)\u001b[0m\u001b[0;34m\u001b[0m\u001b[0;34m\u001b[0m\u001b[0m\n\u001b[0m\u001b[1;32m    107\u001b[0m       \u001b[0;32mexcept\u001b[0m \u001b[0mTypeError\u001b[0m\u001b[0;34m:\u001b[0m\u001b[0;34m\u001b[0m\u001b[0;34m\u001b[0m\u001b[0m\n",
      "\u001b[0;32m/opt/conda/lib/python3.7/site-packages/tensorflow/python/data/util/structure.py\u001b[0m in \u001b[0;36mtype_spec_from_value\u001b[0;34m(element, use_fallback)\u001b[0m\n\u001b[1;32m    479\u001b[0m   raise TypeError(\"Could not build a TypeSpec for %r with type %s\" %\n\u001b[0;32m--> 480\u001b[0;31m                   (element, type(element).__name__))\n\u001b[0m\u001b[1;32m    481\u001b[0m \u001b[0;34m\u001b[0m\u001b[0m\n",
      "\u001b[0;31mTypeError\u001b[0m: Could not build a TypeSpec for          people_id  activity_id  activity_category  activity_type  outcome  \\\n1742909      38181       201572                  1              1        1   \n711687      220014       129651                  2              1        1   \n2054827      74877       762176                  5           4210        0   \n123820      113569      2945139                  4            201        1   \n1136372     293815      1012202                  2              1        1   \n...            ...          ...                ...            ...      ...   \n443665      172108      1961914                  4           2225        1   \n1384907     328622       205076                  1              1        1   \n64897       105739      3973908                  3             23        0   \n1172165     294918      3408360                  3             23        0   \n338464      152598       918776                  2              1        1   \n\n         char_1  group_1  char_2   char_3   char_4  ... week month trimester  \\\n1742909  type 2     7737  type 3  type 40  type 25  ...   26     6         2   \n711687   type 2    39786  type 3  type 13   type 7  ...   44    11         4   \n2054827  type 2    17304  type 2  type 13   type 6  ...   43    10         4   \n123820   type 2      585  type 3  type 40  type 25  ...   22     6         2   \n1136372  type 1    12166  type 1   type 7   type 7  ...   34     8         3   \n...         ...      ...     ...      ...      ...  ...  ...   ...       ...   \n443665   type 2     1270  type 3  type 40  type 25  ...   24     6         2   \n1384907  type 1    13285  type 1  type 15   type 2  ...   32     8         3   \n64897    type 2    17304  type 2  type 40  type 25  ...    8     2         1   \n1172165  type 2    17304  type 2  type 40  type 25  ...   41    10         4   \n338464   type 1     8657  type 1  type 21   type 4  ...   13     4         2   \n\n         year activity_day  activity_day_of_week  activity_week  \\\n1742909  2021           22                     5             42   \n711687   2022           22                     3             51   \n2054827  2022           29                     5             43   \n123820   2021           15                     3             24   \n1136372  2022           26                     5             47   \n...       ...          ...                   ...            ...   \n443665   2020           25                     3             34   \n1384907  2022           23                     3              8   \n64897    2021           28                     2             39   \n1172165  2022           20                     3             42   \n338464   2022           26                     1             30   \n\n         activity_month  activity_trimester  activity_year  \n1742909              10                   4           2022  \n711687               12                   4           2022  \n2054827              10                   4           2022  \n123820                6                   2           2023  \n1136372              11                   4           2022  \n...                 ...                 ...            ...  \n443665                8                   3           2022  \n1384907               2                   1           2023  \n64897                 9                   3           2022  \n1172165              10                   4           2022  \n338464                7                   3           2022  \n\n[1582048 rows x 56 columns] with type DataFrame",
      "\nDuring handling of the above exception, another exception occurred:\n",
      "\u001b[0;31mValueError\u001b[0m                                Traceback (most recent call last)",
      "\u001b[0;32m<ipython-input-37-dbd4de93a7c1>\u001b[0m in \u001b[0;36m<module>\u001b[0;34m\u001b[0m\n\u001b[0;32m----> 1\u001b[0;31m \u001b[0mmodel\u001b[0m\u001b[0;34m.\u001b[0m\u001b[0mfit\u001b[0m\u001b[0;34m(\u001b[0m\u001b[0mx_train\u001b[0m\u001b[0;34m,\u001b[0m\u001b[0my_train\u001b[0m\u001b[0;34m,\u001b[0m \u001b[0mvalidation_data\u001b[0m \u001b[0;34m=\u001b[0m \u001b[0;34m(\u001b[0m\u001b[0mx_val\u001b[0m\u001b[0;34m,\u001b[0m\u001b[0my_val\u001b[0m\u001b[0;34m)\u001b[0m\u001b[0;34m,\u001b[0m\u001b[0mepochs\u001b[0m\u001b[0;34m=\u001b[0m\u001b[0;36m5\u001b[0m\u001b[0;34m,\u001b[0m \u001b[0mbatch_size\u001b[0m\u001b[0;34m=\u001b[0m\u001b[0;36m128\u001b[0m\u001b[0;34m)\u001b[0m\u001b[0;34m\u001b[0m\u001b[0;34m\u001b[0m\u001b[0m\n\u001b[0m",
      "\u001b[0;32m/opt/conda/lib/python3.7/site-packages/tensorflow/python/keras/engine/training.py\u001b[0m in \u001b[0;36mfit\u001b[0;34m(self, x, y, batch_size, epochs, verbose, callbacks, validation_split, validation_data, shuffle, class_weight, sample_weight, initial_epoch, steps_per_epoch, validation_steps, validation_batch_size, validation_freq, max_queue_size, workers, use_multiprocessing)\u001b[0m\n\u001b[1;32m   1062\u001b[0m           \u001b[0muse_multiprocessing\u001b[0m\u001b[0;34m=\u001b[0m\u001b[0muse_multiprocessing\u001b[0m\u001b[0;34m,\u001b[0m\u001b[0;34m\u001b[0m\u001b[0;34m\u001b[0m\u001b[0m\n\u001b[1;32m   1063\u001b[0m           \u001b[0mmodel\u001b[0m\u001b[0;34m=\u001b[0m\u001b[0mself\u001b[0m\u001b[0;34m,\u001b[0m\u001b[0;34m\u001b[0m\u001b[0;34m\u001b[0m\u001b[0m\n\u001b[0;32m-> 1064\u001b[0;31m           steps_per_execution=self._steps_per_execution)\n\u001b[0m\u001b[1;32m   1065\u001b[0m \u001b[0;34m\u001b[0m\u001b[0m\n\u001b[1;32m   1066\u001b[0m       \u001b[0;31m# Container that configures and calls `tf.keras.Callback`s.\u001b[0m\u001b[0;34m\u001b[0m\u001b[0;34m\u001b[0m\u001b[0;34m\u001b[0m\u001b[0m\n",
      "\u001b[0;32m/opt/conda/lib/python3.7/site-packages/tensorflow/python/keras/engine/data_adapter.py\u001b[0m in \u001b[0;36m__init__\u001b[0;34m(self, x, y, sample_weight, batch_size, steps_per_epoch, initial_epoch, epochs, shuffle, class_weight, max_queue_size, workers, use_multiprocessing, model, steps_per_execution)\u001b[0m\n\u001b[1;32m   1110\u001b[0m         \u001b[0muse_multiprocessing\u001b[0m\u001b[0;34m=\u001b[0m\u001b[0muse_multiprocessing\u001b[0m\u001b[0;34m,\u001b[0m\u001b[0;34m\u001b[0m\u001b[0;34m\u001b[0m\u001b[0m\n\u001b[1;32m   1111\u001b[0m         \u001b[0mdistribution_strategy\u001b[0m\u001b[0;34m=\u001b[0m\u001b[0mds_context\u001b[0m\u001b[0;34m.\u001b[0m\u001b[0mget_strategy\u001b[0m\u001b[0;34m(\u001b[0m\u001b[0;34m)\u001b[0m\u001b[0;34m,\u001b[0m\u001b[0;34m\u001b[0m\u001b[0;34m\u001b[0m\u001b[0m\n\u001b[0;32m-> 1112\u001b[0;31m         model=model)\n\u001b[0m\u001b[1;32m   1113\u001b[0m \u001b[0;34m\u001b[0m\u001b[0m\n\u001b[1;32m   1114\u001b[0m     \u001b[0mstrategy\u001b[0m \u001b[0;34m=\u001b[0m \u001b[0mds_context\u001b[0m\u001b[0;34m.\u001b[0m\u001b[0mget_strategy\u001b[0m\u001b[0;34m(\u001b[0m\u001b[0;34m)\u001b[0m\u001b[0;34m\u001b[0m\u001b[0;34m\u001b[0m\u001b[0m\n",
      "\u001b[0;32m/opt/conda/lib/python3.7/site-packages/tensorflow/python/keras/engine/data_adapter.py\u001b[0m in \u001b[0;36m__init__\u001b[0;34m(self, x, y, sample_weights, sample_weight_modes, batch_size, epochs, steps, shuffle, **kwargs)\u001b[0m\n\u001b[1;32m    353\u001b[0m     \u001b[0mindices_dataset\u001b[0m \u001b[0;34m=\u001b[0m \u001b[0mindices_dataset\u001b[0m\u001b[0;34m.\u001b[0m\u001b[0mflat_map\u001b[0m\u001b[0;34m(\u001b[0m\u001b[0mslice_batch_indices\u001b[0m\u001b[0;34m)\u001b[0m\u001b[0;34m\u001b[0m\u001b[0;34m\u001b[0m\u001b[0m\n\u001b[1;32m    354\u001b[0m \u001b[0;34m\u001b[0m\u001b[0m\n\u001b[0;32m--> 355\u001b[0;31m     \u001b[0mdataset\u001b[0m \u001b[0;34m=\u001b[0m \u001b[0mself\u001b[0m\u001b[0;34m.\u001b[0m\u001b[0mslice_inputs\u001b[0m\u001b[0;34m(\u001b[0m\u001b[0mindices_dataset\u001b[0m\u001b[0;34m,\u001b[0m \u001b[0minputs\u001b[0m\u001b[0;34m)\u001b[0m\u001b[0;34m\u001b[0m\u001b[0;34m\u001b[0m\u001b[0m\n\u001b[0m\u001b[1;32m    356\u001b[0m \u001b[0;34m\u001b[0m\u001b[0m\n\u001b[1;32m    357\u001b[0m     \u001b[0;32mif\u001b[0m \u001b[0mshuffle\u001b[0m \u001b[0;34m==\u001b[0m \u001b[0;34m\"batch\"\u001b[0m\u001b[0;34m:\u001b[0m\u001b[0;34m\u001b[0m\u001b[0;34m\u001b[0m\u001b[0m\n",
      "\u001b[0;32m/opt/conda/lib/python3.7/site-packages/tensorflow/python/keras/engine/data_adapter.py\u001b[0m in \u001b[0;36mslice_inputs\u001b[0;34m(self, indices_dataset, inputs)\u001b[0m\n\u001b[1;32m    379\u001b[0m     dataset = dataset_ops.DatasetV2.zip((\n\u001b[1;32m    380\u001b[0m         \u001b[0mindices_dataset\u001b[0m\u001b[0;34m,\u001b[0m\u001b[0;34m\u001b[0m\u001b[0;34m\u001b[0m\u001b[0m\n\u001b[0;32m--> 381\u001b[0;31m         \u001b[0mdataset_ops\u001b[0m\u001b[0;34m.\u001b[0m\u001b[0mDatasetV2\u001b[0m\u001b[0;34m.\u001b[0m\u001b[0mfrom_tensors\u001b[0m\u001b[0;34m(\u001b[0m\u001b[0minputs\u001b[0m\u001b[0;34m)\u001b[0m\u001b[0;34m.\u001b[0m\u001b[0mrepeat\u001b[0m\u001b[0;34m(\u001b[0m\u001b[0;34m)\u001b[0m\u001b[0;34m\u001b[0m\u001b[0;34m\u001b[0m\u001b[0m\n\u001b[0m\u001b[1;32m    382\u001b[0m     ))\n\u001b[1;32m    383\u001b[0m \u001b[0;34m\u001b[0m\u001b[0m\n",
      "\u001b[0;32m/opt/conda/lib/python3.7/site-packages/tensorflow/python/data/ops/dataset_ops.py\u001b[0m in \u001b[0;36mfrom_tensors\u001b[0;34m(tensors)\u001b[0m\n\u001b[1;32m    611\u001b[0m       \u001b[0mDataset\u001b[0m\u001b[0;34m:\u001b[0m \u001b[0mA\u001b[0m\u001b[0;31m \u001b[0m\u001b[0;31m`\u001b[0m\u001b[0mDataset\u001b[0m\u001b[0;31m`\u001b[0m\u001b[0;34m.\u001b[0m\u001b[0;34m\u001b[0m\u001b[0;34m\u001b[0m\u001b[0m\n\u001b[1;32m    612\u001b[0m     \"\"\"\n\u001b[0;32m--> 613\u001b[0;31m     \u001b[0;32mreturn\u001b[0m \u001b[0mTensorDataset\u001b[0m\u001b[0;34m(\u001b[0m\u001b[0mtensors\u001b[0m\u001b[0;34m)\u001b[0m\u001b[0;34m\u001b[0m\u001b[0;34m\u001b[0m\u001b[0m\n\u001b[0m\u001b[1;32m    614\u001b[0m \u001b[0;34m\u001b[0m\u001b[0m\n\u001b[1;32m    615\u001b[0m   \u001b[0;34m@\u001b[0m\u001b[0mstaticmethod\u001b[0m\u001b[0;34m\u001b[0m\u001b[0;34m\u001b[0m\u001b[0m\n",
      "\u001b[0;32m/opt/conda/lib/python3.7/site-packages/tensorflow/python/data/ops/dataset_ops.py\u001b[0m in \u001b[0;36m__init__\u001b[0;34m(self, element)\u001b[0m\n\u001b[1;32m   3134\u001b[0m   \u001b[0;32mdef\u001b[0m \u001b[0m__init__\u001b[0m\u001b[0;34m(\u001b[0m\u001b[0mself\u001b[0m\u001b[0;34m,\u001b[0m \u001b[0melement\u001b[0m\u001b[0;34m)\u001b[0m\u001b[0;34m:\u001b[0m\u001b[0;34m\u001b[0m\u001b[0;34m\u001b[0m\u001b[0m\n\u001b[1;32m   3135\u001b[0m     \u001b[0;34m\"\"\"See `Dataset.from_tensors()` for details.\"\"\"\u001b[0m\u001b[0;34m\u001b[0m\u001b[0;34m\u001b[0m\u001b[0m\n\u001b[0;32m-> 3136\u001b[0;31m     \u001b[0melement\u001b[0m \u001b[0;34m=\u001b[0m \u001b[0mstructure\u001b[0m\u001b[0;34m.\u001b[0m\u001b[0mnormalize_element\u001b[0m\u001b[0;34m(\u001b[0m\u001b[0melement\u001b[0m\u001b[0;34m)\u001b[0m\u001b[0;34m\u001b[0m\u001b[0;34m\u001b[0m\u001b[0m\n\u001b[0m\u001b[1;32m   3137\u001b[0m     \u001b[0mself\u001b[0m\u001b[0;34m.\u001b[0m\u001b[0m_structure\u001b[0m \u001b[0;34m=\u001b[0m \u001b[0mstructure\u001b[0m\u001b[0;34m.\u001b[0m\u001b[0mtype_spec_from_value\u001b[0m\u001b[0;34m(\u001b[0m\u001b[0melement\u001b[0m\u001b[0;34m)\u001b[0m\u001b[0;34m\u001b[0m\u001b[0;34m\u001b[0m\u001b[0m\n\u001b[1;32m   3138\u001b[0m     \u001b[0mself\u001b[0m\u001b[0;34m.\u001b[0m\u001b[0m_tensors\u001b[0m \u001b[0;34m=\u001b[0m \u001b[0mstructure\u001b[0m\u001b[0;34m.\u001b[0m\u001b[0mto_tensor_list\u001b[0m\u001b[0;34m(\u001b[0m\u001b[0mself\u001b[0m\u001b[0;34m.\u001b[0m\u001b[0m_structure\u001b[0m\u001b[0;34m,\u001b[0m \u001b[0melement\u001b[0m\u001b[0;34m)\u001b[0m\u001b[0;34m\u001b[0m\u001b[0;34m\u001b[0m\u001b[0m\n",
      "\u001b[0;32m/opt/conda/lib/python3.7/site-packages/tensorflow/python/data/util/structure.py\u001b[0m in \u001b[0;36mnormalize_element\u001b[0;34m(element, element_signature)\u001b[0m\n\u001b[1;32m    109\u001b[0m         \u001b[0;31m# the value. As a fallback try converting the value to a tensor.\u001b[0m\u001b[0;34m\u001b[0m\u001b[0;34m\u001b[0m\u001b[0;34m\u001b[0m\u001b[0m\n\u001b[1;32m    110\u001b[0m         normalized_components.append(\n\u001b[0;32m--> 111\u001b[0;31m             ops.convert_to_tensor(t, name=\"component_%d\" % i))\n\u001b[0m\u001b[1;32m    112\u001b[0m       \u001b[0;32melse\u001b[0m\u001b[0;34m:\u001b[0m\u001b[0;34m\u001b[0m\u001b[0;34m\u001b[0m\u001b[0m\n\u001b[1;32m    113\u001b[0m         \u001b[0;32mif\u001b[0m \u001b[0misinstance\u001b[0m\u001b[0;34m(\u001b[0m\u001b[0mspec\u001b[0m\u001b[0;34m,\u001b[0m \u001b[0msparse_tensor\u001b[0m\u001b[0;34m.\u001b[0m\u001b[0mSparseTensorSpec\u001b[0m\u001b[0;34m)\u001b[0m\u001b[0;34m:\u001b[0m\u001b[0;34m\u001b[0m\u001b[0;34m\u001b[0m\u001b[0m\n",
      "\u001b[0;32m/opt/conda/lib/python3.7/site-packages/tensorflow/python/profiler/trace.py\u001b[0m in \u001b[0;36mwrapped\u001b[0;34m(*args, **kwargs)\u001b[0m\n\u001b[1;32m    161\u001b[0m         \u001b[0;32mwith\u001b[0m \u001b[0mTrace\u001b[0m\u001b[0;34m(\u001b[0m\u001b[0mtrace_name\u001b[0m\u001b[0;34m,\u001b[0m \u001b[0;34m**\u001b[0m\u001b[0mtrace_kwargs\u001b[0m\u001b[0;34m)\u001b[0m\u001b[0;34m:\u001b[0m\u001b[0;34m\u001b[0m\u001b[0;34m\u001b[0m\u001b[0m\n\u001b[1;32m    162\u001b[0m           \u001b[0;32mreturn\u001b[0m \u001b[0mfunc\u001b[0m\u001b[0;34m(\u001b[0m\u001b[0;34m*\u001b[0m\u001b[0margs\u001b[0m\u001b[0;34m,\u001b[0m \u001b[0;34m**\u001b[0m\u001b[0mkwargs\u001b[0m\u001b[0;34m)\u001b[0m\u001b[0;34m\u001b[0m\u001b[0;34m\u001b[0m\u001b[0m\n\u001b[0;32m--> 163\u001b[0;31m       \u001b[0;32mreturn\u001b[0m \u001b[0mfunc\u001b[0m\u001b[0;34m(\u001b[0m\u001b[0;34m*\u001b[0m\u001b[0margs\u001b[0m\u001b[0;34m,\u001b[0m \u001b[0;34m**\u001b[0m\u001b[0mkwargs\u001b[0m\u001b[0;34m)\u001b[0m\u001b[0;34m\u001b[0m\u001b[0;34m\u001b[0m\u001b[0m\n\u001b[0m\u001b[1;32m    164\u001b[0m \u001b[0;34m\u001b[0m\u001b[0m\n\u001b[1;32m    165\u001b[0m     \u001b[0;32mreturn\u001b[0m \u001b[0mwrapped\u001b[0m\u001b[0;34m\u001b[0m\u001b[0;34m\u001b[0m\u001b[0m\n",
      "\u001b[0;32m/opt/conda/lib/python3.7/site-packages/tensorflow/python/framework/ops.py\u001b[0m in \u001b[0;36mconvert_to_tensor\u001b[0;34m(value, dtype, name, as_ref, preferred_dtype, dtype_hint, ctx, accepted_result_types)\u001b[0m\n\u001b[1;32m   1538\u001b[0m \u001b[0;34m\u001b[0m\u001b[0m\n\u001b[1;32m   1539\u001b[0m     \u001b[0;32mif\u001b[0m \u001b[0mret\u001b[0m \u001b[0;32mis\u001b[0m \u001b[0;32mNone\u001b[0m\u001b[0;34m:\u001b[0m\u001b[0;34m\u001b[0m\u001b[0;34m\u001b[0m\u001b[0m\n\u001b[0;32m-> 1540\u001b[0;31m       \u001b[0mret\u001b[0m \u001b[0;34m=\u001b[0m \u001b[0mconversion_func\u001b[0m\u001b[0;34m(\u001b[0m\u001b[0mvalue\u001b[0m\u001b[0;34m,\u001b[0m \u001b[0mdtype\u001b[0m\u001b[0;34m=\u001b[0m\u001b[0mdtype\u001b[0m\u001b[0;34m,\u001b[0m \u001b[0mname\u001b[0m\u001b[0;34m=\u001b[0m\u001b[0mname\u001b[0m\u001b[0;34m,\u001b[0m \u001b[0mas_ref\u001b[0m\u001b[0;34m=\u001b[0m\u001b[0mas_ref\u001b[0m\u001b[0;34m)\u001b[0m\u001b[0;34m\u001b[0m\u001b[0;34m\u001b[0m\u001b[0m\n\u001b[0m\u001b[1;32m   1541\u001b[0m \u001b[0;34m\u001b[0m\u001b[0m\n\u001b[1;32m   1542\u001b[0m     \u001b[0;32mif\u001b[0m \u001b[0mret\u001b[0m \u001b[0;32mis\u001b[0m \u001b[0mNotImplemented\u001b[0m\u001b[0;34m:\u001b[0m\u001b[0;34m\u001b[0m\u001b[0;34m\u001b[0m\u001b[0m\n",
      "\u001b[0;32m/opt/conda/lib/python3.7/site-packages/tensorflow/python/framework/constant_op.py\u001b[0m in \u001b[0;36m_constant_tensor_conversion_function\u001b[0;34m(v, dtype, name, as_ref)\u001b[0m\n\u001b[1;32m    337\u001b[0m                                          as_ref=False):\n\u001b[1;32m    338\u001b[0m   \u001b[0m_\u001b[0m \u001b[0;34m=\u001b[0m \u001b[0mas_ref\u001b[0m\u001b[0;34m\u001b[0m\u001b[0;34m\u001b[0m\u001b[0m\n\u001b[0;32m--> 339\u001b[0;31m   \u001b[0;32mreturn\u001b[0m \u001b[0mconstant\u001b[0m\u001b[0;34m(\u001b[0m\u001b[0mv\u001b[0m\u001b[0;34m,\u001b[0m \u001b[0mdtype\u001b[0m\u001b[0;34m=\u001b[0m\u001b[0mdtype\u001b[0m\u001b[0;34m,\u001b[0m \u001b[0mname\u001b[0m\u001b[0;34m=\u001b[0m\u001b[0mname\u001b[0m\u001b[0;34m)\u001b[0m\u001b[0;34m\u001b[0m\u001b[0;34m\u001b[0m\u001b[0m\n\u001b[0m\u001b[1;32m    340\u001b[0m \u001b[0;34m\u001b[0m\u001b[0m\n\u001b[1;32m    341\u001b[0m \u001b[0;34m\u001b[0m\u001b[0m\n",
      "\u001b[0;32m/opt/conda/lib/python3.7/site-packages/tensorflow/python/framework/constant_op.py\u001b[0m in \u001b[0;36mconstant\u001b[0;34m(value, dtype, shape, name)\u001b[0m\n\u001b[1;32m    263\u001b[0m   \"\"\"\n\u001b[1;32m    264\u001b[0m   return _constant_impl(value, dtype, shape, name, verify_shape=False,\n\u001b[0;32m--> 265\u001b[0;31m                         allow_broadcast=True)\n\u001b[0m\u001b[1;32m    266\u001b[0m \u001b[0;34m\u001b[0m\u001b[0m\n\u001b[1;32m    267\u001b[0m \u001b[0;34m\u001b[0m\u001b[0m\n",
      "\u001b[0;32m/opt/conda/lib/python3.7/site-packages/tensorflow/python/framework/constant_op.py\u001b[0m in \u001b[0;36m_constant_impl\u001b[0;34m(value, dtype, shape, name, verify_shape, allow_broadcast)\u001b[0m\n\u001b[1;32m    274\u001b[0m       \u001b[0;32mwith\u001b[0m \u001b[0mtrace\u001b[0m\u001b[0;34m.\u001b[0m\u001b[0mTrace\u001b[0m\u001b[0;34m(\u001b[0m\u001b[0;34m\"tf.constant\"\u001b[0m\u001b[0;34m)\u001b[0m\u001b[0;34m:\u001b[0m\u001b[0;34m\u001b[0m\u001b[0;34m\u001b[0m\u001b[0m\n\u001b[1;32m    275\u001b[0m         \u001b[0;32mreturn\u001b[0m \u001b[0m_constant_eager_impl\u001b[0m\u001b[0;34m(\u001b[0m\u001b[0mctx\u001b[0m\u001b[0;34m,\u001b[0m \u001b[0mvalue\u001b[0m\u001b[0;34m,\u001b[0m \u001b[0mdtype\u001b[0m\u001b[0;34m,\u001b[0m \u001b[0mshape\u001b[0m\u001b[0;34m,\u001b[0m \u001b[0mverify_shape\u001b[0m\u001b[0;34m)\u001b[0m\u001b[0;34m\u001b[0m\u001b[0;34m\u001b[0m\u001b[0m\n\u001b[0;32m--> 276\u001b[0;31m     \u001b[0;32mreturn\u001b[0m \u001b[0m_constant_eager_impl\u001b[0m\u001b[0;34m(\u001b[0m\u001b[0mctx\u001b[0m\u001b[0;34m,\u001b[0m \u001b[0mvalue\u001b[0m\u001b[0;34m,\u001b[0m \u001b[0mdtype\u001b[0m\u001b[0;34m,\u001b[0m \u001b[0mshape\u001b[0m\u001b[0;34m,\u001b[0m \u001b[0mverify_shape\u001b[0m\u001b[0;34m)\u001b[0m\u001b[0;34m\u001b[0m\u001b[0;34m\u001b[0m\u001b[0m\n\u001b[0m\u001b[1;32m    277\u001b[0m \u001b[0;34m\u001b[0m\u001b[0m\n\u001b[1;32m    278\u001b[0m   \u001b[0mg\u001b[0m \u001b[0;34m=\u001b[0m \u001b[0mops\u001b[0m\u001b[0;34m.\u001b[0m\u001b[0mget_default_graph\u001b[0m\u001b[0;34m(\u001b[0m\u001b[0;34m)\u001b[0m\u001b[0;34m\u001b[0m\u001b[0;34m\u001b[0m\u001b[0m\n",
      "\u001b[0;32m/opt/conda/lib/python3.7/site-packages/tensorflow/python/framework/constant_op.py\u001b[0m in \u001b[0;36m_constant_eager_impl\u001b[0;34m(ctx, value, dtype, shape, verify_shape)\u001b[0m\n\u001b[1;32m    299\u001b[0m \u001b[0;32mdef\u001b[0m \u001b[0m_constant_eager_impl\u001b[0m\u001b[0;34m(\u001b[0m\u001b[0mctx\u001b[0m\u001b[0;34m,\u001b[0m \u001b[0mvalue\u001b[0m\u001b[0;34m,\u001b[0m \u001b[0mdtype\u001b[0m\u001b[0;34m,\u001b[0m \u001b[0mshape\u001b[0m\u001b[0;34m,\u001b[0m \u001b[0mverify_shape\u001b[0m\u001b[0;34m)\u001b[0m\u001b[0;34m:\u001b[0m\u001b[0;34m\u001b[0m\u001b[0;34m\u001b[0m\u001b[0m\n\u001b[1;32m    300\u001b[0m   \u001b[0;34m\"\"\"Implementation of eager constant.\"\"\"\u001b[0m\u001b[0;34m\u001b[0m\u001b[0;34m\u001b[0m\u001b[0m\n\u001b[0;32m--> 301\u001b[0;31m   \u001b[0mt\u001b[0m \u001b[0;34m=\u001b[0m \u001b[0mconvert_to_eager_tensor\u001b[0m\u001b[0;34m(\u001b[0m\u001b[0mvalue\u001b[0m\u001b[0;34m,\u001b[0m \u001b[0mctx\u001b[0m\u001b[0;34m,\u001b[0m \u001b[0mdtype\u001b[0m\u001b[0;34m)\u001b[0m\u001b[0;34m\u001b[0m\u001b[0;34m\u001b[0m\u001b[0m\n\u001b[0m\u001b[1;32m    302\u001b[0m   \u001b[0;32mif\u001b[0m \u001b[0mshape\u001b[0m \u001b[0;32mis\u001b[0m \u001b[0;32mNone\u001b[0m\u001b[0;34m:\u001b[0m\u001b[0;34m\u001b[0m\u001b[0;34m\u001b[0m\u001b[0m\n\u001b[1;32m    303\u001b[0m     \u001b[0;32mreturn\u001b[0m \u001b[0mt\u001b[0m\u001b[0;34m\u001b[0m\u001b[0;34m\u001b[0m\u001b[0m\n",
      "\u001b[0;32m/opt/conda/lib/python3.7/site-packages/tensorflow/python/framework/constant_op.py\u001b[0m in \u001b[0;36mconvert_to_eager_tensor\u001b[0;34m(value, ctx, dtype)\u001b[0m\n\u001b[1;32m     96\u001b[0m       \u001b[0mdtype\u001b[0m \u001b[0;34m=\u001b[0m \u001b[0mdtypes\u001b[0m\u001b[0;34m.\u001b[0m\u001b[0mas_dtype\u001b[0m\u001b[0;34m(\u001b[0m\u001b[0mdtype\u001b[0m\u001b[0;34m)\u001b[0m\u001b[0;34m.\u001b[0m\u001b[0mas_datatype_enum\u001b[0m\u001b[0;34m\u001b[0m\u001b[0;34m\u001b[0m\u001b[0m\n\u001b[1;32m     97\u001b[0m   \u001b[0mctx\u001b[0m\u001b[0;34m.\u001b[0m\u001b[0mensure_initialized\u001b[0m\u001b[0;34m(\u001b[0m\u001b[0;34m)\u001b[0m\u001b[0;34m\u001b[0m\u001b[0;34m\u001b[0m\u001b[0m\n\u001b[0;32m---> 98\u001b[0;31m   \u001b[0;32mreturn\u001b[0m \u001b[0mops\u001b[0m\u001b[0;34m.\u001b[0m\u001b[0mEagerTensor\u001b[0m\u001b[0;34m(\u001b[0m\u001b[0mvalue\u001b[0m\u001b[0;34m,\u001b[0m \u001b[0mctx\u001b[0m\u001b[0;34m.\u001b[0m\u001b[0mdevice_name\u001b[0m\u001b[0;34m,\u001b[0m \u001b[0mdtype\u001b[0m\u001b[0;34m)\u001b[0m\u001b[0;34m\u001b[0m\u001b[0;34m\u001b[0m\u001b[0m\n\u001b[0m\u001b[1;32m     99\u001b[0m \u001b[0;34m\u001b[0m\u001b[0m\n\u001b[1;32m    100\u001b[0m \u001b[0;34m\u001b[0m\u001b[0m\n",
      "\u001b[0;31mValueError\u001b[0m: Failed to convert a NumPy array to a Tensor (Unsupported object type int)."
     ]
    }
   ],
   "source": [
    "model.fit(x_train,y_train, validation_data = (x_val,y_val),epochs=5, batch_size=128)"
   ]
  },
  {
   "cell_type": "code",
   "execution_count": null,
   "metadata": {
    "papermill": {
     "duration": 0.046465,
     "end_time": "2021-03-21T05:27:40.105885",
     "exception": false,
     "start_time": "2021-03-21T05:27:40.059420",
     "status": "completed"
    },
    "tags": []
   },
   "outputs": [],
   "source": []
  }
 ],
 "metadata": {
  "kernelspec": {
   "display_name": "Python 3",
   "language": "python",
   "name": "python3"
  },
  "language_info": {
   "codemirror_mode": {
    "name": "ipython",
    "version": 3
   },
   "file_extension": ".py",
   "mimetype": "text/x-python",
   "name": "python",
   "nbconvert_exporter": "python",
   "pygments_lexer": "ipython3",
   "version": "3.7.9"
  },
  "papermill": {
   "default_parameters": {},
   "duration": 113.732576,
   "end_time": "2021-03-21T05:27:41.769138",
   "environment_variables": {},
   "exception": null,
   "input_path": "__notebook__.ipynb",
   "output_path": "__notebook__.ipynb",
   "parameters": {},
   "start_time": "2021-03-21T05:25:48.036562",
   "version": "2.2.2"
  }
 },
 "nbformat": 4,
 "nbformat_minor": 4
}
